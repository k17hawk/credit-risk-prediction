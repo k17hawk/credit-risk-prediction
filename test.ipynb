{
 "cells": [
  {
   "cell_type": "code",
   "execution_count": 1,
   "metadata": {},
   "outputs": [
    {
     "name": "stderr",
     "output_type": "stream",
     "text": [
      "24/09/16 12:39:48 WARN Utils: Your hostname, langchain resolves to a loopback address: 127.0.1.1; using 192.168.0.103 instead (on interface wlp3s0)\n",
      "24/09/16 12:39:48 WARN Utils: Set SPARK_LOCAL_IP if you need to bind to another address\n",
      "WARNING: An illegal reflective access operation has occurred\n",
      "WARNING: Illegal reflective access by org.apache.spark.unsafe.Platform (file:/media/lang_chain/Storage/Documents/credit-risk-prediction/.conda/lib/python3.10/site-packages/pyspark/jars/spark-unsafe_2.12-3.1.1.jar) to constructor java.nio.DirectByteBuffer(long,int)\n",
      "WARNING: Please consider reporting this to the maintainers of org.apache.spark.unsafe.Platform\n",
      "WARNING: Use --illegal-access=warn to enable warnings of further illegal reflective access operations\n",
      "WARNING: All illegal access operations will be denied in a future release\n",
      "24/09/16 12:39:48 WARN NativeCodeLoader: Unable to load native-hadoop library for your platform... using builtin-java classes where applicable\n",
      "Using Spark's default log4j profile: org/apache/spark/log4j-defaults.properties\n",
      "Setting default log level to \"WARN\".\n",
      "To adjust logging level use sc.setLogLevel(newLevel). For SparkR, use setLogLevel(newLevel).\n",
      "                                                                                \r"
     ]
    },
    {
     "name": "stdout",
     "output_type": "stream",
     "text": [
      "+----------+-------------+---------------------+-----------------+-----------------+----------+---------+-------------+-----------+-------------------+-------------------------+--------------------------+\n",
      "|person_age|person_income|person_home_ownership|person_emp_length|      loan_intent|loan_grade|loan_amnt|loan_int_rate|loan_status|loan_percent_income|cb_person_default_on_file|cb_person_cred_hist_length|\n",
      "+----------+-------------+---------------------+-----------------+-----------------+----------+---------+-------------+-----------+-------------------+-------------------------+--------------------------+\n",
      "|        22|        59000|                 RENT|            123.0|         PERSONAL|         D|    35000|        16.02|          1|               0.59|                        Y|                        3\n",
      "|        21|         9600|                  OWN|              5.0|        EDUCATION|         B|     1000|        11.14|          0|                0.1|                        N|                        2\n",
      "|        25|         9600|             MORTGAGE|              1.0|          MEDICAL|         C|     5500|        12.87|          1|               0.57|                        N|                        3\n",
      "|        23|        65500|                 RENT|              4.0|          MEDICAL|         C|    35000|        15.23|          1|               0.53|                        N|                        2\n",
      "|        24|        54400|                 RENT|              8.0|          MEDICAL|         C|    35000|        14.27|          1|               0.55|                        Y|                        4\n",
      "|        21|         9900|                  OWN|              2.0|          VENTURE|         A|     2500|         7.14|          1|               0.25|                        N|                        2\n",
      "|        26|        77100|                 RENT|              8.0|        EDUCATION|         B|    35000|        12.42|          1|               0.45|                        N|                        3\n",
      "|        24|        78956|                 RENT|              5.0|          MEDICAL|         B|    35000|        11.11|          1|               0.44|                        N|                        4\n",
      "|        24|        83000|                 RENT|              8.0|         PERSONAL|         A|    35000|          8.9|          1|               0.42|                        N|                        2\n",
      "|        21|        10000|                  OWN|              6.0|          VENTURE|         D|     1600|        14.74|          1|               0.16|                        N|                        3\n",
      "|        22|        85000|                 RENT|              6.0|          VENTURE|         B|    35000|        10.37|          1|               0.41|                        N|                        4\n",
      "|        21|        10000|                  OWN|              2.0|  HOMEIMPROVEMENT|         A|     4500|         8.63|          1|               0.45|                        N|                        2\n",
      "|        23|        95000|                 RENT|              2.0|          VENTURE|         A|    35000|          7.9|          1|               0.37|                        N|                        2\n",
      "|        26|       108160|                 RENT|              4.0|        EDUCATION|         E|    35000|        18.39|          1|               0.32|                        N|                        4\n",
      "|        23|       115000|                 RENT|              2.0|        EDUCATION|         A|    35000|          7.9|          0|                0.3|                        N|                        4\n",
      "|        23|       500000|             MORTGAGE|              7.0|DEBTCONSOLIDATION|         B|    30000|        10.65|          0|               0.06|                        N|                        3\n",
      "|        23|       120000|                 RENT|              0.0|        EDUCATION|         A|    35000|          7.9|          0|               0.29|                        N|                        4\n",
      "|        23|        92111|                 RENT|              7.0|          MEDICAL|         F|    35000|        20.25|          1|               0.32|                        N|                        4\n",
      "|        23|       113000|                 RENT|              8.0|DEBTCONSOLIDATION|         D|    35000|        18.25|          1|               0.31|                        N|                        4\n",
      "|        24|        10800|             MORTGAGE|              8.0|        EDUCATION|         B|     1750|        10.99|          1|               0.16|                        N|                        2\n",
      "+----------+-------------+---------------------+-----------------+-----------------+----------+---------+-------------+-----------+-------------------+-------------------------+--------------------------+\n",
      "only showing top 20 rows\n",
      "\n",
      "Row: [65162] Column: [12]\n",
      "Expected Column: ['loan_status', 'cb_person_default_on_file', 'person_home_ownership', 'loan_intent', 'loan_grade', 'person_age', 'person_income', 'person_emp_length', 'loan_amnt', 'loan_int_rate', 'loan_percent_income', 'cb_person_cred_hist_length']\n",
      "Present Columns: ['person_age', 'person_income', 'person_home_ownership', 'person_emp_length', 'loan_intent', 'loan_grade', 'loan_amnt', 'loan_int_rate', 'loan_status', 'loan_percent_income', 'cb_person_default_on_file', 'cb_person_cred_hist_length']\n"
     ]
    }
   ],
   "source": [
    "from datetime import datetime\n",
    "from credit_risk.entity import DataIngestionConfig,DataIngestionArtifact\n",
    "from credit_risk.entity.config_entity import DataValidationConfig\n",
    "from credit_risk.components.data_validation import DataValidation\n",
    "from credit_risk.entity.config_entity import  TrainingPipelineConfig\n",
    "from credit_risk.exception import CreditRiskException\n",
    "from credit_risk.components.data_ingestion import DataIngestion\n",
    "import os\n",
    "from credit_risk.pipeline.training import TrainingPipeline\n",
    "\n",
    "training_pipeline_config = TrainingPipelineConfig()\n",
    "tr = TrainingPipeline(training_pipeline_config=training_pipeline_config)\n",
    "tr.start() "
   ]
  },
  {
   "cell_type": "code",
   "execution_count": null,
   "metadata": {},
   "outputs": [],
   "source": []
  }
 ],
 "metadata": {
  "kernelspec": {
   "display_name": "Python 3",
   "language": "python",
   "name": "python3"
  },
  "language_info": {
   "codemirror_mode": {
    "name": "ipython",
    "version": 3
   },
   "file_extension": ".py",
   "mimetype": "text/x-python",
   "name": "python",
   "nbconvert_exporter": "python",
   "pygments_lexer": "ipython3",
   "version": "3.10.14"
  }
 },
 "nbformat": 4,
 "nbformat_minor": 2
}
