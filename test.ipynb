{
 "cells": [
  {
   "cell_type": "code",
   "execution_count": 1,
   "metadata": {},
   "outputs": [
    {
     "name": "stderr",
     "output_type": "stream",
     "text": [
      "24/09/16 19:04:40 WARN Utils: Your hostname, langchain resolves to a loopback address: 127.0.1.1; using 192.168.0.103 instead (on interface wlp3s0)\n",
      "24/09/16 19:04:40 WARN Utils: Set SPARK_LOCAL_IP if you need to bind to another address\n",
      "WARNING: An illegal reflective access operation has occurred\n",
      "WARNING: Illegal reflective access by org.apache.spark.unsafe.Platform (file:/media/lang_chain/Storage/Documents/credit-risk-prediction/.conda/lib/python3.10/site-packages/pyspark/jars/spark-unsafe_2.12-3.1.1.jar) to constructor java.nio.DirectByteBuffer(long,int)\n",
      "WARNING: Please consider reporting this to the maintainers of org.apache.spark.unsafe.Platform\n",
      "WARNING: Use --illegal-access=warn to enable warnings of further illegal reflective access operations\n",
      "WARNING: All illegal access operations will be denied in a future release\n",
      "24/09/16 19:04:41 WARN NativeCodeLoader: Unable to load native-hadoop library for your platform... using builtin-java classes where applicable\n",
      "Using Spark's default log4j profile: org/apache/spark/log4j-defaults.properties\n",
      "Setting default log level to \"WARN\".\n",
      "To adjust logging level use sc.setLogLevel(newLevel). For SparkR, use setLogLevel(newLevel).\n",
      "                                                                                \r"
     ]
    },
    {
     "name": "stdout",
     "output_type": "stream",
     "text": [
      "Row: [423553] Column: [12]\n",
      "Expected Column: ['loan_status', 'cb_person_default_on_file', 'person_home_ownership', 'loan_intent', 'loan_grade', 'person_age', 'person_income', 'person_emp_length', 'loan_amnt', 'loan_int_rate', 'loan_percent_income', 'cb_person_cred_hist_length']\n",
      "Present Columns: ['person_age', 'person_income', 'person_home_ownership', 'person_emp_length', 'loan_intent', 'loan_grade', 'loan_amnt', 'loan_int_rate', 'loan_status', 'loan_percent_income', 'cb_person_default_on_file', 'cb_person_cred_hist_length']\n"
     ]
    },
    {
     "name": "stderr",
     "output_type": "stream",
     "text": [
      "                                                                                \r"
     ]
    },
    {
     "name": "stdout",
     "output_type": "stream",
     "text": [
      "+----------+-------------+---------------------+-----------------+-----------------+----------+---------+-------------+-----------+-------------------+-------------------------+--------------------------+---------+\n",
      "|person_age|person_income|person_home_ownership|person_emp_length|      loan_intent|loan_grade|loan_amnt|loan_int_rate|loan_status|loan_percent_income|cb_person_default_on_file|cb_person_cred_hist_length|age_group|\n",
      "+----------+-------------+---------------------+-----------------+-----------------+----------+---------+-------------+-----------+-------------------+-------------------------+--------------------------+---------+\n",
      "|    20-25||       115731|             MORTGAGE|              4.0|DEBTCONSOLIDATION|         B|     9625|        10.74|          0|               0.08|                        N|                        3\n",
      "|    20-25||       135000|             MORTGAGE|              1.0|          VENTURE|         C|    15000|        15.96|          0|               0.11|                        Y|                        2\n",
      "|    20-25||       188004|             MORTGAGE|              4.0|        EDUCATION|         A|     2000|         8.59|          0|               0.01|                        N|                        4\n",
      "|    20-25||       188004|             MORTGAGE|              4.0|         PERSONAL|         A|     2000|         8.59|          0|               0.01|                        N|                        2\n",
      "|    20-25||        32652|             MORTGAGE|              0.0|         PERSONAL|         D|     6000|        14.61|          1|               0.18|                        N|                        4\n",
      "|    20-25||        34800|                 RENT|              3.0|          MEDICAL|         C|     7000|        13.61|          0|                0.2|                        Y|                        2\n",
      "|    20-25||        42000|                 RENT|              4.0|          VENTURE|         B|     6500|        11.71|          0|               0.15|                        N|                        2\n",
      "|    20-25||        64000|                 RENT|              3.0|          VENTURE|         D|    16000|        15.31|          1|               0.25|                        Y|                        4\n",
      "|    20-25||        65000|             MORTGAGE|              4.0|          VENTURE|         B|     4800|         9.99|          0|               0.07|                        N|                        4\n",
      "|    20-25||        77000|             MORTGAGE|              4.0|          VENTURE|         A|     6000|          8.0|          0|               0.08|                        N|                        2\n",
      "|    20-25||        85920|             MORTGAGE|              3.0|DEBTCONSOLIDATION|         A|    12000|         8.49|          0|               0.14|                        N|                        2\n",
      "|    20-25||        10000|                 RENT|              0.0|         PERSONAL|         D|     5000|        12.17|          1|                0.5|                        Y|                        2\n",
      "|    20-25||       100000|             MORTGAGE|              3.0|          VENTURE|         A|     6200|         8.49|          0|               0.06|                        N|                        4\n",
      "|    20-25||       100000|                  OWN|              5.0|         PERSONAL|         A|     5000|         7.14|          0|               0.05|                        N|                        3\n",
      "|    20-25||       100000|                 RENT|              1.0|DEBTCONSOLIDATION|         A|     7800|         7.88|          0|               0.08|                        N|                        2\n",
      "|    20-25||       101004|             MORTGAGE|              2.0|DEBTCONSOLIDATION|         B|    14000|        10.25|          0|               0.14|                        N|                        2\n",
      "|    20-25||       104000|             MORTGAGE|              5.0|        EDUCATION|         A|    15000|         9.63|          0|               0.14|                        N|                        4\n",
      "|    20-25||       104000|             MORTGAGE|              5.0|         PERSONAL|         A|    15000|         9.63|          0|               0.14|                        N|                        4\n",
      "|    20-25||       104740|             MORTGAGE|              5.0|        EDUCATION|         B|    19200|        11.99|          0|               0.18|                        N|                        2\n",
      "|    20-25||       104740|             MORTGAGE|              5.0|          MEDICAL|         B|    19200|        11.99|          0|               0.18|                        N|                        3\n",
      "+----------+-------------+---------------------+-----------------+-----------------+----------+---------+-------------+-----------+-------------------+-------------------------+--------------------------+---------+\n",
      "only showing top 20 rows\n",
      "\n",
      "None\n"
     ]
    }
   ],
   "source": [
    "from datetime import datetime\n",
    "from credit_risk.entity import DataIngestionConfig,DataIngestionArtifact\n",
    "from credit_risk.entity.config_entity import DataValidationConfig\n",
    "from credit_risk.components.data_validation import DataValidation\n",
    "from credit_risk.entity.config_entity import  TrainingPipelineConfig\n",
    "from credit_risk.exception import CreditRiskException\n",
    "from credit_risk.components.data_ingestion import DataIngestion\n",
    "import os\n",
    "from credit_risk.pipeline.training import TrainingPipeline\n",
    "\n",
    "training_pipeline_config = TrainingPipelineConfig()\n",
    "tr = TrainingPipeline(training_pipeline_config=training_pipeline_config)\n",
    "tr.start() "
   ]
  },
  {
   "cell_type": "code",
   "execution_count": null,
   "metadata": {},
   "outputs": [],
   "source": []
  },
  {
   "cell_type": "code",
   "execution_count": null,
   "metadata": {},
   "outputs": [],
   "source": []
  },
  {
   "cell_type": "code",
   "execution_count": null,
   "metadata": {},
   "outputs": [],
   "source": []
  },
  {
   "cell_type": "code",
   "execution_count": null,
   "metadata": {},
   "outputs": [],
   "source": []
  },
  {
   "cell_type": "code",
   "execution_count": null,
   "metadata": {},
   "outputs": [],
   "source": []
  },
  {
   "cell_type": "code",
   "execution_count": null,
   "metadata": {},
   "outputs": [
    {
     "name": "stderr",
     "output_type": "stream",
     "text": [
      "24/09/16 14:13:13 WARN Utils: Your hostname, langchain resolves to a loopback address: 127.0.1.1; using 192.168.0.103 instead (on interface wlp3s0)\n",
      "24/09/16 14:13:13 WARN Utils: Set SPARK_LOCAL_IP if you need to bind to another address\n",
      "WARNING: An illegal reflective access operation has occurred\n",
      "WARNING: Illegal reflective access by org.apache.spark.unsafe.Platform (file:/media/lang_chain/Storage/Documents/credit-risk-prediction/.conda/lib/python3.10/site-packages/pyspark/jars/spark-unsafe_2.12-3.1.1.jar) to constructor java.nio.DirectByteBuffer(long,int)\n",
      "WARNING: Please consider reporting this to the maintainers of org.apache.spark.unsafe.Platform\n",
      "WARNING: Use --illegal-access=warn to enable warnings of further illegal reflective access operations\n",
      "WARNING: All illegal access operations will be denied in a future release\n",
      "24/09/16 14:13:14 WARN NativeCodeLoader: Unable to load native-hadoop library for your platform... using builtin-java classes where applicable\n",
      "Using Spark's default log4j profile: org/apache/spark/log4j-defaults.properties\n",
      "Setting default log level to \"WARN\".\n",
      "To adjust logging level use sc.setLogLevel(newLevel). For SparkR, use setLogLevel(newLevel).\n"
     ]
    },
    {
     "name": "stdout",
     "output_type": "stream",
     "text": [
      "+----------+-------------+---------------------+-----------------+-----------------+----------+---------+-------------+-----------+-------------------+-------------------------+--------------------------+---------+\n",
      "|person_age|person_income|person_home_ownership|person_emp_length|      loan_intent|loan_grade|loan_amnt|loan_int_rate|loan_status|loan_percent_income|cb_person_default_on_file|cb_person_cred_hist_length|age_group|\n",
      "+----------+-------------+---------------------+-----------------+-----------------+----------+---------+-------------+-----------+-------------------+-------------------------+--------------------------+---------+\n",
      "|        22|        59000|                 RENT|            123.0|         PERSONAL|         D|    35000|        16.02|          1|               0.59|                        Y|                         3|    20-25|\n",
      "|        21|         9600|                  OWN|              5.0|        EDUCATION|         B|     1000|        11.14|          0|                0.1|                        N|                         2|    20-25|\n",
      "|        25|         9600|             MORTGAGE|              1.0|          MEDICAL|         C|     5500|        12.87|          1|               0.57|                        N|                         3|    20-25|\n",
      "|        23|        65500|                 RENT|              4.0|          MEDICAL|         C|    35000|        15.23|          1|               0.53|                        N|                         2|    20-25|\n",
      "|        24|        54400|                 RENT|              8.0|          MEDICAL|         C|    35000|        14.27|          1|               0.55|                        Y|                         4|    20-25|\n",
      "|        21|         9900|                  OWN|              2.0|          VENTURE|         A|     2500|         7.14|          1|               0.25|                        N|                         2|    20-25|\n",
      "|        26|        77100|                 RENT|              8.0|        EDUCATION|         B|    35000|        12.42|          1|               0.45|                        N|                         3|    20-25|\n",
      "|        24|        78956|                 RENT|              5.0|          MEDICAL|         B|    35000|        11.11|          1|               0.44|                        N|                         4|    20-25|\n",
      "|        24|        83000|                 RENT|              8.0|         PERSONAL|         A|    35000|          8.9|          1|               0.42|                        N|                         2|    20-25|\n",
      "|        21|        10000|                  OWN|              6.0|          VENTURE|         D|     1600|        14.74|          1|               0.16|                        N|                         3|    20-25|\n",
      "|        22|        85000|                 RENT|              6.0|          VENTURE|         B|    35000|        10.37|          1|               0.41|                        N|                         4|    20-25|\n",
      "|        21|        10000|                  OWN|              2.0|  HOMEIMPROVEMENT|         A|     4500|         8.63|          1|               0.45|                        N|                         2|    20-25|\n",
      "|        23|        95000|                 RENT|              2.0|          VENTURE|         A|    35000|          7.9|          1|               0.37|                        N|                         2|    20-25|\n",
      "|        26|       108160|                 RENT|              4.0|        EDUCATION|         E|    35000|        18.39|          1|               0.32|                        N|                         4|    20-25|\n",
      "|        23|       115000|                 RENT|              2.0|        EDUCATION|         A|    35000|          7.9|          0|                0.3|                        N|                         4|    20-25|\n",
      "|        23|       500000|             MORTGAGE|              7.0|DEBTCONSOLIDATION|         B|    30000|        10.65|          0|               0.06|                        N|                         3|    20-25|\n",
      "|        23|       120000|                 RENT|              0.0|        EDUCATION|         A|    35000|          7.9|          0|               0.29|                        N|                         4|    20-25|\n",
      "|        23|        92111|                 RENT|              7.0|          MEDICAL|         F|    35000|        20.25|          1|               0.32|                        N|                         4|    20-25|\n",
      "|        23|       113000|                 RENT|              8.0|DEBTCONSOLIDATION|         D|    35000|        18.25|          1|               0.31|                        N|                         4|    20-25|\n",
      "|        24|        10800|             MORTGAGE|              8.0|        EDUCATION|         B|     1750|        10.99|          1|               0.16|                        N|                         2|    20-25|\n",
      "+----------+-------------+---------------------+-----------------+-----------------+----------+---------+-------------+-----------+-------------------+-------------------------+--------------------------+---------+\n",
      "only showing top 20 rows\n",
      "\n"
     ]
    },
    {
     "name": "stderr",
     "output_type": "stream",
     "text": [
      "                                                                                \r"
     ]
    }
   ],
   "source": [
    "from credit_risk.ml.features import AgeGroupCategorizer\n",
    "from pyspark.sql import SparkSession\n",
    "spark = SparkSession.builder.master('local[*]').appName('credit-risk-prediction')\\\n",
    ".config(\"spark.executor.instances\", \"1\")\\\n",
    ".config(\"spark.executor.memory\", \"6g\")\\\n",
    ".config(\"spark.driver.memory\", \"6g\")\\\n",
    ".config(\"spark.executor.memoryOverhead\", \"8g\")\\\n",
    ".getOrCreate()\n",
    "data = spark.read.csv(\"Data/credit_risk_dataset.csv\",header=True)\n",
    "bins = [20, 26, 36, 46, 56, 66, 80]\n",
    "labels = ['20-25', '26-35', '36-45', '46-55', '56-65', '66-80']\n",
    "\n",
    "age_group_categorizer = AgeGroupCategorizer(inputCol='person_age', outputCol='age_group', bins=bins, labels=labels)\n",
    "\n",
    "# Apply the transformer to the training data\n",
    "training_data_transformed = age_group_categorizer.transform(data)\n",
    "\n",
    "training_data_transformed.show()"
   ]
  },
  {
   "cell_type": "code",
   "execution_count": null,
   "metadata": {},
   "outputs": [
    {
     "name": "stdout",
     "output_type": "stream",
     "text": [
      "+---------+-----+\n",
      "|age_group|count|\n",
      "+---------+-----+\n",
      "|    26-35|11834|\n",
      "|    20-25|17829|\n",
      "|    46-55|  434|\n",
      "|    36-45| 2360|\n",
      "|    66-80|   26|\n",
      "|    56-65|   98|\n",
      "+---------+-----+\n",
      "\n"
     ]
    }
   ],
   "source": [
    "tf = training_data_transformed.groupBy('age_group').count()\n",
    "tf.show()\n"
   ]
  },
  {
   "cell_type": "code",
   "execution_count": null,
   "metadata": {},
   "outputs": [
    {
     "name": "stdout",
     "output_type": "stream",
     "text": [
      "+----------+-------------+---------------------+-----------------+-----------------+----------+---------+-------------+-----------+-------------------+-------------------------+--------------------------+------------+\n",
      "|person_age|person_income|person_home_ownership|person_emp_length|      loan_intent|loan_grade|loan_amnt|loan_int_rate|loan_status|loan_percent_income|cb_person_default_on_file|cb_person_cred_hist_length|income_group|\n",
      "+----------+-------------+---------------------+-----------------+-----------------+----------+---------+-------------+-----------+-------------------+-------------------------+--------------------------+------------+\n",
      "|        22|        59000|                 RENT|            123.0|         PERSONAL|         D|    35000|        16.02|          1|               0.59|                        Y|                         3|      middle|\n",
      "|        21|         9600|                  OWN|              5.0|        EDUCATION|         B|     1000|        11.14|          0|                0.1|                        N|                         2|         low|\n",
      "|        25|         9600|             MORTGAGE|              1.0|          MEDICAL|         C|     5500|        12.87|          1|               0.57|                        N|                         3|         low|\n",
      "|        23|        65500|                 RENT|              4.0|          MEDICAL|         C|    35000|        15.23|          1|               0.53|                        N|                         2|      middle|\n",
      "|        24|        54400|                 RENT|              8.0|          MEDICAL|         C|    35000|        14.27|          1|               0.55|                        Y|                         4|      middle|\n",
      "|        21|         9900|                  OWN|              2.0|          VENTURE|         A|     2500|         7.14|          1|               0.25|                        N|                         2|         low|\n",
      "|        26|        77100|                 RENT|              8.0|        EDUCATION|         B|    35000|        12.42|          1|               0.45|                        N|                         3| high-middle|\n",
      "|        24|        78956|                 RENT|              5.0|          MEDICAL|         B|    35000|        11.11|          1|               0.44|                        N|                         4| high-middle|\n",
      "|        24|        83000|                 RENT|              8.0|         PERSONAL|         A|    35000|          8.9|          1|               0.42|                        N|                         2| high-middle|\n",
      "|        21|        10000|                  OWN|              6.0|          VENTURE|         D|     1600|        14.74|          1|               0.16|                        N|                         3|         low|\n",
      "|        22|        85000|                 RENT|              6.0|          VENTURE|         B|    35000|        10.37|          1|               0.41|                        N|                         4| high-middle|\n",
      "|        21|        10000|                  OWN|              2.0|  HOMEIMPROVEMENT|         A|     4500|         8.63|          1|               0.45|                        N|                         2|         low|\n",
      "|        23|        95000|                 RENT|              2.0|          VENTURE|         A|    35000|          7.9|          1|               0.37|                        N|                         2| high-middle|\n",
      "|        26|       108160|                 RENT|              4.0|        EDUCATION|         E|    35000|        18.39|          1|               0.32|                        N|                         4|        high|\n",
      "|        23|       115000|                 RENT|              2.0|        EDUCATION|         A|    35000|          7.9|          0|                0.3|                        N|                         4|        high|\n",
      "|        23|       500000|             MORTGAGE|              7.0|DEBTCONSOLIDATION|         B|    30000|        10.65|          0|               0.06|                        N|                         3|        high|\n",
      "|        23|       120000|                 RENT|              0.0|        EDUCATION|         A|    35000|          7.9|          0|               0.29|                        N|                         4|        high|\n",
      "|        23|        92111|                 RENT|              7.0|          MEDICAL|         F|    35000|        20.25|          1|               0.32|                        N|                         4| high-middle|\n",
      "|        23|       113000|                 RENT|              8.0|DEBTCONSOLIDATION|         D|    35000|        18.25|          1|               0.31|                        N|                         4|        high|\n",
      "|        24|        10800|             MORTGAGE|              8.0|        EDUCATION|         B|     1750|        10.99|          1|               0.16|                        N|                         2|         low|\n",
      "+----------+-------------+---------------------+-----------------+-----------------+----------+---------+-------------+-----------+-------------------+-------------------------+--------------------------+------------+\n",
      "only showing top 20 rows\n",
      "\n"
     ]
    }
   ],
   "source": [
    "from credit_risk.ml.features import IncomeGroupCategorizer\n",
    "\n",
    "income_group_categorizer = IncomeGroupCategorizer(inputCol='person_income', outputCol='income_group')\n",
    "\n",
    "# Apply the transformer to the training data\n",
    "training_data_transformed = income_group_categorizer.transform(data)\n",
    "\n",
    "# Apply the transformer to the validation data if needed\n",
    "# validation_data_transformed = income_group_categorizer.transform(validation_data)\n",
    "\n",
    "# Show the transformed data\n",
    "training_data_transformed.show()"
   ]
  },
  {
   "cell_type": "code",
   "execution_count": null,
   "metadata": {},
   "outputs": [
    {
     "name": "stderr",
     "output_type": "stream",
     "text": [
      "24/09/16 14:25:32 WARN Utils: Your hostname, langchain resolves to a loopback address: 127.0.1.1; using 192.168.0.103 instead (on interface wlp3s0)\n",
      "24/09/16 14:25:32 WARN Utils: Set SPARK_LOCAL_IP if you need to bind to another address\n",
      "WARNING: An illegal reflective access operation has occurred\n",
      "WARNING: Illegal reflective access by org.apache.spark.unsafe.Platform (file:/media/lang_chain/Storage/Documents/credit-risk-prediction/.conda/lib/python3.10/site-packages/pyspark/jars/spark-unsafe_2.12-3.1.1.jar) to constructor java.nio.DirectByteBuffer(long,int)\n",
      "WARNING: Please consider reporting this to the maintainers of org.apache.spark.unsafe.Platform\n",
      "WARNING: Use --illegal-access=warn to enable warnings of further illegal reflective access operations\n",
      "WARNING: All illegal access operations will be denied in a future release\n",
      "24/09/16 14:25:32 WARN NativeCodeLoader: Unable to load native-hadoop library for your platform... using builtin-java classes where applicable\n",
      "Using Spark's default log4j profile: org/apache/spark/log4j-defaults.properties\n",
      "Setting default log level to \"WARN\".\n",
      "To adjust logging level use sc.setLogLevel(newLevel). For SparkR, use setLogLevel(newLevel).\n"
     ]
    },
    {
     "name": "stdout",
     "output_type": "stream",
     "text": [
      "+----------+-------------+---------------------+-----------------+-----------------+----------+---------+-------------+-----------+-------------------+-------------------------+--------------------------+-----------------+\n",
      "|person_age|person_income|person_home_ownership|person_emp_length|      loan_intent|loan_grade|loan_amnt|loan_int_rate|loan_status|loan_percent_income|cb_person_default_on_file|cb_person_cred_hist_length|loan_amount_group|\n",
      "+----------+-------------+---------------------+-----------------+-----------------+----------+---------+-------------+-----------+-------------------+-------------------------+--------------------------+-----------------+\n",
      "|        22|        59000|                 RENT|            123.0|         PERSONAL|         D|    35000|        16.02|          1|               0.59|                        Y|                         3|        very high|\n",
      "|        21|         9600|                  OWN|              5.0|        EDUCATION|         B|     1000|        11.14|          0|                0.1|                        N|                         2|            small|\n",
      "|        25|         9600|             MORTGAGE|              1.0|          MEDICAL|         C|     5500|        12.87|          1|               0.57|                        N|                         3|           medium|\n",
      "|        23|        65500|                 RENT|              4.0|          MEDICAL|         C|    35000|        15.23|          1|               0.53|                        N|                         2|        very high|\n",
      "|        24|        54400|                 RENT|              8.0|          MEDICAL|         C|    35000|        14.27|          1|               0.55|                        Y|                         4|        very high|\n",
      "|        21|         9900|                  OWN|              2.0|          VENTURE|         A|     2500|         7.14|          1|               0.25|                        N|                         2|            small|\n",
      "|        26|        77100|                 RENT|              8.0|        EDUCATION|         B|    35000|        12.42|          1|               0.45|                        N|                         3|        very high|\n",
      "|        24|        78956|                 RENT|              5.0|          MEDICAL|         B|    35000|        11.11|          1|               0.44|                        N|                         4|        very high|\n",
      "|        24|        83000|                 RENT|              8.0|         PERSONAL|         A|    35000|          8.9|          1|               0.42|                        N|                         2|        very high|\n",
      "|        21|        10000|                  OWN|              6.0|          VENTURE|         D|     1600|        14.74|          1|               0.16|                        N|                         3|            small|\n",
      "|        22|        85000|                 RENT|              6.0|          VENTURE|         B|    35000|        10.37|          1|               0.41|                        N|                         4|        very high|\n",
      "|        21|        10000|                  OWN|              2.0|  HOMEIMPROVEMENT|         A|     4500|         8.63|          1|               0.45|                        N|                         2|            small|\n",
      "|        23|        95000|                 RENT|              2.0|          VENTURE|         A|    35000|          7.9|          1|               0.37|                        N|                         2|        very high|\n",
      "|        26|       108160|                 RENT|              4.0|        EDUCATION|         E|    35000|        18.39|          1|               0.32|                        N|                         4|        very high|\n",
      "|        23|       115000|                 RENT|              2.0|        EDUCATION|         A|    35000|          7.9|          0|                0.3|                        N|                         4|        very high|\n",
      "|        23|       500000|             MORTGAGE|              7.0|DEBTCONSOLIDATION|         B|    30000|        10.65|          0|               0.06|                        N|                         3|        very high|\n",
      "|        23|       120000|                 RENT|              0.0|        EDUCATION|         A|    35000|          7.9|          0|               0.29|                        N|                         4|        very high|\n",
      "|        23|        92111|                 RENT|              7.0|          MEDICAL|         F|    35000|        20.25|          1|               0.32|                        N|                         4|        very high|\n",
      "|        23|       113000|                 RENT|              8.0|DEBTCONSOLIDATION|         D|    35000|        18.25|          1|               0.31|                        N|                         4|        very high|\n",
      "|        24|        10800|             MORTGAGE|              8.0|        EDUCATION|         B|     1750|        10.99|          1|               0.16|                        N|                         2|            small|\n",
      "+----------+-------------+---------------------+-----------------+-----------------+----------+---------+-------------+-----------+-------------------+-------------------------+--------------------------+-----------------+\n",
      "only showing top 20 rows\n",
      "\n"
     ]
    }
   ],
   "source": [
    "from credit_risk.ml.features import LoanAmountCategorizer\n",
    "from pyspark.sql import SparkSession\n",
    "spark = SparkSession.builder.master('local[*]').appName('credit-risk-prediction')\\\n",
    ".config(\"spark.executor.instances\", \"1\")\\\n",
    ".config(\"spark.executor.memory\", \"6g\")\\\n",
    ".config(\"spark.driver.memory\", \"6g\")\\\n",
    ".config(\"spark.executor.memoryOverhead\", \"8g\")\\\n",
    ".getOrCreate()\n",
    "data = spark.read.csv(\"Data/credit_risk_dataset.csv\",header=True)\n",
    "loan_amount_categorizer = LoanAmountCategorizer(inputCol='loan_amnt', outputCol='loan_amount_group')\n",
    "\n",
    "# Apply the transformer to the training data\n",
    "training_data_transformed = loan_amount_categorizer.transform(data)\n",
    "\n",
    "# Apply the transformer to the validation data if needed\n",
    "# validation_data_transformed = income_group_categorizer.transform(validation_data)\n",
    "\n",
    "# Show the transformed data\n",
    "training_data_transformed.show()"
   ]
  },
  {
   "cell_type": "code",
   "execution_count": null,
   "metadata": {},
   "outputs": [
    {
     "name": "stderr",
     "output_type": "stream",
     "text": [
      "24/09/16 14:28:26 WARN Utils: Your hostname, langchain resolves to a loopback address: 127.0.1.1; using 192.168.0.103 instead (on interface wlp3s0)\n",
      "24/09/16 14:28:26 WARN Utils: Set SPARK_LOCAL_IP if you need to bind to another address\n",
      "WARNING: An illegal reflective access operation has occurred\n",
      "WARNING: Illegal reflective access by org.apache.spark.unsafe.Platform (file:/media/lang_chain/Storage/Documents/credit-risk-prediction/.conda/lib/python3.10/site-packages/pyspark/jars/spark-unsafe_2.12-3.1.1.jar) to constructor java.nio.DirectByteBuffer(long,int)\n",
      "WARNING: Please consider reporting this to the maintainers of org.apache.spark.unsafe.Platform\n",
      "WARNING: Use --illegal-access=warn to enable warnings of further illegal reflective access operations\n",
      "WARNING: All illegal access operations will be denied in a future release\n",
      "24/09/16 14:28:27 WARN NativeCodeLoader: Unable to load native-hadoop library for your platform... using builtin-java classes where applicable\n",
      "Using Spark's default log4j profile: org/apache/spark/log4j-defaults.properties\n",
      "Setting default log level to \"WARN\".\n",
      "To adjust logging level use sc.setLogLevel(newLevel). For SparkR, use setLogLevel(newLevel).\n"
     ]
    },
    {
     "name": "stdout",
     "output_type": "stream",
     "text": [
      "+----------+-------------+---------------------+-----------------+-----------------+----------+---------+-------------+-----------+-------------------+-------------------------+--------------------------+--------------------+------------------------+--------------------------+\n",
      "|person_age|person_income|person_home_ownership|person_emp_length|      loan_intent|loan_grade|loan_amnt|loan_int_rate|loan_status|loan_percent_income|cb_person_default_on_file|cb_person_cred_hist_length|loan_to_income_ratio|loan_to_emp_length_ratio|int_rate_to_loan_amt_ratio|\n",
      "+----------+-------------+---------------------+-----------------+-----------------+----------+---------+-------------+-----------+-------------------+-------------------------+--------------------------+--------------------+------------------------+--------------------------+\n",
      "|        22|        59000|                 RENT|            123.0|         PERSONAL|         D|    35000|        16.02|          1|               0.59|                        Y|                         3|  0.5932203389830508|    0.003514285714285714|      4.577142857142857E-4|\n",
      "|        21|         9600|                  OWN|              5.0|        EDUCATION|         B|     1000|        11.14|          0|                0.1|                        N|                         2| 0.10416666666666667|                   0.005|                   0.01114|\n",
      "|        25|         9600|             MORTGAGE|              1.0|          MEDICAL|         C|     5500|        12.87|          1|               0.57|                        N|                         3|  0.5729166666666666|    1.818181818181818E-4|                   0.00234|\n",
      "|        23|        65500|                 RENT|              4.0|          MEDICAL|         C|    35000|        15.23|          1|               0.53|                        N|                         2|  0.5343511450381679|    1.142857142857142...|      4.351428571428571...|\n",
      "|        24|        54400|                 RENT|              8.0|          MEDICAL|         C|    35000|        14.27|          1|               0.55|                        Y|                         4|  0.6433823529411765|    2.285714285714285...|      4.077142857142857E-4|\n",
      "|        21|         9900|                  OWN|              2.0|          VENTURE|         A|     2500|         7.14|          1|               0.25|                        N|                         2| 0.25252525252525254|                  8.0E-4|                  0.002856|\n",
      "|        26|        77100|                 RENT|              8.0|        EDUCATION|         B|    35000|        12.42|          1|               0.45|                        N|                         3| 0.45395590142671854|    2.285714285714285...|      3.548571428571428...|\n",
      "|        24|        78956|                 RENT|              5.0|          MEDICAL|         B|    35000|        11.11|          1|               0.44|                        N|                         4| 0.44328486752115104|    1.428571428571428...|      3.174285714285714E-4|\n",
      "|        24|        83000|                 RENT|              8.0|         PERSONAL|         A|    35000|          8.9|          1|               0.42|                        N|                         2| 0.42168674698795183|    2.285714285714285...|      2.542857142857142...|\n",
      "|        21|        10000|                  OWN|              6.0|          VENTURE|         D|     1600|        14.74|          1|               0.16|                        N|                         3|                0.16|                 0.00375|                 0.0092125|\n",
      "|        22|        85000|                 RENT|              6.0|          VENTURE|         B|    35000|        10.37|          1|               0.41|                        N|                         4|  0.4117647058823529|    1.714285714285714...|      2.962857142857142...|\n",
      "|        21|        10000|                  OWN|              2.0|  HOMEIMPROVEMENT|         A|     4500|         8.63|          1|               0.45|                        N|                         2|                0.45|    4.444444444444444...|      0.001917777777777778|\n",
      "|        23|        95000|                 RENT|              2.0|          VENTURE|         A|    35000|          7.9|          1|               0.37|                        N|                         2|  0.3684210526315789|    5.714285714285714E-5|      2.257142857142857...|\n",
      "|        26|       108160|                 RENT|              4.0|        EDUCATION|         E|    35000|        18.39|          1|               0.32|                        N|                         4|   0.323594674556213|    1.142857142857142...|      5.254285714285714E-4|\n",
      "|        23|       115000|                 RENT|              2.0|        EDUCATION|         A|    35000|          7.9|          0|                0.3|                        N|                         4| 0.30434782608695654|    5.714285714285714E-5|      2.257142857142857...|\n",
      "|        23|       500000|             MORTGAGE|              7.0|DEBTCONSOLIDATION|         B|    30000|        10.65|          0|               0.06|                        N|                         3|                0.06|    2.333333333333333...|                   3.55E-4|\n",
      "|        23|       120000|                 RENT|              0.0|        EDUCATION|         A|    35000|          7.9|          0|               0.29|                        N|                         4|  0.2916666666666667|                     0.0|      2.257142857142857...|\n",
      "|        23|        92111|                 RENT|              7.0|          MEDICAL|         F|    35000|        20.25|          1|               0.32|                        N|                         4|  0.3799763329026935|                  2.0E-4|      5.785714285714286E-4|\n",
      "|        23|       113000|                 RENT|              8.0|DEBTCONSOLIDATION|         D|    35000|        18.25|          1|               0.31|                        N|                         4| 0.30973451327433627|    2.285714285714285...|      5.214285714285714E-4|\n",
      "|        24|        10800|             MORTGAGE|              8.0|        EDUCATION|         B|     1750|        10.99|          1|               0.16|                        N|                         2| 0.16203703703703703|    0.004571428571428572|                   0.00628|\n",
      "+----------+-------------+---------------------+-----------------+-----------------+----------+---------+-------------+-----------+-------------------+-------------------------+--------------------------+--------------------+------------------------+--------------------------+\n",
      "only showing top 20 rows\n",
      "\n"
     ]
    }
   ],
   "source": [
    "from credit_risk.ml.features import RatioFeatureGenerator\n",
    "from pyspark.sql import SparkSession\n",
    "spark = SparkSession.builder.master('local[*]').appName('credit-risk-prediction')\\\n",
    ".config(\"spark.executor.instances\", \"1\")\\\n",
    ".config(\"spark.executor.memory\", \"6g\")\\\n",
    ".config(\"spark.driver.memory\", \"6g\")\\\n",
    ".config(\"spark.executor.memoryOverhead\", \"8g\")\\\n",
    ".getOrCreate()\n",
    "data = spark.read.csv(\"Data/credit_risk_dataset.csv\",header=True)\n",
    "# Initialize the transformer\n",
    "ratio_feature_generator = RatioFeatureGenerator()\n",
    "\n",
    "# Apply the transformer to the training data\n",
    "training_data_transformed = ratio_feature_generator.transform(data)\n",
    "\n",
    "training_data_transformed.show()\n"
   ]
  },
  {
   "cell_type": "code",
   "execution_count": null,
   "metadata": {},
   "outputs": [
    {
     "name": "stderr",
     "output_type": "stream",
     "text": [
      "24/09/16 16:28:24 WARN Utils: Your hostname, langchain resolves to a loopback address: 127.0.1.1; using 192.168.0.103 instead (on interface wlp3s0)\n",
      "24/09/16 16:28:24 WARN Utils: Set SPARK_LOCAL_IP if you need to bind to another address\n",
      "WARNING: An illegal reflective access operation has occurred\n",
      "WARNING: Illegal reflective access by org.apache.spark.unsafe.Platform (file:/media/lang_chain/Storage/Documents/credit-risk-prediction/.conda/lib/python3.10/site-packages/pyspark/jars/spark-unsafe_2.12-3.1.1.jar) to constructor java.nio.DirectByteBuffer(long,int)\n",
      "WARNING: Please consider reporting this to the maintainers of org.apache.spark.unsafe.Platform\n",
      "WARNING: Use --illegal-access=warn to enable warnings of further illegal reflective access operations\n",
      "WARNING: All illegal access operations will be denied in a future release\n",
      "24/09/16 16:28:24 WARN NativeCodeLoader: Unable to load native-hadoop library for your platform... using builtin-java classes where applicable\n",
      "Using Spark's default log4j profile: org/apache/spark/log4j-defaults.properties\n",
      "Setting default log level to \"WARN\".\n",
      "To adjust logging level use sc.setLogLevel(newLevel). For SparkR, use setLogLevel(newLevel).\n"
     ]
    },
    {
     "data": {
      "text/plain": [
       "person_age                    0\n",
       "person_income                 0\n",
       "person_home_ownership         0\n",
       "person_emp_length             0\n",
       "loan_intent                   0\n",
       "loan_grade                    0\n",
       "loan_amnt                     0\n",
       "loan_int_rate                 0\n",
       "loan_status                   0\n",
       "loan_percent_income           0\n",
       "cb_person_default_on_file     0\n",
       "cb_person_cred_hist_length    0\n",
       "dtype: int64"
      ]
     },
     "execution_count": 1,
     "metadata": {},
     "output_type": "execute_result"
    }
   ],
   "source": [
    "from credit_risk.ml.features import DataCleaner\n",
    "from pyspark.sql import SparkSession\n",
    "spark = SparkSession.builder.master('local[*]').appName('credit-risk-prediction')\\\n",
    ".config(\"spark.executor.instances\", \"1\")\\\n",
    ".config(\"spark.executor.memory\", \"6g\")\\\n",
    ".config(\"spark.driver.memory\", \"6g\")\\\n",
    ".config(\"spark.executor.memoryOverhead\", \"8g\")\\\n",
    ".getOrCreate()\n",
    "data = spark.read.csv(\"Data/credit_risk_dataset.csv\",header=True)\n",
    "\n",
    "data_cleaner = DataCleaner(\n",
    "    age_column='person_age',\n",
    "    age_threshold=80,\n",
    "    column_to_drop='index',\n",
    "    emp_length_column='person_emp_length',\n",
    "    emp_length_threshold=60\n",
    ")\n",
    "\n",
    "\n",
    "# Cleaning up the validation data\n",
    "validation_data_transformed = data_cleaner.transform(data)\n",
    "\n",
    "tt  =validation_data_transformed.toPandas()\n",
    "tt.isnull().sum()"
   ]
  },
  {
   "cell_type": "code",
   "execution_count": null,
   "metadata": {},
   "outputs": [
    {
     "data": {
      "text/plain": [
       "(28631, 12)"
      ]
     },
     "execution_count": 3,
     "metadata": {},
     "output_type": "execute_result"
    }
   ],
   "source": [
    "tt.shape"
   ]
  },
  {
   "cell_type": "code",
   "execution_count": null,
   "metadata": {},
   "outputs": [
    {
     "name": "stderr",
     "output_type": "stream",
     "text": [
      "24/09/16 16:52:26 WARN Utils: Your hostname, langchain resolves to a loopback address: 127.0.1.1; using 192.168.0.103 instead (on interface wlp3s0)\n",
      "24/09/16 16:52:26 WARN Utils: Set SPARK_LOCAL_IP if you need to bind to another address\n",
      "WARNING: An illegal reflective access operation has occurred\n",
      "WARNING: Illegal reflective access by org.apache.spark.unsafe.Platform (file:/media/lang_chain/Storage/Documents/credit-risk-prediction/.conda/lib/python3.10/site-packages/pyspark/jars/spark-unsafe_2.12-3.1.1.jar) to constructor java.nio.DirectByteBuffer(long,int)\n",
      "WARNING: Please consider reporting this to the maintainers of org.apache.spark.unsafe.Platform\n",
      "WARNING: Use --illegal-access=warn to enable warnings of further illegal reflective access operations\n",
      "WARNING: All illegal access operations will be denied in a future release\n",
      "24/09/16 16:52:27 WARN NativeCodeLoader: Unable to load native-hadoop library for your platform... using builtin-java classes where applicable\n",
      "Using Spark's default log4j profile: org/apache/spark/log4j-defaults.properties\n",
      "Setting default log level to \"WARN\".\n",
      "To adjust logging level use sc.setLogLevel(newLevel). For SparkR, use setLogLevel(newLevel).\n"
     ]
    },
    {
     "name": "stdout",
     "output_type": "stream",
     "text": [
      "+-----------+-----+\n",
      "|loan_status|count|\n",
      "+-----------+-----+\n",
      "|          0|25473|\n",
      "|          1|25473|\n",
      "+-----------+-----+\n",
      "\n"
     ]
    }
   ],
   "source": [
    "from credit_risk.ml.features import DataUpsampler\n",
    "from pyspark.sql import SparkSession\n",
    "spark = SparkSession.builder.master('local[*]').appName('credit-risk-prediction')\\\n",
    ".config(\"spark.executor.instances\", \"1\")\\\n",
    ".config(\"spark.executor.memory\", \"6g\")\\\n",
    ".config(\"spark.driver.memory\", \"6g\")\\\n",
    ".config(\"spark.executor.memoryOverhead\", \"8g\")\\\n",
    ".getOrCreate()\n",
    "data = spark.read.csv(\"Data/credit_risk_dataset.csv\",header=True)\n",
    "\n",
    "upsampler = DataUpsampler(data, \"loan_status\")\n",
    "\n",
    "upsampled_train_df = upsampler.upsample_data()\n",
    "\n",
    "# Show class distribution after upsampling\n",
    "yp = upsampled_train_df.groupBy('loan_status').count()\n",
    "yp.show()\n",
    "\n"
   ]
  },
  {
   "cell_type": "code",
   "execution_count": null,
   "metadata": {},
   "outputs": [],
   "source": []
  }
 ],
 "metadata": {
  "kernelspec": {
   "display_name": "Python 3",
   "language": "python",
   "name": "python3"
  },
  "language_info": {
   "codemirror_mode": {
    "name": "ipython",
    "version": 3
   },
   "file_extension": ".py",
   "mimetype": "text/x-python",
   "name": "python",
   "nbconvert_exporter": "python",
   "pygments_lexer": "ipython3",
   "version": "3.10.14"
  }
 },
 "nbformat": 4,
 "nbformat_minor": 2
}
