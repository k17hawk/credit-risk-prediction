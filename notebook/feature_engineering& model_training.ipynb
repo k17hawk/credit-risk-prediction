{
 "cells": [
  {
   "cell_type": "code",
   "execution_count": 1,
   "metadata": {},
   "outputs": [],
   "source": [
    "from pyspark.sql import SparkSession\n",
    "import seaborn as sns\n",
    "from pyspark.sql.functions import col, count, sum,DataFrame,when\n",
    "from pyspark.sql.types import NumericType,StringType\n",
    "from pyspark.sql import functions as F\n",
    "import matplotlib.pyplot as plt\n",
    "from pyspark.sql.window import Window\n"
   ]
  },
  {
   "cell_type": "code",
   "execution_count": 2,
   "metadata": {},
   "outputs": [
    {
     "name": "stderr",
     "output_type": "stream",
     "text": [
      "24/09/25 16:28:11 WARN Utils: Your hostname, langchain resolves to a loopback address: 127.0.1.1; using 192.168.0.103 instead (on interface wlp3s0)\n",
      "24/09/25 16:28:11 WARN Utils: Set SPARK_LOCAL_IP if you need to bind to another address\n",
      "WARNING: An illegal reflective access operation has occurred\n",
      "WARNING: Illegal reflective access by org.apache.spark.unsafe.Platform (file:/media/lang_chain/Storage/Documents/credit-risk-prediction/.conda/lib/python3.10/site-packages/pyspark/jars/spark-unsafe_2.12-3.1.1.jar) to constructor java.nio.DirectByteBuffer(long,int)\n",
      "WARNING: Please consider reporting this to the maintainers of org.apache.spark.unsafe.Platform\n",
      "WARNING: Use --illegal-access=warn to enable warnings of further illegal reflective access operations\n",
      "WARNING: All illegal access operations will be denied in a future release\n",
      "24/09/25 16:28:11 WARN NativeCodeLoader: Unable to load native-hadoop library for your platform... using builtin-java classes where applicable\n",
      "Using Spark's default log4j profile: org/apache/spark/log4j-defaults.properties\n",
      "Setting default log level to \"WARN\".\n",
      "To adjust logging level use sc.setLogLevel(newLevel). For SparkR, use setLogLevel(newLevel).\n",
      "24/09/25 16:28:12 WARN Utils: Service 'SparkUI' could not bind on port 4040. Attempting port 4041.\n"
     ]
    }
   ],
   "source": [
    "spark = SparkSession.builder.master('local[*]').appName('credit-risk-prediction')\\\n",
    ".config(\"spark.executor.instances\", \"1\")\\\n",
    ".config(\"spark.executor.memory\", \"4g\") \\\n",
    ".config(\"spark.driver.memory\", \"4g\") \\\n",
    ".config(\"spark.executor.memoryOverhead\", \"4g\") \\\n",
    ".getOrCreate()"
   ]
  },
  {
   "cell_type": "code",
   "execution_count": 3,
   "metadata": {},
   "outputs": [],
   "source": [
    "csv_file_path = '../Data/credit_risk_dataset.csv'\n",
    "df = spark.read.csv(csv_file_path, header=True, inferSchema=True)"
   ]
  },
  {
   "cell_type": "code",
   "execution_count": 4,
   "metadata": {},
   "outputs": [],
   "source": [
    "(training_data, validation_data) = df.randomSplit([0.8, 0.2], seed=42)"
   ]
  },
  {
   "cell_type": "code",
   "execution_count": 5,
   "metadata": {},
   "outputs": [],
   "source": [
    "def drop_null_values(df: DataFrame) -> DataFrame:\n",
    "    return df.dropna()\n",
    "training_data = drop_null_values(training_data)\n",
    "validation_data = drop_null_values(validation_data)\n"
   ]
  },
  {
   "cell_type": "code",
   "execution_count": 6,
   "metadata": {},
   "outputs": [],
   "source": [
    "def drop_age_above_threshold(df, age_column, threshold):\n",
    "    return df.filter(F.col(age_column) <= threshold)\n",
    "\n",
    "training_data = drop_age_above_threshold(training_data, 'person_age', 80)\n",
    "\n",
    "validation_data = drop_age_above_threshold(validation_data, 'person_age', 80)"
   ]
  },
  {
   "cell_type": "code",
   "execution_count": 7,
   "metadata": {},
   "outputs": [
    {
     "data": {
      "text/plain": [
       "person_age                    0\n",
       "person_income                 0\n",
       "person_home_ownership         0\n",
       "person_emp_length             0\n",
       "loan_intent                   0\n",
       "loan_grade                    0\n",
       "loan_amnt                     0\n",
       "loan_int_rate                 0\n",
       "loan_status                   0\n",
       "loan_percent_income           0\n",
       "cb_person_default_on_file     0\n",
       "cb_person_cred_hist_length    0\n",
       "dtype: int64"
      ]
     },
     "execution_count": 7,
     "metadata": {},
     "output_type": "execute_result"
    }
   ],
   "source": [
    "dt = training_data.toPandas()\n",
    "dt.isnull().sum()"
   ]
  },
  {
   "cell_type": "code",
   "execution_count": 8,
   "metadata": {},
   "outputs": [],
   "source": [
    "def categorize_age_groups(df, age_column, bins, labels, output_column):\n",
    "\n",
    "    def assign_age_group(age):\n",
    "        for i in range(len(bins) - 1):\n",
    "            if bins[i] <= age <= bins[i + 1]:\n",
    "                return labels[i]\n",
    "        return labels[-1] \n",
    "\n",
    "    age_group_udf = F.udf(assign_age_group, StringType())\n",
    "    return df.withColumn(output_column, age_group_udf(F.col(age_column)))\n",
    "\n",
    "bins = [20, 26, 36, 46, 56, 66, 80]  \n",
    "labels = ['20-25', '26-35', '36-45', '46-55', '56-65', '66-80']\n",
    "training_data = categorize_age_groups(training_data, 'person_age', bins, labels, 'age_group')\n",
    "validation_data = categorize_age_groups(validation_data, 'person_age', bins, labels, 'age_group')\n",
    "\n",
    "\n"
   ]
  },
  {
   "cell_type": "code",
   "execution_count": 9,
   "metadata": {},
   "outputs": [
    {
     "name": "stderr",
     "output_type": "stream",
     "text": [
      "                                                                                \r"
     ]
    },
    {
     "name": "stdout",
     "output_type": "stream",
     "text": [
      "+---------+\n",
      "|age_group|\n",
      "+---------+\n",
      "|    26-35|\n",
      "|    20-25|\n",
      "|    46-55|\n",
      "|    36-45|\n",
      "|    66-80|\n",
      "|    56-65|\n",
      "+---------+\n",
      "\n"
     ]
    }
   ],
   "source": [
    "\n",
    "training_data.select('age_group').distinct().show()"
   ]
  },
  {
   "cell_type": "code",
   "execution_count": 10,
   "metadata": {},
   "outputs": [
    {
     "name": "stdout",
     "output_type": "stream",
     "text": [
      "+---------+\n",
      "|age_group|\n",
      "+---------+\n",
      "|    20-25|\n",
      "|    20-25|\n",
      "|    20-25|\n",
      "|    20-25|\n",
      "|    20-25|\n",
      "|    20-25|\n",
      "|    20-25|\n",
      "|    20-25|\n",
      "|    20-25|\n",
      "|    20-25|\n",
      "|    20-25|\n",
      "|    20-25|\n",
      "|    20-25|\n",
      "|    20-25|\n",
      "|    20-25|\n",
      "|    20-25|\n",
      "|    20-25|\n",
      "|    20-25|\n",
      "|    20-25|\n",
      "|    20-25|\n",
      "+---------+\n",
      "only showing top 20 rows\n",
      "\n"
     ]
    }
   ],
   "source": [
    "\n",
    "training_data.select('age_group').show()"
   ]
  },
  {
   "cell_type": "code",
   "execution_count": 11,
   "metadata": {},
   "outputs": [
    {
     "data": {
      "text/plain": [
       "person_age                    0\n",
       "person_income                 0\n",
       "person_home_ownership         0\n",
       "person_emp_length             0\n",
       "loan_intent                   0\n",
       "loan_grade                    0\n",
       "loan_amnt                     0\n",
       "loan_int_rate                 0\n",
       "loan_status                   0\n",
       "loan_percent_income           0\n",
       "cb_person_default_on_file     0\n",
       "cb_person_cred_hist_length    0\n",
       "age_group                     0\n",
       "dtype: int64"
      ]
     },
     "execution_count": 11,
     "metadata": {},
     "output_type": "execute_result"
    }
   ],
   "source": [
    "dt = training_data.toPandas()\n",
    "dt.isnull().sum()"
   ]
  },
  {
   "cell_type": "code",
   "execution_count": 12,
   "metadata": {},
   "outputs": [],
   "source": [
    "def assign_income_group(df: DataFrame, column: str) -> DataFrame:\n",
    "\n",
    "    df = df.withColumn(\n",
    "        'income_group',\n",
    "        F.when(F.col(column).between(0, 25000), 'low')\n",
    "        .when(F.col(column).between(25001, 50000), 'low-middle')\n",
    "        .when(F.col(column).between(50001, 75000), 'middle')\n",
    "        .when(F.col(column).between(75001, 100000), 'high-middle')\n",
    "        .otherwise('high')\n",
    "    )\n",
    "    \n",
    "    return df\n",
    "training_data = assign_income_group(training_data, 'person_income')"
   ]
  },
  {
   "cell_type": "code",
   "execution_count": 13,
   "metadata": {},
   "outputs": [],
   "source": [
    "validation_data = assign_income_group(validation_data, 'person_income')"
   ]
  },
  {
   "cell_type": "code",
   "execution_count": 14,
   "metadata": {},
   "outputs": [],
   "source": [
    "def assign_loan_amount_group(df: DataFrame, column: str) -> DataFrame:\n",
    "    df = df.withColumn(\n",
    "        'loan_amount_group',\n",
    "        F.when(F.col(column).between(0, 5000), 'small')\n",
    "        .when(F.col(column).between(5001, 10000), 'medium')\n",
    "        .when(F.col(column).between(10001, 15000), 'high')\n",
    "        .otherwise('very high')\n",
    "    )\n",
    "    \n",
    "    return df\n",
    "training_data = assign_loan_amount_group(training_data, 'loan_amnt')\n",
    "\n",
    "validation_data = assign_loan_amount_group(validation_data, 'loan_amnt')"
   ]
  },
  {
   "cell_type": "code",
   "execution_count": 15,
   "metadata": {},
   "outputs": [
    {
     "name": "stdout",
     "output_type": "stream",
     "text": [
      "+-----------------+\n",
      "|loan_amount_group|\n",
      "+-----------------+\n",
      "|           medium|\n",
      "|           medium|\n",
      "|        very high|\n",
      "|            small|\n",
      "|            small|\n",
      "|        very high|\n",
      "|            small|\n",
      "|           medium|\n",
      "|             high|\n",
      "|            small|\n",
      "|            small|\n",
      "|            small|\n",
      "|            small|\n",
      "|            small|\n",
      "|            small|\n",
      "|            small|\n",
      "|            small|\n",
      "|            small|\n",
      "|            small|\n",
      "|            small|\n",
      "+-----------------+\n",
      "only showing top 20 rows\n",
      "\n"
     ]
    }
   ],
   "source": [
    "training_data.select('loan_amount_group').show()"
   ]
  },
  {
   "cell_type": "code",
   "execution_count": 16,
   "metadata": {},
   "outputs": [],
   "source": [
    "def drop_rows_by_emp_length(df: DataFrame, column: str, threshold: int) -> DataFrame:\n",
    "    filtered_df = df.filter(F.col(column) <= threshold)\n",
    "    return filtered_df\n",
    "training_data = drop_rows_by_emp_length(training_data, 'person_emp_length', 60)\n",
    "validation_data_data = drop_rows_by_emp_length(validation_data, 'person_emp_length', 60)"
   ]
  },
  {
   "cell_type": "code",
   "execution_count": 17,
   "metadata": {},
   "outputs": [],
   "source": [
    "def drop_and_reset_index(df: DataFrame, column_to_drop: str) -> DataFrame:\n",
    "    df = df.drop(column_to_drop)\n",
    "    window_spec = Window.orderBy(F.monotonically_increasing_id())\n",
    "    df_with_index = df.withColumn(\"index\", F.row_number().over(window_spec) - 1)\n",
    "    df_final = df_with_index.drop(\"index\")\n",
    "    return df_final\n",
    "\n",
    "training_data = drop_and_reset_index(training_data, 'index')\n",
    "validation_data = drop_and_reset_index(validation_data, 'index')"
   ]
  },
  {
   "cell_type": "code",
   "execution_count": 18,
   "metadata": {},
   "outputs": [
    {
     "name": "stdout",
     "output_type": "stream",
     "text": [
      "+---------------------+-----+\n",
      "|person_home_ownership|count|\n",
      "+---------------------+-----+\n",
      "|                  OWN| 1766|\n",
      "|                 RENT|11635|\n",
      "|             MORTGAGE| 9418|\n",
      "|                OTHER|   72|\n",
      "+---------------------+-----+\n",
      "\n"
     ]
    }
   ],
   "source": [
    "count_df = training_data.groupBy(col('person_home_ownership')).count()\n",
    "\n",
    "count_df.show()"
   ]
  },
  {
   "cell_type": "code",
   "execution_count": 19,
   "metadata": {},
   "outputs": [],
   "source": [
    "def create_ratios(df):\n",
    "    df = df.withColumn('loan_to_income_ratio', col('loan_amnt') / col('person_income'))\n",
    "    df = df.withColumn('loan_to_emp_length_ratio', col('person_emp_length') / col('loan_amnt'))\n",
    "    df = df.withColumn('int_rate_to_loan_amt_ratio', col('loan_int_rate') / col('loan_amnt'))\n",
    "    \n",
    "    return df"
   ]
  },
  {
   "cell_type": "code",
   "execution_count": 20,
   "metadata": {},
   "outputs": [],
   "source": [
    "training_data = create_ratios(training_data)"
   ]
  },
  {
   "cell_type": "code",
   "execution_count": 21,
   "metadata": {},
   "outputs": [],
   "source": [
    "validation_data = create_ratios(validation_data)"
   ]
  },
  {
   "cell_type": "code",
   "execution_count": 22,
   "metadata": {},
   "outputs": [
    {
     "name": "stdout",
     "output_type": "stream",
     "text": [
      "+----------+-------------+---------------------+-----------------+-----------------+----------+---------+-------------+-----------+-------------------+-------------------------+--------------------------+---------+------------+-----------------+--------------------+------------------------+--------------------------+\n",
      "|person_age|person_income|person_home_ownership|person_emp_length|      loan_intent|loan_grade|loan_amnt|loan_int_rate|loan_status|loan_percent_income|cb_person_default_on_file|cb_person_cred_hist_length|age_group|income_group|loan_amount_group|loan_to_income_ratio|loan_to_emp_length_ratio|int_rate_to_loan_amt_ratio|\n",
      "+----------+-------------+---------------------+-----------------+-----------------+----------+---------+-------------+-----------+-------------------+-------------------------+--------------------------+---------+------------+-----------------+--------------------+------------------------+--------------------------+\n",
      "|        20|        32652|             MORTGAGE|              0.0|         PERSONAL|         D|     6000|        14.61|          1|               0.18|                        N|                         4|    20-25|  low-middle|           medium| 0.18375597206909225|                     0.0|                  0.002435|\n",
      "|        20|        34800|                 RENT|              3.0|          MEDICAL|         C|     7000|        13.61|          0|                0.2|                        Y|                         2|    20-25|  low-middle|           medium| 0.20114942528735633|    4.285714285714285...|      0.001944285714285...|\n",
      "|        20|        64000|                 RENT|              3.0|          VENTURE|         D|    16000|        15.31|          1|               0.25|                        Y|                         4|    20-25|      middle|        very high|                0.25|                1.875E-4|                9.56875E-4|\n",
      "|        20|        65000|             MORTGAGE|              4.0|        EDUCATION|         B|     4800|         9.99|          0|               0.07|                        N|                         2|    20-25|      middle|            small| 0.07384615384615385|    8.333333333333334E-4|                0.00208125|\n",
      "|        20|        65000|             MORTGAGE|              4.0|          VENTURE|         B|     4800|         9.99|          0|               0.07|                        N|                         4|    20-25|      middle|            small| 0.07384615384615385|    8.333333333333334E-4|                0.00208125|\n",
      "|        20|        77052|             MORTGAGE|              4.0|        EDUCATION|         B|    24250|        11.36|          0|               0.31|                        N|                         2|    20-25| high-middle|        very high|  0.3147225250480195|    1.649484536082474...|      4.684536082474226...|\n",
      "|        20|        94000|                 RENT|              4.0|        EDUCATION|         D|     5000|        16.02|          0|               0.05|                        N|                         3|    20-25| high-middle|            small| 0.05319148936170213|                  8.0E-4|                  0.003204|\n",
      "|        20|       115731|             MORTGAGE|              4.0|DEBTCONSOLIDATION|         B|     9625|        10.74|          0|               0.08|                        N|                         3|    20-25|        high|           medium| 0.08316699933466401|    4.155844155844156E-4|      0.001115844155844...|\n",
      "|        20|       135000|             MORTGAGE|              1.0|          VENTURE|         C|    15000|        15.96|          0|               0.11|                        Y|                         2|    20-25|        high|             high|  0.1111111111111111|    6.666666666666667E-5|                  0.001064|\n",
      "|        20|       188004|             MORTGAGE|              4.0|         PERSONAL|         A|     2000|         8.59|          0|               0.01|                        N|                         2|    20-25|        high|            small| 0.01063807153039297|                   0.002|                  0.004295|\n",
      "|        21|         4080|                 RENT|              0.0|        EDUCATION|         B|     1400|        11.86|          1|               0.34|                        N|                         4|    20-25|         low|            small|  0.3431372549019608|                     0.0|       0.00847142857142857|\n",
      "|        21|         4200|                 RENT|              3.0|         PERSONAL|         E|     2750|        16.95|          1|               0.65|                        N|                         3|    20-25|         low|            small|  0.6547619047619048|    0.001090909090909091|      0.006163636363636363|\n",
      "|        21|         6000|                  OWN|              1.0|         PERSONAL|         D|     1600|        14.61|          1|               0.27|                        Y|                         3|    20-25|         low|            small| 0.26666666666666666|                 6.25E-4|                0.00913125|\n",
      "|        21|         7200|                 RENT|              0.0|          VENTURE|         C|     2500|        13.11|          1|               0.35|                        N|                         3|    20-25|         low|            small|  0.3472222222222222|                     0.0|      0.005243999999999...|\n",
      "|        21|         8004|                 RENT|              4.0|          MEDICAL|         A|     3000|         7.88|          1|               0.37|                        N|                         2|    20-25|         low|            small|  0.3748125937031484|    0.001333333333333...|      0.002626666666666...|\n",
      "|        21|         9600|                  OWN|              0.0|          VENTURE|         B|     1200|        10.99|          0|               0.13|                        N|                         4|    20-25|         low|            small|               0.125|                     0.0|      0.009158333333333334|\n",
      "|        21|         9600|                  OWN|              5.0|        EDUCATION|         B|     1000|        11.14|          0|                0.1|                        N|                         2|    20-25|         low|            small| 0.10416666666666667|                   0.005|                   0.01114|\n",
      "|        21|         9600|                 RENT|              0.0|        EDUCATION|         A|     1750|         8.94|          1|               0.18|                        N|                         2|    20-25|         low|            small| 0.18229166666666666|                     0.0|      0.005108571428571...|\n",
      "|        21|         9600|                 RENT|              4.0|  HOMEIMPROVEMENT|         D|     2000|        15.99|          1|               0.21|                        N|                         3|    20-25|         low|            small| 0.20833333333333334|                   0.002|                  0.007995|\n",
      "|        21|        10000|                  OWN|              2.0|  HOMEIMPROVEMENT|         A|     4500|         8.63|          1|               0.45|                        N|                         2|    20-25|         low|            small|                0.45|    4.444444444444444...|      0.001917777777777778|\n",
      "+----------+-------------+---------------------+-----------------+-----------------+----------+---------+-------------+-----------+-------------------+-------------------------+--------------------------+---------+------------+-----------------+--------------------+------------------------+--------------------------+\n",
      "only showing top 20 rows\n",
      "\n"
     ]
    }
   ],
   "source": [
    "training_data.show()"
   ]
  },
  {
   "cell_type": "code",
   "execution_count": 23,
   "metadata": {},
   "outputs": [],
   "source": [
    "col_list = ['person_age',\n",
    " 'person_income',\n",
    " 'person_home_ownership',\n",
    " 'person_emp_length',\n",
    " 'loan_intent', \n",
    " 'loan_grade',\n",
    " 'loan_amnt',\n",
    " 'loan_int_rate',\n",
    " 'loan_status',\n",
    " 'loan_percent_income',\n",
    " 'cb_person_default_on_file',\n",
    " 'cb_person_cred_hist_length',\n",
    "'age_group',\n",
    "'income_group',\n",
    "'loan_amount_group']\n",
    "\n",
    "\n",
    "scale_cols = ['person_income','person_age','person_emp_length', 'loan_amnt','loan_int_rate','cb_person_cred_hist_length','loan_percent_income','loan_to_income_ratio', 'loan_to_emp_length_ratio',\n",
    "       'int_rate_to_loan_amt_ratio']\n",
    "encoding_colums = ['cb_person_default_on_file','loan_grade', 'person_home_ownership','loan_intent','income_group','age_group','loan_amount_group']\n"
   ]
  },
  {
   "cell_type": "code",
   "execution_count": 24,
   "metadata": {},
   "outputs": [],
   "source": [
    "def drop_duplicates(df, subset=None):\n",
    "    return df.dropDuplicates(subset)\n",
    "\n",
    "training_data  = drop_duplicates(training_data)\n",
    "validation_data = drop_duplicates(validation_data)"
   ]
  },
  {
   "cell_type": "code",
   "execution_count": 25,
   "metadata": {},
   "outputs": [],
   "source": [
    "def shuffle_dataframe(df, seed=43):\n",
    "   \n",
    "    df_shuffled = df.withColumn(\"random\", F.rand(seed))\n",
    "    df_shuffled = df_shuffled.orderBy(\"random\").drop(\"random\")\n",
    "\n",
    "    return df_shuffled\n",
    "training_data = shuffle_dataframe(training_data)\n"
   ]
  },
  {
   "cell_type": "code",
   "execution_count": 26,
   "metadata": {},
   "outputs": [
    {
     "name": "stdout",
     "output_type": "stream",
     "text": [
      "+-----------------+\n",
      "|loan_amount_group|\n",
      "+-----------------+\n",
      "|           medium|\n",
      "|            small|\n",
      "|        very high|\n",
      "|           medium|\n",
      "|           medium|\n",
      "|           medium|\n",
      "|           medium|\n",
      "|           medium|\n",
      "|            small|\n",
      "|             high|\n",
      "|            small|\n",
      "|             high|\n",
      "|             high|\n",
      "|        very high|\n",
      "|            small|\n",
      "|        very high|\n",
      "|             high|\n",
      "|            small|\n",
      "|        very high|\n",
      "|           medium|\n",
      "+-----------------+\n",
      "only showing top 20 rows\n",
      "\n"
     ]
    }
   ],
   "source": [
    "training_data.select('loan_amount_group').show()"
   ]
  },
  {
   "cell_type": "code",
   "execution_count": 27,
   "metadata": {},
   "outputs": [
    {
     "name": "stderr",
     "output_type": "stream",
     "text": [
      "                                                                                \r"
     ]
    },
    {
     "name": "stdout",
     "output_type": "stream",
     "text": [
      "+-----------+-----+\n",
      "|loan_status|count|\n",
      "+-----------+-----+\n",
      "|          1| 4994|\n",
      "|          0|17812|\n",
      "+-----------+-----+\n",
      "\n"
     ]
    }
   ],
   "source": [
    "training_data.groupBy(col('loan_status')).count().show()"
   ]
  },
  {
   "cell_type": "markdown",
   "metadata": {},
   "source": [
    "first we will encode our categorical feature then appply smote data oversampling"
   ]
  },
  {
   "cell_type": "code",
   "execution_count": 28,
   "metadata": {},
   "outputs": [
    {
     "name": "stdout",
     "output_type": "stream",
     "text": [
      "+----------+-------------+---------------------+-----------------+-----------+----------+---------+-------------+-----------+-------------------+-------------------------+--------------------------+---------+------------+-----------------+--------------------+------------------------+--------------------------+\n",
      "|person_age|person_income|person_home_ownership|person_emp_length|loan_intent|loan_grade|loan_amnt|loan_int_rate|loan_status|loan_percent_income|cb_person_default_on_file|cb_person_cred_hist_length|age_group|income_group|loan_amount_group|loan_to_income_ratio|loan_to_emp_length_ratio|int_rate_to_loan_amt_ratio|\n",
      "+----------+-------------+---------------------+-----------------+-----------+----------+---------+-------------+-----------+-------------------+-------------------------+--------------------------+---------+------------+-----------------+--------------------+------------------------+--------------------------+\n",
      "|         0|            0|                    0|                0|          0|         0|        0|            0|          0|                  0|                        0|                         0|        0|           0|                0|                   0|                       0|                         0|\n",
      "+----------+-------------+---------------------+-----------------+-----------+----------+---------+-------------+-----------+-------------------+-------------------------+--------------------------+---------+------------+-----------------+--------------------+------------------------+--------------------------+\n",
      "\n"
     ]
    }
   ],
   "source": [
    "training_data.select([count(when(col(c).isNull(), c)).alias(c) for c in training_data.columns]).show()"
   ]
  },
  {
   "cell_type": "code",
   "execution_count": 29,
   "metadata": {},
   "outputs": [],
   "source": [
    "# from pyspark.ml import Transformer\n",
    "# from pyspark.ml.param.shared import Param, Params\n",
    "# from pyspark.ml.pipeline import Pipeline\n",
    "# from pyspark.sql import DataFrame\n",
    "# import pyspark.sql.functions as F\n",
    "# from pyspark.ml.util import DefaultParamsReadable, DefaultParamsWritable\n",
    "\n",
    "# class OneHotEncoderCustom(Transformer, DefaultParamsReadable, DefaultParamsWritable):\n",
    "#     def __init__(self, encoding_columns=None):\n",
    "#         super(OneHotEncoderCustom, self).__init__()\n",
    "#         self.encoding_columns = Param(self, \"encoding_columns\", \"columns to be one-hot encoded\")\n",
    "#         if encoding_columns is not None:\n",
    "#             self._set(encoding_columns=encoding_columns)\n",
    "    \n",
    "#     def _transform(self, df: DataFrame) -> DataFrame:\n",
    "#         encoding_columns = self.getOrDefault(self.encoding_columns)\n",
    "#         for column in encoding_columns:\n",
    "#             distinct_values = df.select(column).distinct().rdd.map(lambda x: x[0]).collect()\n",
    "#             for value in distinct_values:\n",
    "#                 df = df.withColumn(f\"{column}_{value}\", F.expr(f\"CASE WHEN {column} = '{value}' THEN '1' ELSE '0' END\"))\n",
    "#             df = df.drop(column)\n",
    "#         return df\n",
    "\n",
    "#     def getEncodingColumns(self):\n",
    "#         return self.getOrDefault(self.encoding_columns)\n",
    "\n",
    "# # columns to encode\n",
    "# encoding_columns = ['cb_person_default_on_file', 'loan_grade', 'person_home_ownership', 'loan_intent', 'income_group', 'age_group', 'loan_amount_group']\n",
    "# one_hot_encoder = OneHotEncoderCustom(encoding_columns=encoding_columns)\n",
    "# pipeline = Pipeline(stages=[one_hot_encoder])\n",
    "# pipeline_model = pipeline.fit(training_data)\n",
    "# # Saving the pipeline model\n",
    "# pipeline_model.save(\"./encoding_pipeline\")\n",
    "\n",
    "# # Loading the pipeline model\n",
    "# from pyspark.ml.pipeline import PipelineModel\n",
    "# loaded_pipeline_model = PipelineModel.load(\"./encoding_pipeline\")"
   ]
  },
  {
   "cell_type": "code",
   "execution_count": 30,
   "metadata": {},
   "outputs": [],
   "source": [
    "# transformed_train_df = pipeline_model.transform(training_data)\n",
    "# transformed_train_df.show()"
   ]
  },
  {
   "cell_type": "code",
   "execution_count": 31,
   "metadata": {},
   "outputs": [
    {
     "ename": "NameError",
     "evalue": "name 'out' is not defined",
     "output_type": "error",
     "traceback": [
      "\u001b[0;31m---------------------------------------------------------------------------\u001b[0m",
      "\u001b[0;31mNameError\u001b[0m                                 Traceback (most recent call last)",
      "Cell \u001b[0;32mIn[31], line 1\u001b[0m\n\u001b[0;32m----> 1\u001b[0m \u001b[43mout\u001b[49m\n",
      "\u001b[0;31mNameError\u001b[0m: name 'out' is not defined"
     ]
    }
   ],
   "source": [
    "out"
   ]
  },
  {
   "cell_type": "code",
   "execution_count": 32,
   "metadata": {},
   "outputs": [],
   "source": [
    "from pyspark.ml import Pipeline, PipelineModel\n",
    "from pyspark.ml.feature import StringIndexer, OneHotEncoder\n",
    "from pyspark.sql import DataFrame\n",
    "\n",
    "class OneHotEncoderPipeline:\n",
    "    def __init__(self, input_col: str, output_col: str):\n",
    "        self.input_col = input_col\n",
    "        self.output_col = output_col\n",
    "        self.pipeline = None\n",
    "        self.pipeline_model = None\n",
    "\n",
    "    def fit(self, df: DataFrame) -> None:\n",
    "        \"\"\"Fit the pipeline on the provided DataFrame.\"\"\"\n",
    "        indexer = StringIndexer(inputCol=self.input_col, outputCol=f\"{self.input_col}_index\")\n",
    "        encoder = OneHotEncoder(inputCols=[f\"{self.input_col}_index\"], outputCols=[self.output_col])\n",
    "        \n",
    "        self.pipeline = Pipeline(stages=[indexer, encoder])\n",
    "        self.pipeline_model = self.pipeline.fit(df)\n",
    "\n",
    "    def save(self, path: str) -> None:\n",
    "        \"\"\"Save the fitted pipeline model to the specified path.\"\"\"\n",
    "        if self.pipeline_model is not None:\n",
    "            self.pipeline_model.save(path)\n",
    "\n",
    "    @classmethod\n",
    "    def load(cls, path: str) -> 'OneHotEncoderPipeline':\n",
    "        \"\"\"Load a pipeline model from the specified path.\"\"\"\n",
    "        instance = cls(input_col=\"\", output_col=\"\")\n",
    "        instance.pipeline_model = PipelineModel.load(path)\n",
    "        return instance\n",
    "\n",
    "    def transform(self, df: DataFrame) -> DataFrame:\n",
    "        \"\"\"Transform the DataFrame using the fitted pipeline model.\"\"\"\n",
    "        if self.pipeline_model is None:\n",
    "            raise Exception(\"Model must be fitted before calling transform.\")\n",
    "        return self.pipeline_model.transform(df)\n"
   ]
  },
  {
   "cell_type": "code",
   "execution_count": 85,
   "metadata": {},
   "outputs": [
    {
     "name": "stderr",
     "output_type": "stream",
     "text": [
      "[Stage 241:===============================================>    (184 + 16) / 200]\r"
     ]
    },
    {
     "name": "stdout",
     "output_type": "stream",
     "text": [
      "+----------+-------------+---------------------+-----------------+-----------------+----------+---------+-------------+-----------+-------------------+-------------------------+--------------------------+---------+------------+-----------------+--------------------+------------------------+--------------------------+---------------------------+-------------------------+\n",
      "|person_age|person_income|person_home_ownership|person_emp_length|      loan_intent|loan_grade|loan_amnt|loan_int_rate|loan_status|loan_percent_income|cb_person_default_on_file|cb_person_cred_hist_length|age_group|income_group|loan_amount_group|loan_to_income_ratio|loan_to_emp_length_ratio|int_rate_to_loan_amt_ratio|person_home_ownership_index|person_home_ownership_ohe|\n",
      "+----------+-------------+---------------------+-----------------+-----------------+----------+---------+-------------+-----------+-------------------+-------------------------+--------------------------+---------+------------+-----------------+--------------------+------------------------+--------------------------+---------------------------+-------------------------+\n",
      "|        28|        44500|             MORTGAGE|              2.0|         PERSONAL|         A|    10000|         8.59|          0|               0.22|                        N|                         6|    26-35|  low-middle|           medium|  0.2247191011235955|                  2.0E-4|                   8.59E-4|                        1.0|            (3,[1],[1.0])|\n",
      "|        34|        58000|                  OWN|              8.0|          MEDICAL|         A|     3000|         6.76|          0|               0.05|                        N|                        10|    26-35|      middle|            small| 0.05172413793103448|    0.002666666666666...|      0.002253333333333...|                        2.0|            (3,[2],[1.0])|\n",
      "|        29|       105000|             MORTGAGE|             13.0|DEBTCONSOLIDATION|         B|    17000|        10.25|          0|               0.16|                        N|                        10|    26-35|        high|        very high|  0.1619047619047619|    7.647058823529412E-4|      6.029411764705882E-4|                        1.0|            (3,[1],[1.0])|\n",
      "|        25|        47000|                  OWN|              9.0|         PERSONAL|         A|     7000|         7.51|          0|               0.15|                        N|                         4|    20-25|  low-middle|           medium| 0.14893617021276595|    0.001285714285714...|      0.001072857142857...|                        2.0|            (3,[2],[1.0])|\n",
      "|        25|        34000|                 RENT|              4.0|          VENTURE|         B|     8200|        12.21|          0|               0.24|                        N|                         4|    20-25|  low-middle|           medium|  0.2411764705882353|    4.878048780487805E-4|      0.001489024390243...|                        0.0|            (3,[0],[1.0])|\n",
      "|        26|       220836|             MORTGAGE|             10.0|          VENTURE|         B|     9000|        11.26|          0|               0.04|                        N|                         3|    20-25|        high|           medium|0.040754224854643264|    0.001111111111111...|      0.001251111111111111|                        1.0|            (3,[1],[1.0])|\n",
      "|        25|        30000|                 RENT|              9.0|          MEDICAL|         A|    10000|         7.51|          1|               0.33|                        N|                         2|    20-25|  low-middle|           medium|  0.3333333333333333|                  9.0E-4|      7.509999999999999E-4|                        0.0|            (3,[0],[1.0])|\n",
      "|        23|        30000|                 RENT|              7.0|         PERSONAL|         C|     6000|        14.72|          0|                0.2|                        Y|                         4|    20-25|  low-middle|           medium|                 0.2|    0.001166666666666...|      0.002453333333333...|                        0.0|            (3,[0],[1.0])|\n",
      "|        22|        60000|             MORTGAGE|              6.0|DEBTCONSOLIDATION|         A|     5000|         5.99|          0|               0.08|                        N|                         4|    20-25|      middle|            small| 0.08333333333333333|                  0.0012|                  0.001198|                        1.0|            (3,[1],[1.0])|\n",
      "|        23|        55000|             MORTGAGE|              0.0|        EDUCATION|         C|    11075|        13.49|          0|                0.2|                        N|                         3|    20-25|      middle|             high| 0.20136363636363636|                     0.0|      0.001218058690744921|                        1.0|            (3,[1],[1.0])|\n",
      "|        27|       117000|                 RENT|              7.0|         PERSONAL|         B|     1800|        12.42|          0|               0.02|                        N|                        10|    26-35|        high|            small|0.015384615384615385|    0.003888888888888...|                    0.0069|                        0.0|            (3,[0],[1.0])|\n",
      "|        37|        71000|             MORTGAGE|             11.0|DEBTCONSOLIDATION|         B|    11200|        12.42|          0|               0.16|                        N|                        11|    36-45|      middle|             high| 0.15774647887323945|    9.821428571428572E-4|      0.001108928571428...|                        1.0|            (3,[1],[1.0])|\n",
      "|        22|        90000|                 RENT|              3.0|DEBTCONSOLIDATION|         A|    12000|         8.94|          0|               0.13|                        N|                         3|    20-25| high-middle|             high| 0.13333333333333333|                  2.5E-4|                   7.45E-4|                        0.0|            (3,[0],[1.0])|\n",
      "|        25|        59160|                 RENT|              0.0|  HOMEIMPROVEMENT|         E|    16600|        14.18|          1|               0.28|                        N|                         4|    20-25|      middle|        very high|  0.2805949966193374|                     0.0|      8.542168674698795E-4|                        0.0|            (3,[0],[1.0])|\n",
      "|        25|        32640|                 RENT|              4.0|DEBTCONSOLIDATION|         C|     4000|        12.73|          0|               0.12|                        Y|                         4|    20-25|  low-middle|            small| 0.12254901960784313|                   0.001|                 0.0031825|                        0.0|            (3,[0],[1.0])|\n",
      "|        23|        65000|                 RENT|              7.0|          VENTURE|         B|    20000|        11.49|          1|               0.31|                        N|                         3|    20-25|      middle|        very high|  0.3076923076923077|                  3.5E-4|                  5.745E-4|                        0.0|            (3,[0],[1.0])|\n",
      "|        25|        27600|             MORTGAGE|              1.0|  HOMEIMPROVEMENT|         A|    11500|         6.03|          1|               0.42|                        N|                         4|    20-25|  low-middle|             high|  0.4166666666666667|    8.695652173913044E-5|      5.243478260869565E-4|                        1.0|            (3,[1],[1.0])|\n",
      "|        22|        42900|                  OWN|              7.0|        EDUCATION|         B|     2000|        10.74|          0|               0.05|                        N|                         4|    20-25|  low-middle|            small|0.046620046620046623|                  0.0035|                   0.00537|                        2.0|            (3,[2],[1.0])|\n",
      "|        25|       130000|             MORTGAGE|              5.0|          VENTURE|         C|    20000|        13.48|          0|               0.15|                        N|                         2|    20-25|        high|        very high| 0.15384615384615385|                  2.5E-4|                   6.74E-4|                        1.0|            (3,[1],[1.0])|\n",
      "|        29|        32000|                 RENT|             10.0|  HOMEIMPROVEMENT|         D|     9250|        15.65|          1|               0.29|                        N|                         7|    26-35|  low-middle|           medium|           0.2890625|    0.001081081081081081|      0.001691891891891892|                        0.0|            (3,[0],[1.0])|\n",
      "+----------+-------------+---------------------+-----------------+-----------------+----------+---------+-------------+-----------+-------------------+-------------------------+--------------------------+---------+------------+-----------------+--------------------+------------------------+--------------------------+---------------------------+-------------------------+\n",
      "only showing top 20 rows\n",
      "\n"
     ]
    },
    {
     "name": "stderr",
     "output_type": "stream",
     "text": [
      "                                                                                \r"
     ]
    }
   ],
   "source": [
    "\n",
    "one_hot_encoder_pipeline = OneHotEncoderPipeline(input_col='person_home_ownership', output_col='person_home_ownership_ohe')\n",
    "one_hot_encoder_pipeline.fit(training_data)\n",
    "\n",
    "one_hot_encoder_pipeline.save(\"one_hot_encoder_pipeline\")\n",
    "\n",
    "\n",
    "loaded_pipeline = OneHotEncoderPipeline.load(\"one_hot_encoder_pipeline\")\n",
    "\n",
    "transformed_new_df = loaded_pipeline.transform(training_data)\n",
    "\n",
    "transformed_new_df.show()\n"
   ]
  },
  {
   "cell_type": "code",
   "execution_count": 86,
   "metadata": {},
   "outputs": [
    {
     "name": "stdout",
     "output_type": "stream",
     "text": [
      "+----------+-------------+---------------------+-----------------+-----------------+----------+---------+-------------+-------------------+-------------------------+--------------------------+\n",
      "|person_age|person_income|person_home_ownership|person_emp_length|      loan_intent|loan_grade|loan_amnt|loan_int_rate|loan_percent_income|cb_person_default_on_file|cb_person_cred_hist_length|\n",
      "+----------+-------------+---------------------+-----------------+-----------------+----------+---------+-------------+-------------------+-------------------------+--------------------------+\n",
      "|        22|        59000|                 RENT|              123|         PERSONAL|         D|    35000|        16.02|               0.59|                        Y|                         3|\n",
      "|        21|         9600|                  OWN|                5|        EDUCATION|         B|     1000|        11.14|                0.1|                        N|                         2|\n",
      "|        25|         9600|             MORTGAGE|                1|          MEDICAL|         G|     5500|        12.87|               0.57|                        N|                         3|\n",
      "|        23|        65500|                 RENT|                4|          MEDICAL|         C|    35000|        15.23|               0.53|                        N|                         2|\n",
      "|        24|        54400|                 RENT|                8|          MEDICAL|         C|    35000|        14.27|               0.55|                        Y|                         4|\n",
      "|        21|         9900|                  OWN|                2|          VENTURE|         A|     2500|         7.14|               0.25|                        N|                         2|\n",
      "|        25|       306000|                 RENT|                2|DEBTCONSOLIDATION|         F|    24250|        13.85|               0.08|                        N|                         3|\n",
      "+----------+-------------+---------------------+-----------------+-----------------+----------+---------+-------------+-------------------+-------------------------+--------------------------+\n",
      "\n"
     ]
    }
   ],
   "source": [
    "data_ = spark.read.csv(\"./test_data.csv\",header=True, inferSchema=True)\n",
    "data_.show()"
   ]
  },
  {
   "cell_type": "code",
   "execution_count": 44,
   "metadata": {},
   "outputs": [
    {
     "data": {
      "text/plain": [
       "['person_age',\n",
       " 'person_income',\n",
       " 'person_home_ownership',\n",
       " 'person_emp_length',\n",
       " 'loan_intent',\n",
       " 'loan_grade',\n",
       " 'loan_amnt',\n",
       " 'loan_int_rate',\n",
       " 'loan_percent_income',\n",
       " 'cb_person_default_on_file',\n",
       " 'cb_person_cred_hist_length']"
      ]
     },
     "execution_count": 44,
     "metadata": {},
     "output_type": "execute_result"
    }
   ],
   "source": [
    "data_.columns"
   ]
  },
  {
   "cell_type": "code",
   "execution_count": 87,
   "metadata": {},
   "outputs": [
    {
     "name": "stdout",
     "output_type": "stream",
     "text": [
      "+----------+-------------+---------------------+-----------------+-----------------+----------+---------+-------------+-------------------+-------------------------+--------------------------+---------------------------+-------------------------+\n",
      "|person_age|person_income|person_home_ownership|person_emp_length|      loan_intent|loan_grade|loan_amnt|loan_int_rate|loan_percent_income|cb_person_default_on_file|cb_person_cred_hist_length|person_home_ownership_index|person_home_ownership_ohe|\n",
      "+----------+-------------+---------------------+-----------------+-----------------+----------+---------+-------------+-------------------+-------------------------+--------------------------+---------------------------+-------------------------+\n",
      "|        22|        59000|                 RENT|              123|         PERSONAL|         D|    35000|        16.02|               0.59|                        Y|                         3|                        0.0|            (3,[0],[1.0])|\n",
      "|        21|         9600|                  OWN|                5|        EDUCATION|         B|     1000|        11.14|                0.1|                        N|                         2|                        2.0|            (3,[2],[1.0])|\n",
      "|        25|         9600|             MORTGAGE|                1|          MEDICAL|         G|     5500|        12.87|               0.57|                        N|                         3|                        1.0|            (3,[1],[1.0])|\n",
      "|        23|        65500|                 RENT|                4|          MEDICAL|         C|    35000|        15.23|               0.53|                        N|                         2|                        0.0|            (3,[0],[1.0])|\n",
      "|        24|        54400|                 RENT|                8|          MEDICAL|         C|    35000|        14.27|               0.55|                        Y|                         4|                        0.0|            (3,[0],[1.0])|\n",
      "|        21|         9900|                  OWN|                2|          VENTURE|         A|     2500|         7.14|               0.25|                        N|                         2|                        2.0|            (3,[2],[1.0])|\n",
      "|        25|       306000|                 RENT|                2|DEBTCONSOLIDATION|         F|    24250|        13.85|               0.08|                        N|                         3|                        0.0|            (3,[0],[1.0])|\n",
      "+----------+-------------+---------------------+-----------------+-----------------+----------+---------+-------------+-------------------+-------------------------+--------------------------+---------------------------+-------------------------+\n",
      "\n"
     ]
    }
   ],
   "source": [
    "transformed_test_df = loaded_pipeline.transform(data_)\n",
    "transformed_test_df.show()"
   ]
  },
  {
   "cell_type": "code",
   "execution_count": null,
   "metadata": {},
   "outputs": [],
   "source": []
  },
  {
   "cell_type": "code",
   "execution_count": null,
   "metadata": {},
   "outputs": [],
   "source": []
  },
  {
   "cell_type": "code",
   "execution_count": null,
   "metadata": {},
   "outputs": [],
   "source": []
  },
  {
   "cell_type": "code",
   "execution_count": null,
   "metadata": {},
   "outputs": [],
   "source": []
  },
  {
   "cell_type": "code",
   "execution_count": null,
   "metadata": {},
   "outputs": [
    {
     "ename": "AttributeError",
     "evalue": "module '__main__' has no attribute 'OneHotEncoderCustom'",
     "output_type": "error",
     "traceback": [
      "\u001b[0;31m---------------------------------------------------------------------------\u001b[0m",
      "\u001b[0;31mAttributeError\u001b[0m                            Traceback (most recent call last)",
      "Cell \u001b[0;32mIn[49], line 3\u001b[0m\n\u001b[1;32m      1\u001b[0m \u001b[38;5;28;01mfrom\u001b[39;00m \u001b[38;5;21;01mpyspark\u001b[39;00m\u001b[38;5;21;01m.\u001b[39;00m\u001b[38;5;21;01mml\u001b[39;00m\u001b[38;5;21;01m.\u001b[39;00m\u001b[38;5;21;01mpipeline\u001b[39;00m \u001b[38;5;28;01mimport\u001b[39;00m PipelineModel\n\u001b[0;32m----> 3\u001b[0m loaded_pipeline_model \u001b[38;5;241m=\u001b[39m \u001b[43mPipelineModel\u001b[49m\u001b[38;5;241;43m.\u001b[39;49m\u001b[43mload\u001b[49m\u001b[43m(\u001b[49m\u001b[38;5;124;43m\"\u001b[39;49m\u001b[38;5;124;43m./encoding_pipeline\u001b[39;49m\u001b[38;5;124;43m\"\u001b[39;49m\u001b[43m)\u001b[49m\n\u001b[1;32m      5\u001b[0m \u001b[38;5;66;03m# Apply the loaded pipeline model to transform data\u001b[39;00m\n\u001b[1;32m      6\u001b[0m transformed_training_data \u001b[38;5;241m=\u001b[39m loaded_pipeline_model\u001b[38;5;241m.\u001b[39mtransform(training_data)\n",
      "File \u001b[0;32m/media/lang_chain/Storage/Documents/credit-risk-prediction/.conda/lib/python3.10/site-packages/pyspark/ml/util.py:332\u001b[0m, in \u001b[0;36mMLReadable.load\u001b[0;34m(cls, path)\u001b[0m\n\u001b[1;32m    329\u001b[0m \u001b[38;5;129m@classmethod\u001b[39m\n\u001b[1;32m    330\u001b[0m \u001b[38;5;28;01mdef\u001b[39;00m \u001b[38;5;21mload\u001b[39m(\u001b[38;5;28mcls\u001b[39m, path):\n\u001b[1;32m    331\u001b[0m \u001b[38;5;250m    \u001b[39m\u001b[38;5;124;03m\"\"\"Reads an ML instance from the input path, a shortcut of `read().load(path)`.\"\"\"\u001b[39;00m\n\u001b[0;32m--> 332\u001b[0m     \u001b[38;5;28;01mreturn\u001b[39;00m \u001b[38;5;28;43mcls\u001b[39;49m\u001b[38;5;241;43m.\u001b[39;49m\u001b[43mread\u001b[49m\u001b[43m(\u001b[49m\u001b[43m)\u001b[49m\u001b[38;5;241;43m.\u001b[39;49m\u001b[43mload\u001b[49m\u001b[43m(\u001b[49m\u001b[43mpath\u001b[49m\u001b[43m)\u001b[49m\n",
      "File \u001b[0;32m/media/lang_chain/Storage/Documents/credit-risk-prediction/.conda/lib/python3.10/site-packages/pyspark/ml/pipeline.py:260\u001b[0m, in \u001b[0;36mPipelineModelReader.load\u001b[0;34m(self, path)\u001b[0m\n\u001b[1;32m    258\u001b[0m     \u001b[38;5;28;01mreturn\u001b[39;00m JavaMLReader(\u001b[38;5;28mself\u001b[39m\u001b[38;5;241m.\u001b[39mcls)\u001b[38;5;241m.\u001b[39mload(path)\n\u001b[1;32m    259\u001b[0m \u001b[38;5;28;01melse\u001b[39;00m:\n\u001b[0;32m--> 260\u001b[0m     uid, stages \u001b[38;5;241m=\u001b[39m \u001b[43mPipelineSharedReadWrite\u001b[49m\u001b[38;5;241;43m.\u001b[39;49m\u001b[43mload\u001b[49m\u001b[43m(\u001b[49m\u001b[43mmetadata\u001b[49m\u001b[43m,\u001b[49m\u001b[43m \u001b[49m\u001b[38;5;28;43mself\u001b[39;49m\u001b[38;5;241;43m.\u001b[39;49m\u001b[43msc\u001b[49m\u001b[43m,\u001b[49m\u001b[43m \u001b[49m\u001b[43mpath\u001b[49m\u001b[43m)\u001b[49m\n\u001b[1;32m    261\u001b[0m     \u001b[38;5;28;01mreturn\u001b[39;00m PipelineModel(stages\u001b[38;5;241m=\u001b[39mstages)\u001b[38;5;241m.\u001b[39m_resetUid(uid)\n",
      "File \u001b[0;32m/media/lang_chain/Storage/Documents/credit-risk-prediction/.conda/lib/python3.10/site-packages/pyspark/ml/pipeline.py:396\u001b[0m, in \u001b[0;36mPipelineSharedReadWrite.load\u001b[0;34m(metadata, sc, path)\u001b[0m\n\u001b[1;32m    393\u001b[0m \u001b[38;5;28;01mfor\u001b[39;00m index, stageUid \u001b[38;5;129;01min\u001b[39;00m \u001b[38;5;28menumerate\u001b[39m(stageUids):\n\u001b[1;32m    394\u001b[0m     stagePath \u001b[38;5;241m=\u001b[39m \\\n\u001b[1;32m    395\u001b[0m         PipelineSharedReadWrite\u001b[38;5;241m.\u001b[39mgetStagePath(stageUid, index, \u001b[38;5;28mlen\u001b[39m(stageUids), stagesDir)\n\u001b[0;32m--> 396\u001b[0m     stage \u001b[38;5;241m=\u001b[39m \u001b[43mDefaultParamsReader\u001b[49m\u001b[38;5;241;43m.\u001b[39;49m\u001b[43mloadParamsInstance\u001b[49m\u001b[43m(\u001b[49m\u001b[43mstagePath\u001b[49m\u001b[43m,\u001b[49m\u001b[43m \u001b[49m\u001b[43msc\u001b[49m\u001b[43m)\u001b[49m\n\u001b[1;32m    397\u001b[0m     stages\u001b[38;5;241m.\u001b[39mappend(stage)\n\u001b[1;32m    398\u001b[0m \u001b[38;5;28;01mreturn\u001b[39;00m (metadata[\u001b[38;5;124m'\u001b[39m\u001b[38;5;124muid\u001b[39m\u001b[38;5;124m'\u001b[39m], stages)\n",
      "File \u001b[0;32m/media/lang_chain/Storage/Documents/credit-risk-prediction/.conda/lib/python3.10/site-packages/pyspark/ml/util.py:589\u001b[0m, in \u001b[0;36mDefaultParamsReader.loadParamsInstance\u001b[0;34m(path, sc)\u001b[0m\n\u001b[1;32m    587\u001b[0m \u001b[38;5;28;01melse\u001b[39;00m:\n\u001b[1;32m    588\u001b[0m     pythonClassName \u001b[38;5;241m=\u001b[39m metadata[\u001b[38;5;124m'\u001b[39m\u001b[38;5;124mclass\u001b[39m\u001b[38;5;124m'\u001b[39m]\u001b[38;5;241m.\u001b[39mreplace(\u001b[38;5;124m\"\u001b[39m\u001b[38;5;124morg.apache.spark\u001b[39m\u001b[38;5;124m\"\u001b[39m, \u001b[38;5;124m\"\u001b[39m\u001b[38;5;124mpyspark\u001b[39m\u001b[38;5;124m\"\u001b[39m)\n\u001b[0;32m--> 589\u001b[0m py_type \u001b[38;5;241m=\u001b[39m \u001b[43mDefaultParamsReader\u001b[49m\u001b[38;5;241;43m.\u001b[39;49m\u001b[43m__get_class\u001b[49m\u001b[43m(\u001b[49m\u001b[43mpythonClassName\u001b[49m\u001b[43m)\u001b[49m\n\u001b[1;32m    590\u001b[0m instance \u001b[38;5;241m=\u001b[39m py_type\u001b[38;5;241m.\u001b[39mload(path)\n\u001b[1;32m    591\u001b[0m \u001b[38;5;28;01mreturn\u001b[39;00m instance\n",
      "File \u001b[0;32m/media/lang_chain/Storage/Documents/credit-risk-prediction/.conda/lib/python3.10/site-packages/pyspark/ml/util.py:500\u001b[0m, in \u001b[0;36mDefaultParamsReader.__get_class\u001b[0;34m(clazz)\u001b[0m\n\u001b[1;32m    498\u001b[0m m \u001b[38;5;241m=\u001b[39m \u001b[38;5;28m__import__\u001b[39m(module)\n\u001b[1;32m    499\u001b[0m \u001b[38;5;28;01mfor\u001b[39;00m comp \u001b[38;5;129;01min\u001b[39;00m parts[\u001b[38;5;241m1\u001b[39m:]:\n\u001b[0;32m--> 500\u001b[0m     m \u001b[38;5;241m=\u001b[39m \u001b[38;5;28;43mgetattr\u001b[39;49m\u001b[43m(\u001b[49m\u001b[43mm\u001b[49m\u001b[43m,\u001b[49m\u001b[43m \u001b[49m\u001b[43mcomp\u001b[49m\u001b[43m)\u001b[49m\n\u001b[1;32m    501\u001b[0m \u001b[38;5;28;01mreturn\u001b[39;00m m\n",
      "\u001b[0;31mAttributeError\u001b[0m: module '__main__' has no attribute 'OneHotEncoderCustom'"
     ]
    }
   ],
   "source": [
    "from pyspark.ml.pipeline import PipelineModel\n",
    "\n",
    "loaded_pipeline_model = PipelineModel.load(\"./encoding_pipeline\")\n",
    "\n",
    "# Apply the loaded pipeline model to transform data\n",
    "transformed_training_data = loaded_pipeline_model.transform(training_data)\n",
    "transformed_training_data.show(truncate=False)"
   ]
  },
  {
   "cell_type": "code",
   "execution_count": null,
   "metadata": {},
   "outputs": [
    {
     "name": "stdout",
     "output_type": "stream",
     "text": [
      "+----------+-------------+---------------------+-----------------+-----------------+----------+---------+-------------+-----------+-------------------+-------------------------+--------------------------+---------+------------+-----------------+--------------------+------------------------+--------------------------+---------------------------+-------------------------+\n",
      "|person_age|person_income|person_home_ownership|person_emp_length|      loan_intent|loan_grade|loan_amnt|loan_int_rate|loan_status|loan_percent_income|cb_person_default_on_file|cb_person_cred_hist_length|age_group|income_group|loan_amount_group|loan_to_income_ratio|loan_to_emp_length_ratio|int_rate_to_loan_amt_ratio|person_home_ownership_index|person_home_ownership_ohe|\n",
      "+----------+-------------+---------------------+-----------------+-----------------+----------+---------+-------------+-----------+-------------------+-------------------------+--------------------------+---------+------------+-----------------+--------------------+------------------------+--------------------------+---------------------------+-------------------------+\n",
      "|        21|        19012|             MORTGAGE|              0.0|DEBTCONSOLIDATION|         D|     3500|        14.61|          1|               0.18|                        N|                         3|    20-25|         low|            small| 0.18409425625920472|                     0.0|      0.004174285714285714|                        1.0|            (3,[1],[1.0])|\n",
      "|        22|        35064|                 RENT|              4.0|DEBTCONSOLIDATION|         A|     2000|         8.38|          0|               0.06|                        N|                         2|    20-25|  low-middle|            small| 0.05703855806525211|                   0.002|                   0.00419|                        0.0|            (3,[0],[1.0])|\n",
      "|        22|        36000|             MORTGAGE|              6.0|         PERSONAL|         A|    18500|          7.9|          0|               0.51|                        N|                         4|    20-25|  low-middle|        very high|  0.5138888888888888|    3.243243243243243E-4|      4.270270270270270...|                        1.0|            (3,[1],[1.0])|\n",
      "|        22|        38400|                  OWN|              5.0|        EDUCATION|         C|    10000|        13.99|          0|               0.26|                        N|                         4|    20-25|  low-middle|           medium|  0.2604166666666667|                  5.0E-4|                  0.001399|                        2.0|            (3,[2],[1.0])|\n",
      "|        22|        39000|                 RENT|              0.0|DEBTCONSOLIDATION|         D|     2000|        14.84|          1|               0.05|                        Y|                         2|    20-25|  low-middle|            small| 0.05128205128205128|                     0.0|      0.007419999999999...|                        0.0|            (3,[0],[1.0])|\n",
      "|        22|        66996|             MORTGAGE|              6.0|        EDUCATION|         B|     6000|        10.37|          0|               0.09|                        N|                         3|    20-25|      middle|           medium| 0.08955758552749418|                   0.001|      0.001728333333333...|                        1.0|            (3,[1],[1.0])|\n",
      "|        22|        83000|                 RENT|              4.0|        EDUCATION|         A|     3000|         9.63|          0|               0.04|                        N|                         3|    20-25| high-middle|            small| 0.03614457831325301|    0.001333333333333...|                   0.00321|                        0.0|            (3,[0],[1.0])|\n",
      "|        22|       120456|             MORTGAGE|              6.0|        EDUCATION|         D|    20000|        14.96|          0|               0.17|                        Y|                         2|    20-25|        high|        very high|  0.1660357308892874|                  3.0E-4|      7.480000000000001E-4|                        1.0|            (3,[1],[1.0])|\n",
      "|        22|       169000|                 RENT|              1.0|         PERSONAL|         B|    14000|        11.14|          0|               0.08|                        N|                         3|    20-25|        high|             high| 0.08284023668639054|    7.142857142857143E-5|      7.957142857142858E-4|                        0.0|            (3,[0],[1.0])|\n",
      "|        23|        31000|                 RENT|              1.0|DEBTCONSOLIDATION|         B|     6000|        11.71|          1|               0.19|                        N|                         2|    20-25|  low-middle|           medium|  0.1935483870967742|    1.666666666666666...|      0.001951666666666...|                        0.0|            (3,[0],[1.0])|\n",
      "|        24|        55000|                 RENT|              2.0|DEBTCONSOLIDATION|         A|     4500|          7.9|          0|               0.08|                        N|                         2|    20-25|      middle|            small| 0.08181818181818182|    4.444444444444444...|      0.001755555555555...|                        0.0|            (3,[0],[1.0])|\n",
      "|        24|        65000|             MORTGAGE|              5.0|         PERSONAL|         B|     9600|        11.99|          0|               0.15|                        N|                         3|    20-25|      middle|           medium|  0.1476923076923077|    5.208333333333333E-4|      0.001248958333333...|                        1.0|            (3,[1],[1.0])|\n",
      "|        25|        45000|                 RENT|              0.0|DEBTCONSOLIDATION|         B|     5000|        11.89|          0|               0.11|                        N|                         3|    20-25|  low-middle|            small|  0.1111111111111111|                     0.0|                  0.002378|                        0.0|            (3,[0],[1.0])|\n",
      "|        25|        90000|             MORTGAGE|              4.0|         PERSONAL|         B|     3000|        11.49|          0|               0.03|                        N|                         4|    20-25| high-middle|            small| 0.03333333333333333|    0.001333333333333...|                   0.00383|                        1.0|            (3,[1],[1.0])|\n",
      "|        25|       100000|             MORTGAGE|              2.0|         PERSONAL|         A|    10000|         7.51|          0|                0.1|                        N|                         4|    20-25| high-middle|           medium|                 0.1|                  2.0E-4|      7.509999999999999E-4|                        1.0|            (3,[1],[1.0])|\n",
      "|        25|       128000|                 RENT|              9.0|         PERSONAL|         A|    30000|         7.29|          0|               0.23|                        N|                         4|    20-25|        high|        very high|            0.234375|                  3.0E-4|                   2.43E-4|                        0.0|            (3,[0],[1.0])|\n",
      "|        26|       125000|                 RENT|              5.0|  HOMEIMPROVEMENT|         A|    21000|          8.9|          0|               0.17|                        N|                         2|    20-25|        high|        very high|               0.168|    2.380952380952381E-4|      4.238095238095238...|                        0.0|            (3,[0],[1.0])|\n",
      "|        27|        41000|                 RENT|              0.0|          MEDICAL|         B|    15000|        11.48|          1|               0.37|                        N|                         8|    26-35|  low-middle|             high| 0.36585365853658536|                     0.0|      7.653333333333334E-4|                        0.0|            (3,[0],[1.0])|\n",
      "|        27|        60000|             MORTGAGE|             11.0|          MEDICAL|         C|     6000|        13.35|          0|                0.1|                        N|                         8|    26-35|      middle|           medium|                 0.1|    0.001833333333333...|                  0.002225|                        1.0|            (3,[1],[1.0])|\n",
      "|        27|       160000|                 RENT|              4.0|        EDUCATION|         B|     8000|        12.42|          0|               0.05|                        N|                         9|    26-35|        high|           medium|                0.05|                  5.0E-4|                 0.0015525|                        0.0|            (3,[0],[1.0])|\n",
      "+----------+-------------+---------------------+-----------------+-----------------+----------+---------+-------------+-----------+-------------------+-------------------------+--------------------------+---------+------------+-----------------+--------------------+------------------------+--------------------------+---------------------------+-------------------------+\n",
      "only showing top 20 rows\n",
      "\n"
     ]
    }
   ],
   "source": [
    "# applying to validation data\n",
    "transformed_test_df = loaded_pipeline.transform(validation_data)\n",
    "transformed_test_df.show()"
   ]
  },
  {
   "cell_type": "code",
   "execution_count": null,
   "metadata": {},
   "outputs": [],
   "source": [
    "test_data = spark.read.csv(\"./loan_data.csv\")"
   ]
  },
  {
   "cell_type": "code",
   "execution_count": null,
   "metadata": {},
   "outputs": [
    {
     "name": "stdout",
     "output_type": "stream",
     "text": [
      "+------------------------+\n",
      "|loan_to_emp_length_ratio|\n",
      "+------------------------+\n",
      "|                  2.0E-4|\n",
      "|    0.002666666666666...|\n",
      "|    7.647058823529412E-4|\n",
      "|    0.001285714285714...|\n",
      "|    4.878048780487805E-4|\n",
      "|    0.001111111111111...|\n",
      "|                  9.0E-4|\n",
      "|    0.001166666666666...|\n",
      "|                  0.0012|\n",
      "|                     0.0|\n",
      "|    0.003888888888888...|\n",
      "|    9.821428571428572E-4|\n",
      "|                  2.5E-4|\n",
      "|                     0.0|\n",
      "|                   0.001|\n",
      "|                  3.5E-4|\n",
      "|    8.695652173913044E-5|\n",
      "|                  0.0035|\n",
      "|                  2.5E-4|\n",
      "|    0.001081081081081081|\n",
      "+------------------------+\n",
      "only showing top 20 rows\n",
      "\n"
     ]
    }
   ],
   "source": [
    "transformed_training_data.select('loan_to_emp_length_ratio').show()"
   ]
  },
  {
   "cell_type": "code",
   "execution_count": null,
   "metadata": {},
   "outputs": [
    {
     "name": "stdout",
     "output_type": "stream",
     "text": [
      "+-----------+-----+\n",
      "|loan_status|count|\n",
      "+-----------+-----+\n",
      "|          1| 4994|\n",
      "|          0|17812|\n",
      "+-----------+-----+\n",
      "\n"
     ]
    }
   ],
   "source": [
    "transformed_training_data.groupBy(col('loan_status')).count().show()"
   ]
  },
  {
   "cell_type": "code",
   "execution_count": null,
   "metadata": {},
   "outputs": [
    {
     "name": "stderr",
     "output_type": "stream",
     "text": [
      "                                                                                \r"
     ]
    },
    {
     "name": "stdout",
     "output_type": "stream",
     "text": [
      "+-----------+-----+\n",
      "|loan_status|count|\n",
      "+-----------+-----+\n",
      "|          1|17812|\n",
      "|          0|17812|\n",
      "+-----------+-----+\n",
      "\n"
     ]
    }
   ],
   "source": [
    "majority_class = transformed_training_data.filter(F.col('loan_status') == 0)\n",
    "minority_class = transformed_training_data.filter(F.col('loan_status') == 1)\n",
    "\n",
    "majority_count = majority_class.count()\n",
    "minority_count = minority_class.count()\n",
    "upsample_ratio = majority_count // minority_count\n",
    "\n",
    "upsampled_minority_class = minority_class.withColumn(\n",
    "    \"dummy\", F.explode(F.array([F.lit(x) for x in range(upsample_ratio)]))\n",
    ").drop(\"dummy\")\n",
    "\n",
    "remaining_count = majority_count - upsampled_minority_class.count()\n",
    "extra_minority_rows = minority_class.limit(remaining_count)\n",
    "\n",
    "final_minority_class = upsampled_minority_class.unionAll(extra_minority_rows)\n",
    "\n",
    "upsampled_train_df = majority_class.unionAll(final_minority_class)\n",
    "\n",
    "upsampled_train_df.groupBy(\"loan_status\").count().show()"
   ]
  },
  {
   "cell_type": "code",
   "execution_count": null,
   "metadata": {},
   "outputs": [
    {
     "data": {
      "text/plain": [
       "45"
      ]
     },
     "execution_count": 43,
     "metadata": {},
     "output_type": "execute_result"
    }
   ],
   "source": [
    "len(transformed_training_data.columns)"
   ]
  },
  {
   "cell_type": "code",
   "execution_count": null,
   "metadata": {},
   "outputs": [],
   "source": [
    "# from pyspark.ml.feature import VectorAssembler, StandardScaler\n",
    "# from pyspark.ml import Pipeline\n",
    "# from pyspark.sql.functions import udf\n",
    "# from pyspark.sql.types import DoubleType\n",
    "\n",
    "# def extract_scalar(vector):\n",
    "#     # Assumes the vector is a list with a single float value\n",
    "#     return float(vector[0]) if vector else None\n",
    "\n",
    "# # Register the UDF\n",
    "# extract_scalar_udf = udf(extract_scalar, DoubleType())\n",
    "\n",
    "# def scale_columns_individually(df, columns_to_scale, pipeline_path, save_model=True):\n",
    "#     stages = []\n",
    "#     for col_name in columns_to_scale:\n",
    "#         # Step 1: Vectorize each column individually\n",
    "#         assembler = VectorAssembler(inputCols=[col_name], outputCol=f\"{col_name}_vec\")\n",
    "        \n",
    "#         # Step 2: Apply Standard Scaling to the vectorized column\n",
    "#         scaler = StandardScaler(inputCol=f\"{col_name}_vec\", outputCol=f\"scaled_{col_name}\", withMean=True, withStd=True)\n",
    "        \n",
    "#         # Add stages to the pipeline\n",
    "#         stages.extend([assembler, scaler])\n",
    "    \n",
    "#     # Step 3: Define the pipeline with all stages\n",
    "#     pipeline = Pipeline(stages=stages)\n",
    "    \n",
    "#     # Step 4: Fit the pipeline to the data\n",
    "#     scaled_pipeline_model = pipeline.fit(df)\n",
    "    \n",
    "#     # Optionally save the pipeline model if requested\n",
    "#     if save_model:\n",
    "#         scaled_pipeline_model.save(pipeline_path)\n",
    "    \n",
    "#     # Transform the DataFrame to get scaled features\n",
    "#     scaled_df = scaled_pipeline_model.transform(df)\n",
    "    \n",
    "#     # Drop the original columns and vector columns\n",
    "#     vector_columns = [f\"{col}_vec\" for col in columns_to_scale]\n",
    "#     scaled_columns = [f\"scaled_{col}\" for col in columns_to_scale]\n",
    "    \n",
    "#     for col in scaled_columns:\n",
    "#         # Apply UDF to convert vectors to scalar values\n",
    "#         scaled_df = scaled_df.withColumn(col, extract_scalar_udf(F.col(col)))\n",
    "    \n",
    "#     # Drop the vector columns and original columns\n",
    "#     columns_to_drop = vector_columns + columns_to_scale\n",
    "#     scaled_df = scaled_df.drop(*columns_to_drop)\n",
    "    \n",
    "#     return scaled_df\n",
    "\n",
    "# # Example usage of the function\n",
    "# columns_to_scale = ['person_age', 'person_income', 'person_emp_length', 'loan_amnt', \n",
    "#                     'loan_int_rate', 'cb_person_cred_hist_length', \n",
    "#                     'loan_to_emp_length_ratio', 'int_rate_to_loan_amt_ratio']\n",
    "\n",
    "# # Call the function to scale and drop original columns\n",
    "# scaled_train_df = scale_columns_individually(upsampled_train_df, columns_to_scale, \"./scaled_pipeline_model\", save_model=True)\n",
    "\n",
    "# # Show the resulting DataFrame\n",
    "# scaled_train_df.show(truncate=False)\n"
   ]
  },
  {
   "cell_type": "code",
   "execution_count": null,
   "metadata": {},
   "outputs": [],
   "source": [
    "# scaled_train_df.select('scaled_loan_to_emp_length_ratio').show()"
   ]
  },
  {
   "cell_type": "code",
   "execution_count": null,
   "metadata": {},
   "outputs": [],
   "source": [
    "\n",
    "# from pyspark.ml.pipeline import PipelineModel\n",
    "# scaled_pipeline_model = PipelineModel.load(\"./scaled_pipeline_model\")\n",
    "\n",
    "# # applying to validation data\n",
    "# scaled_test_df = scaled_pipeline_model.transform(transformed_test_df)\n",
    "# scaled_test_df.show()"
   ]
  },
  {
   "cell_type": "code",
   "execution_count": null,
   "metadata": {},
   "outputs": [
    {
     "name": "stderr",
     "output_type": "stream",
     "text": [
      "[Stage 247:==================>                                  (70 + 18) / 200]\r"
     ]
    },
    {
     "name": "stdout",
     "output_type": "stream",
     "text": [
      "+-----------+-------------------+--------------------+---------------------------+---------------------------+------------+------------+------------+------------+------------+------------+------------+-------------------------+--------------------------+------------------------------+---------------------------+-----------------------------+-------------------+--------------------+---------------------+---------------------------+-------------------+-----------------------+----------------+-----------------+-------------------+------------------------+---------------+---------------+---------------+---------------+---------------+---------------+----------------------+------------------------+---------------------------+-----------------------+-----------------+--------------------+------------------------+--------------------+---------------------+---------------------------------+-------------------------------+---------------------------------+\n",
      "|loan_status|loan_percent_income|loan_to_income_ratio|cb_person_default_on_file_Y|cb_person_default_on_file_N|loan_grade_F|loan_grade_E|loan_grade_B|loan_grade_D|loan_grade_C|loan_grade_A|loan_grade_G|person_home_ownership_OWN|person_home_ownership_RENT|person_home_ownership_MORTGAGE|person_home_ownership_OTHER|loan_intent_DEBTCONSOLIDATION|loan_intent_VENTURE|loan_intent_PERSONAL|loan_intent_EDUCATION|loan_intent_HOMEIMPROVEMENT|loan_intent_MEDICAL|income_group_low-middle|income_group_low|income_group_high|income_group_middle|income_group_high-middle|age_group_26-35|age_group_20-25|age_group_46-55|age_group_36-45|age_group_66-80|age_group_56-65|loan_amount_group_high|loan_amount_group_medium|loan_amount_group_very high|loan_amount_group_small|scaled_person_age|scaled_person_income|scaled_person_emp_length|scaled_loan_amnt    |scaled_loan_int_rate |scaled_cb_person_cred_hist_length|scaled_loan_to_emp_length_ratio|scaled_int_rate_to_loan_amt_ratio|\n",
      "+-----------+-------------------+--------------------+---------------------------+---------------------------+------------+------------+------------+------------+------------+------------+------------+-------------------------+--------------------------+------------------------------+---------------------------+-----------------------------+-------------------+--------------------+---------------------+---------------------------+-------------------+-----------------------+----------------+-----------------+-------------------+------------------------+---------------+---------------+---------------+---------------+---------------+---------------+----------------------+------------------------+---------------------------+-----------------------+-----------------+--------------------+------------------------+--------------------+---------------------+---------------------------------+-------------------------------+---------------------------------+\n",
      "|0          |0.22               |0.2247191011235955  |0                          |1                          |0           |0           |0           |0           |0           |1           |0           |0                        |0                         |1                             |0                          |0                            |0                  |1                   |0                    |0                          |0                  |1                      |0               |0                |0                  |0                       |1              |0              |0              |0              |0              |0              |0                     |1                       |0                          |0                      |-2.2             |-2.8806356666522577 |-2.7073170731707314     |-1.3478260869565217 |-1.9314606741573033  |-2.142857142857143               |-2.9314285714285715            |-2.825113098834382               |\n",
      "|0          |0.05               |0.05172413793103448 |0                          |1                          |0           |0           |0           |0           |0           |1           |0           |1                        |0                         |0                             |0                          |0                            |0                  |0                   |0                    |0                          |1                  |0                      |0               |0                |1                  |0                       |1              |0              |0              |0              |0              |0              |0                     |0                       |0                          |1                      |-1.6             |-2.8408475555363437 |-1.8292682926829267     |-2.5652173913043477 |-2.548314606741573   |-1.2857142857142858              |-2.085714285714286             |-2.455268858401733               |\n",
      "|0          |0.16               |0.1619047619047619  |0                          |1                          |0           |0           |1           |0           |0           |0           |0           |0                        |0                         |1                             |0                          |1                            |0                  |0                   |0                    |0                          |0                  |0                      |0               |1                |0                  |0                       |1              |0              |0              |0              |0              |0              |0                     |0                       |1                          |0                      |-2.1             |-2.7023259835031617 |-1.0975609756097562     |-0.13043478260869534|-1.3719101123595503  |-1.2857142857142858              |-2.73781512605042              |-2.8930322103053214              |\n",
      "|0          |0.15               |0.14893617021276595 |0                          |1                          |0           |0           |0           |0           |0           |1           |0           |1                        |0                         |0                             |0                          |0                            |0                  |1                   |0                    |0                          |0                  |1                      |0               |0                |0                  |0                       |0              |1              |0              |0              |0              |0              |0                     |1                       |0                          |0                      |-2.5             |-2.8732674979270887 |-1.6829268292682926     |-1.8695652173913042 |-2.295505617977528   |-2.5714285714285716              |-2.559183673469388             |-2.7683879021613507              |\n",
      "|0          |0.24               |0.2411764705882353  |0                          |1                          |0           |0           |1           |0           |0           |0           |0           |0                        |1                         |0                             |0                          |0                            |1                  |0                   |0                    |0                          |0                  |1                      |0               |0                |0                  |0                       |0              |1              |0              |0              |0              |0              |0                     |1                       |0                          |0                      |-2.5             |-2.9115819752979686 |-2.4146341463414633     |-1.6608695652173913 |-0.7112359550561789  |-2.5714285714285716              |-2.832752613240418             |-2.658000338568688               |\n",
      "|0          |0.04               |0.040754224854643264|0                          |1                          |0           |0           |1           |0           |0           |0           |0           |0                        |0                         |1                             |0                          |0                            |1                  |0                   |0                    |0                          |0                  |0                      |0               |1                |0                  |0                       |0              |1              |0              |0              |0              |0              |0                     |1                       |0                          |0                      |-2.4             |-2.3609263065236785 |-1.5365853658536586     |-1.5217391304347825 |-1.031460674157303   |-2.7857142857142856              |-2.619047619047619             |-2.7211063792163395              |\n",
      "|0          |0.2                |0.2                 |1                          |0                          |0           |0           |0           |0           |1           |0           |0           |0                        |1                         |0                             |0                          |0                            |0                  |1                   |0                    |0                          |0                  |1                      |0               |0                |0                  |0                       |0              |1              |0              |0              |0              |0              |0                     |1                       |0                          |0                      |-2.7             |-2.9233710452582398 |-1.975609756097561      |-2.0434782608695654 |0.13483146067415852  |-2.5714285714285716              |-2.6                           |-2.40221924227465                |\n",
      "|0          |0.08               |0.08333333333333333 |0                          |1                          |0           |0           |0           |0           |0           |1           |0           |0                        |0                         |1                             |0                          |1                            |0                  |0                   |0                    |0                          |0                  |0                      |0               |0                |1                  |0                       |0              |1              |0              |0              |0              |0              |0                     |0                       |0                          |1                      |-2.8             |-2.8349530205562083 |-2.1219512195121952     |-2.217391304347826  |-2.8078651685393257  |-2.5714285714285716              |-2.5885714285714285            |-2.735193999498976               |\n",
      "|0          |0.2                |0.20136363636363636 |0                          |1                          |0           |0           |0           |0           |1           |0           |0           |0                        |0                         |1                             |0                          |0                            |0                  |0                   |1                    |0                          |0                  |0                      |0               |0                |1                  |0                       |0              |1              |0              |0              |0              |0              |1                     |0                       |0                          |0                      |-2.7             |-2.8496893580065468 |-3.0                    |-1.1608695652173913 |-0.2797752808988756  |-2.7857142857142856              |-3.0                           |-2.729873470278826               |\n",
      "|0          |0.02               |0.015384615384615385|0                          |1                          |0           |0           |1           |0           |0           |0           |0           |0                        |1                         |0                             |0                          |0                            |0                  |1                   |0                    |0                          |0                  |0                      |0               |1                |0                  |0                       |1              |0              |0              |0              |0              |0              |0                     |0                       |0                          |1                      |-2.3             |-2.666958773622349  |-1.975609756097561      |-2.773913043478261  |-0.6404494382022468  |-1.2857142857142858              |-1.666666666666667             |-1.2227494437158308              |\n",
      "|0          |0.16               |0.15774647887323945 |0                          |1                          |0           |0           |1           |0           |0           |0           |0           |0                        |0                         |1                             |0                          |1                            |0                  |0                   |0                    |0                          |0                  |0                      |0               |0                |1                  |0                       |0              |0              |0              |1              |0              |0              |1                     |0                       |0                          |0                      |-1.3             |-2.8025330781654634 |-1.3902439024390243     |-1.1391304347826086 |-0.6404494382022468  |-1.0714285714285712              |-2.663265306122449             |-2.758820024967002               |\n",
      "|0          |0.13               |0.13333333333333333 |0                          |1                          |0           |0           |0           |0           |0           |1           |0           |0                        |1                         |0                             |0                          |1                            |0                  |0                   |0                    |0                          |0                  |0                      |0               |0                |0                  |1                       |0              |1              |0              |0              |0              |0              |1                     |0                       |0                          |0                      |-2.8             |-2.746534995854177  |-2.5609756097560976     |-1.0                |-1.8134831460674157  |-2.7857142857142856              |-2.914285714285714             |-2.8553513800268195              |\n",
      "|0          |0.12               |0.12254901960784313 |1                          |0                          |0           |0           |0           |0           |1           |0           |0           |0                        |1                         |0                             |0                          |1                            |0                  |0                   |0                    |0                          |0                  |1                      |0               |0                |0                  |0                       |0              |1              |0              |0              |0              |0              |0                     |0                       |0                          |1                      |-2.5             |-2.915590259084461  |-2.4146341463414633     |-2.391304347826087  |-0.535955056179775   |-2.5714285714285716              |-2.657142857142857             |-2.2088091834779915              |\n",
      "|0          |0.05               |0.046620046620046623|0                          |1                          |0           |0           |1           |0           |0           |0           |0           |1                        |0                         |0                             |0                          |0                            |0                  |0                   |1                    |0                          |0                  |1                      |0               |0                |0                  |0                       |0              |1              |0              |0              |0              |0              |0                     |0                       |0                          |1                      |-2.8             |-2.885351294636366  |-1.975609756097561      |-2.739130434782609  |-1.2067415730337077  |-2.5714285714285716              |-1.8                           |-1.628579007088018               |\n",
      "|0          |0.15               |0.15384615384615385 |0                          |1                          |0           |0           |0           |0           |1           |0           |0           |0                        |0                         |1                             |0                          |0                            |1                  |0                   |0                    |0                          |0                  |0                      |0               |1                |0                  |0                       |0              |1              |0              |0              |0              |0              |0                     |0                       |1                          |0                      |-2.5             |-2.6286442962514687 |-2.2682926829268295     |0.3913043478260869  |-0.2831460674157298  |-3.0                             |-2.914285714285714             |-2.874183993751934               |\n",
      "|0          |0.25               |0.25                |1                          |0                          |0           |0           |0           |1           |0           |0           |0           |0                        |0                         |1                             |0                          |0                            |0                  |1                   |0                    |0                          |0                  |0                      |0               |0                |1                  |0                       |0              |1              |0              |0              |0              |0              |1                     |0                       |0                          |0                      |-2.7             |-2.8349530205562083 |-2.2682926829268295     |-0.47826086956521774|0.3000000000000007   |-2.7857142857142856              |-2.8857142857142857            |-2.7839996463358925              |\n",
      "|0          |0.22               |0.2222222222222222  |0                          |1                          |0           |0           |0           |1           |0           |0           |0           |1                        |0                         |0                             |0                          |0                            |1                  |0                   |0                    |0                          |0                  |1                      |0               |0                |0                  |0                       |1              |0              |0              |0              |0              |0              |0                     |1                       |0                          |0                      |-1.5             |-2.879162032907224  |-2.1219512195121952     |-1.3478260869565217 |0.8258426966292136   |-2.357142857142857               |-2.7942857142857145            |-2.6081401688746113              |\n",
      "|0          |0.25               |0.25                |0                          |1                          |0           |0           |0           |0           |0           |1           |0           |0                        |1                         |0                             |0                          |0                            |0                  |0                   |0                    |0                          |1                  |0                      |1               |0                |0                  |0                       |1              |0              |0              |0              |0              |0              |0                     |0                       |0                          |1                      |-1.6             |-2.9528437201589166 |-2.2682926829268295     |-2.217391304347826  |-1.826966292134831   |-2.357142857142857               |-2.657142857142857             |-2.5808196165691633              |\n",
      "|0          |0.06               |0.06001500375093773 |1                          |0                          |0           |0           |0           |0           |1           |0           |0           |0                        |0                         |1                             |0                          |0                            |0                  |0                   |0                    |1                          |0                  |1                      |0               |0                |0                  |0                       |0              |1              |0              |0              |0              |0              |0                     |0                       |0                          |1                      |-2.4             |-2.893927843032463  |-2.5609756097560976     |-2.6695652173913045 |-0.016853932584269593|-3.0                             |-2.5714285714285716            |-1.4758403206554576              |\n",
      "|0          |0.12               |0.11913271384322136 |0                          |1                          |0           |0           |0           |0           |0           |1           |0           |0                        |0                         |1                             |0                          |0                            |0                  |0                   |1                    |0                          |0                  |0                      |0               |0                |1                  |0                       |0              |1              |0              |0              |0              |0              |0                     |1                       |0                          |0                      |-2.8             |-2.8633528900905008 |-2.1219512195121952     |-2.0434782608695654 |-2.79438202247191    |-2.7857142857142856              |-2.657142857142857             |-2.7863868790616113              |\n",
      "+-----------+-------------------+--------------------+---------------------------+---------------------------+------------+------------+------------+------------+------------+------------+------------+-------------------------+--------------------------+------------------------------+---------------------------+-----------------------------+-------------------+--------------------+---------------------+---------------------------+-------------------+-----------------------+----------------+-----------------+-------------------+------------------------+---------------+---------------+---------------+---------------+---------------+---------------+----------------------+------------------------+---------------------------+-----------------------+-----------------+--------------------+------------------------+--------------------+---------------------+---------------------------------+-------------------------------+---------------------------------+\n",
      "only showing top 20 rows\n",
      "\n"
     ]
    },
    {
     "name": "stderr",
     "output_type": "stream",
     "text": [
      "                                                                                \r"
     ]
    }
   ],
   "source": [
    "from pyspark.ml.feature import VectorAssembler\n",
    "from pyspark.ml import Pipeline\n",
    "from pyspark.sql.functions import udf\n",
    "from pyspark.sql.types import DoubleType\n",
    "from pyspark.sql import functions as F\n",
    "\n",
    "# def extract_scalar(vector):\n",
    "#     return float(vector[0]) if vector else None\n",
    "\n",
    "# extract_scalar_udf = udf(extract_scalar, DoubleType())\n",
    "\n",
    "def min_max_scale(df, columns_to_scale, min_val=-3, max_val=3):\n",
    "    for col_name in columns_to_scale:\n",
    "        min_col, max_col = df.select(F.min(col_name), F.max(col_name)).first()\n",
    "        scaled_col = (F.col(col_name) - min_col) / (max_col - min_col) * (max_val - min_val) + min_val\n",
    "        df = df.withColumn(f\"scaled_{col_name}\", scaled_col)\n",
    "    \n",
    "    return df\n",
    "\n",
    "def scale_columns_individually(df, columns_to_scale, pipeline_path=None, save_model=False):\n",
    "    scaled_df = min_max_scale(df, columns_to_scale, min_val=-3, max_val=3)\n",
    "    \n",
    "    scaled_df = scaled_df.drop(*columns_to_scale)\n",
    "    \n",
    "    return scaled_df\n",
    "\n",
    "\n",
    "columns_to_scale = ['person_age', 'person_income', 'person_emp_length', 'loan_amnt', \n",
    "                    'loan_int_rate', 'cb_person_cred_hist_length', \n",
    "                    'loan_to_emp_length_ratio', 'int_rate_to_loan_amt_ratio']\n",
    "\n",
    "scaled_train_df = scale_columns_individually(upsampled_train_df, columns_to_scale, save_model=False)\n",
    "\n",
    "scaled_train_df.show(truncate=False)\n"
   ]
  },
  {
   "cell_type": "code",
   "execution_count": null,
   "metadata": {},
   "outputs": [
    {
     "name": "stdout",
     "output_type": "stream",
     "text": [
      "+-----------+-------------------+--------------------+---------------------------+---------------------------+------------+------------+------------+------------+------------+------------+------------+-------------------------+--------------------------+------------------------------+---------------------------+-----------------------------+-------------------+--------------------+---------------------+---------------------------+-------------------+-----------------------+----------------+-----------------+-------------------+------------------------+---------------+---------------+---------------+---------------+---------------+---------------+----------------------+------------------------+---------------------------+-----------------------+-------------------+--------------------+------------------------+-------------------+--------------------+---------------------------------+-------------------------------+---------------------------------+\n",
      "|loan_status|loan_percent_income|loan_to_income_ratio|cb_person_default_on_file_Y|cb_person_default_on_file_N|loan_grade_F|loan_grade_E|loan_grade_B|loan_grade_D|loan_grade_C|loan_grade_A|loan_grade_G|person_home_ownership_OWN|person_home_ownership_RENT|person_home_ownership_MORTGAGE|person_home_ownership_OTHER|loan_intent_DEBTCONSOLIDATION|loan_intent_VENTURE|loan_intent_PERSONAL|loan_intent_EDUCATION|loan_intent_HOMEIMPROVEMENT|loan_intent_MEDICAL|income_group_low-middle|income_group_low|income_group_high|income_group_middle|income_group_high-middle|age_group_26-35|age_group_20-25|age_group_46-55|age_group_36-45|age_group_66-80|age_group_56-65|loan_amount_group_high|loan_amount_group_medium|loan_amount_group_very high|loan_amount_group_small|scaled_person_age  |scaled_person_income|scaled_person_emp_length|scaled_loan_amnt   |scaled_loan_int_rate|scaled_cb_person_cred_hist_length|scaled_loan_to_emp_length_ratio|scaled_int_rate_to_loan_amt_ratio|\n",
      "+-----------+-------------------+--------------------+---------------------------+---------------------------+------------+------------+------------+------------+------------+------------+------------+-------------------------+--------------------------+------------------------------+---------------------------+-----------------------------+-------------------+--------------------+---------------------+---------------------------+-------------------+-----------------------+----------------+-----------------+-------------------+------------------------+---------------+---------------+---------------+---------------+---------------+---------------+----------------------+------------------------+---------------------------+-----------------------+-------------------+--------------------+------------------------+-------------------+--------------------+---------------------------------+-------------------------------+---------------------------------+\n",
      "|1          |0.18               |0.18409425625920472 |0                          |1                          |0           |0           |0           |1           |0           |0           |0           |0                        |0                         |1                             |0                          |1                            |0                  |0                   |0                    |0                          |0                  |0                      |1               |0                |0                  |0                       |0              |1              |0              |0              |0              |0              |0                     |0                       |0                          |1                      |-2.8867924528301887|-2.9405852842809366 |-3.0                    |-2.526315789473684 |0.31370192307692246 |-2.7857142857142856              |-3.0                           |-1.6207487255471678              |\n",
      "|0          |0.06               |0.05703855806525211 |0                          |1                          |0           |0           |0           |0           |0           |1           |0           |0                        |1                         |0                             |0                          |1                            |0                  |0                   |0                    |0                          |0                  |1                      |0               |0                |0                  |0                       |0              |1              |0              |0              |0              |0              |0                     |0                       |0                          |1                      |-2.7735849056603774|-2.873478260869565  |-2.142857142857143      |-2.7894736842105265|-1.9326923076923075 |-3.0                             |-2.428571428571429             |-1.6152956372539566              |\n",
      "|0          |0.51               |0.5138888888888888  |0                          |1                          |0           |0           |0           |0           |0           |1           |0           |0                        |0                         |1                             |0                          |0                            |0                  |1                   |0                    |0                          |0                  |1                      |0               |0                |0                  |0                       |0              |1              |0              |0              |0              |0              |0                     |0                       |1                          |0                      |-2.7735849056603774|-2.869565217391304  |-1.7142857142857144     |0.10526315789473717|-2.105769230769231  |-2.5714285714285716              |-2.9073359073359075            |-2.9211026105822815              |\n",
      "|0          |0.26               |0.2604166666666667  |0                          |1                          |0           |0           |0           |0           |1           |0           |0           |1                        |0                         |0                             |0                          |0                            |0                  |0                   |1                    |0                          |0                  |1                      |0               |0                |0                  |0                       |0              |1              |0              |0              |0              |0              |0                     |1                       |0                          |0                      |-2.7735849056603774|-2.859531772575251  |-1.9285714285714286     |-1.3859649122807018|0.09014423076923084 |-2.5714285714285716              |-2.857142857142857             |-2.583813691658152               |\n",
      "|1          |0.05               |0.05128205128205128 |1                          |0                          |0           |0           |0           |1           |0           |0           |0           |0                        |1                         |0                             |0                          |1                            |0                  |0                   |0                    |0                          |0                  |1                      |0               |0                |0                  |0                       |0              |1              |0              |0              |0              |0              |0                     |0                       |0                          |1                      |-2.7735849056603774|-2.8570234113712374 |-3.0                    |-2.7894736842105265|0.396634615384615   |-3.0                             |-3.0                           |-0.49443812534942433             |\n",
      "|0          |0.09               |0.08955758552749418 |0                          |1                          |0           |0           |1           |0           |0           |0           |0           |0                        |0                         |1                             |0                          |0                            |0                  |0                   |1                    |0                          |0                  |0                      |0               |0                |1                  |0                       |0              |1              |0              |0              |0              |0              |0                     |1                       |0                          |0                      |-2.7735849056603774|-2.739983277591973  |-1.7142857142857144     |-2.087719298245614 |-1.2151442307692308 |-2.7857142857142856              |-2.7142857142857144            |-2.469530180640435               |\n",
      "|0          |0.04               |0.03614457831325301 |0                          |1                          |0           |0           |0           |0           |0           |1           |0           |0                        |1                         |0                             |0                          |0                            |0                  |0                   |1                    |0                          |0                  |0                      |0               |0                |0                  |1                       |0              |1              |0              |0              |0              |0              |0                     |0                       |0                          |1                      |-2.7735849056603774|-2.673076923076923  |-2.142857142857143      |-2.6140350877192984|-1.4819711538461537 |-2.7857142857142856              |-2.619047619047619             |-1.955370052630564               |\n",
      "|0          |0.17               |0.1660357308892874  |1                          |0                          |0           |0           |0           |1           |0           |0           |0           |0                        |0                         |1                             |0                          |0                            |0                  |0                   |1                    |0                          |0                  |0                      |0               |1                |0                  |0                       |0              |1              |0              |0              |0              |0              |0                     |0                       |1                          |0                      |-2.7735849056603774|-2.516488294314381  |-1.7142857142857144     |0.36842105263157876|0.43990384615384626 |-3.0                             |-2.914285714285714             |-2.809720267586898               |\n",
      "|0          |0.08               |0.08284023668639054 |0                          |1                          |0           |0           |1           |0           |0           |0           |0           |0                        |1                         |0                             |0                          |0                            |0                  |1                   |0                    |0                          |0                  |0                      |0               |1                |0                  |0                       |0              |1              |0              |0              |0              |0              |1                     |0                       |0                          |0                      |-2.7735849056603774|-2.313545150501672  |-2.7857142857142856     |-0.6842105263157894|-0.9375             |-2.7857142857142856              |-2.979591836734694             |-2.7931627085875124              |\n",
      "|1          |0.19               |0.1935483870967742  |0                          |1                          |0           |0           |1           |0           |0           |0           |0           |0                        |1                         |0                             |0                          |1                            |0                  |0                   |0                    |0                          |0                  |1                      |0               |0                |0                  |0                       |0              |1              |0              |0              |0              |0              |0                     |1                       |0                          |0                      |-2.660377358490566 |-2.890468227424749  |-2.7857142857142856     |-2.087719298245614 |-0.7319711538461537 |-3.0                             |-2.9523809523809526            |-2.3920302288369224              |\n",
      "|0          |0.08               |0.08181818181818182 |0                          |1                          |0           |0           |0           |0           |0           |1           |0           |0                        |1                         |0                             |0                          |1                            |0                  |0                   |0                    |0                          |0                  |0                      |0               |0                |1                  |0                       |0              |1              |0              |0              |0              |0              |0                     |0                       |0                          |1                      |-2.547169811320755 |-2.790133779264214  |-2.5714285714285716     |-2.3508771929824563|-2.105769230769231  |-3.0                             |-2.873015873015873             |-2.460083669102196               |\n",
      "|0          |0.15               |0.1476923076923077  |0                          |1                          |0           |0           |1           |0           |0           |0           |0           |0                        |0                         |1                             |0                          |0                            |0                  |1                   |0                    |0                          |0                  |0                      |0               |0                |1                  |0                       |0              |1              |0              |0              |0              |0              |0                     |1                       |0                          |0                      |-2.547169811320755 |-2.7483277591973243 |-1.9285714285714286     |-1.456140350877193 |-0.6310096153846154 |-2.7857142857142856              |-2.8511904761904763            |-2.635880357039579               |\n",
      "|0          |0.11               |0.1111111111111111  |0                          |1                          |0           |0           |1           |0           |0           |0           |0           |0                        |1                         |0                             |0                          |1                            |0                  |0                   |0                    |0                          |0                  |1                      |0               |0                |0                  |0                       |0              |1              |0              |0              |0              |0              |0                     |0                       |0                          |1                      |-2.433962264150943 |-2.8319397993311037 |-3.0                    |-2.263157894736842 |-0.6670673076923075 |-2.7857142857142856              |-3.0                           |-2.2440862909911123              |\n",
      "|0          |0.03               |0.03333333333333333 |0                          |1                          |0           |0           |1           |0           |0           |0           |0           |0                        |0                         |1                             |0                          |0                            |0                  |1                   |0                    |0                          |0                  |0                      |0               |0                |0                  |1                       |0              |1              |0              |0              |0              |0              |0                     |0                       |0                          |1                      |-2.433962264150943 |-2.6438127090301005 |-2.142857142857143      |-2.6140350877192984|-0.8112980769230766 |-2.5714285714285716              |-2.619047619047619             |-1.7402209326984246              |\n",
      "|0          |0.1                |0.1                 |0                          |1                          |0           |0           |0           |0           |0           |1           |0           |0                        |0                         |1                             |0                          |0                            |0                  |1                   |0                    |0                          |0                  |0                      |0               |0                |0                  |1                       |0              |1              |0              |0              |0              |0              |0                     |1                       |0                          |0                      |-2.433962264150943 |-2.6020066889632107 |-2.5714285714285716     |-1.3859649122807018|-2.246394230769231  |-2.5714285714285716              |-2.942857142857143             |-2.8086792234581943              |\n",
      "|0          |0.23               |0.234375            |0                          |1                          |0           |0           |0           |0           |0           |1           |0           |0                        |1                         |0                             |0                          |0                            |0                  |1                   |0                    |0                          |0                  |0                      |0               |1                |0                  |0                       |0              |1              |0              |0              |0              |0              |0                     |0                       |1                          |0                      |-2.433962264150943 |-2.4849498327759196 |-1.0714285714285712     |2.1228070175438596 |-2.3257211538461537 |-2.5714285714285716              |-2.914285714285714             |-2.9849626959187217              |\n",
      "|0          |0.17               |0.168               |0                          |1                          |0           |0           |0           |0           |0           |1           |0           |0                        |1                         |0                             |0                          |0                            |0                  |0                   |0                    |1                          |0                  |0                      |0               |1                |0                  |0                       |0              |1              |0              |0              |0              |0              |0                     |0                       |1                          |0                      |-2.3207547169811322|-2.497491638795987  |-1.9285714285714286     |0.5438596491228074 |-1.7451923076923077 |-3.0                             |-2.931972789115646             |-2.922219131526837               |\n",
      "|1          |0.37               |0.36585365853658536 |0                          |1                          |0           |0           |1           |0           |0           |0           |0           |0                        |1                         |0                             |0                          |0                            |0                  |0                   |0                    |0                          |1                  |1                      |0               |0                |0                  |0                       |1              |0              |0              |0              |0              |0              |1                     |0                       |0                          |0                      |-2.2075471698113205|-2.8486622073578594 |-3.0                    |-0.5087719298245617|-0.8149038461538458 |-1.7142857142857144              |-3.0                           |-2.803705345954387               |\n",
      "|0          |0.1                |0.1                 |0                          |1                          |0           |0           |0           |0           |1           |0           |0           |0                        |0                         |1                             |0                          |0                            |0                  |0                   |0                    |0                          |1                  |0                      |0               |0                |1                  |0                       |1              |0              |0              |0              |0              |0              |0                     |1                       |0                          |0                      |-2.2075471698113205|-2.769230769230769  |-0.6428571428571428     |-2.087719298245614 |-0.14062500000000044|-1.7142857142857144              |-2.4761904761904763            |-2.2971795415550114              |\n",
      "|0          |0.05               |0.05                |0                          |1                          |0           |0           |1           |0           |0           |0           |0           |0                        |1                         |0                             |0                          |0                            |0                  |0                   |1                    |0                          |0                  |0                      |0               |1                |0                  |0                       |1              |0              |0              |0              |0              |0              |0                     |1                       |0                          |0                      |-2.2075471698113205|-2.351170568561873  |-2.142857142857143      |-1.736842105263158 |-0.4759615384615383 |-1.5                             |-2.857142857142857             |-2.530546933739469               |\n",
      "+-----------+-------------------+--------------------+---------------------------+---------------------------+------------+------------+------------+------------+------------+------------+------------+-------------------------+--------------------------+------------------------------+---------------------------+-----------------------------+-------------------+--------------------+---------------------+---------------------------+-------------------+-----------------------+----------------+-----------------+-------------------+------------------------+---------------+---------------+---------------+---------------+---------------+---------------+----------------------+------------------------+---------------------------+-----------------------+-------------------+--------------------+------------------------+-------------------+--------------------+---------------------------------+-------------------------------+---------------------------------+\n",
      "only showing top 20 rows\n",
      "\n"
     ]
    }
   ],
   "source": [
    "scaled_test_df = scale_columns_individually(transformed_test_df, columns_to_scale, save_model=False)\n",
    "scaled_test_df.show(truncate=False)"
   ]
  },
  {
   "cell_type": "code",
   "execution_count": null,
   "metadata": {},
   "outputs": [
    {
     "name": "stdout",
     "output_type": "stream",
     "text": [
      "String columns: []\n"
     ]
    }
   ],
   "source": [
    "all_dtypes = scaled_test_df.dtypes\n",
    "\n",
    "# Filter for string columns\n",
    "string_columns = [col for col, dtype in all_dtypes if dtype == 'string']\n",
    "\n",
    "# Print the string columns\n",
    "print(\"String columns:\", string_columns)"
   ]
  },
  {
   "cell_type": "code",
   "execution_count": null,
   "metadata": {},
   "outputs": [],
   "source": [
    "features = [feature for feature in scaled_train_df.columns if feature not in 'loan_status' ]"
   ]
  },
  {
   "cell_type": "code",
   "execution_count": null,
   "metadata": {},
   "outputs": [
    {
     "data": {
      "text/plain": [
       "['loan_percent_income',\n",
       " 'loan_to_income_ratio',\n",
       " 'cb_person_default_on_file_Y',\n",
       " 'cb_person_default_on_file_N',\n",
       " 'loan_grade_F',\n",
       " 'loan_grade_E',\n",
       " 'loan_grade_B',\n",
       " 'loan_grade_D',\n",
       " 'loan_grade_C',\n",
       " 'loan_grade_A',\n",
       " 'loan_grade_G',\n",
       " 'person_home_ownership_OWN',\n",
       " 'person_home_ownership_RENT',\n",
       " 'person_home_ownership_MORTGAGE',\n",
       " 'person_home_ownership_OTHER',\n",
       " 'loan_intent_DEBTCONSOLIDATION',\n",
       " 'loan_intent_VENTURE',\n",
       " 'loan_intent_PERSONAL',\n",
       " 'loan_intent_EDUCATION',\n",
       " 'loan_intent_HOMEIMPROVEMENT',\n",
       " 'loan_intent_MEDICAL',\n",
       " 'income_group_low-middle',\n",
       " 'income_group_low',\n",
       " 'income_group_high',\n",
       " 'income_group_middle',\n",
       " 'income_group_high-middle',\n",
       " 'age_group_26-35',\n",
       " 'age_group_20-25',\n",
       " 'age_group_46-55',\n",
       " 'age_group_36-45',\n",
       " 'age_group_66-80',\n",
       " 'age_group_56-65',\n",
       " 'loan_amount_group_high',\n",
       " 'loan_amount_group_medium',\n",
       " 'loan_amount_group_very high',\n",
       " 'loan_amount_group_small',\n",
       " 'scaled_person_age',\n",
       " 'scaled_person_income',\n",
       " 'scaled_person_emp_length',\n",
       " 'scaled_loan_amnt',\n",
       " 'scaled_loan_int_rate',\n",
       " 'scaled_cb_person_cred_hist_length',\n",
       " 'scaled_loan_to_emp_length_ratio',\n",
       " 'scaled_int_rate_to_loan_amt_ratio']"
      ]
     },
     "execution_count": 45,
     "metadata": {},
     "output_type": "execute_result"
    }
   ],
   "source": [
    "features"
   ]
  },
  {
   "cell_type": "code",
   "execution_count": null,
   "metadata": {},
   "outputs": [
    {
     "name": "stderr",
     "output_type": "stream",
     "text": [
      "                                                                                \r"
     ]
    },
    {
     "name": "stdout",
     "output_type": "stream",
     "text": [
      "+-----------+-------------------+--------------------+---------------------------+---------------------------+------------+------------+------------+------------+------------+------------+------------+-------------------------+--------------------------+------------------------------+---------------------------+-----------------------------+-------------------+--------------------+---------------------+---------------------------+-------------------+-----------------------+----------------+-----------------+-------------------+------------------------+---------------+---------------+---------------+---------------+---------------+---------------+----------------------+------------------------+---------------------------+-----------------------+-----------------+--------------------+------------------------+--------------------+---------------------+---------------------------------+-------------------------------+---------------------------------+------------------------------------------------------------------------------------------------------------------------------------------------------------------------------------------------------------------------------------------------------------+\n",
      "|loan_status|loan_percent_income|loan_to_income_ratio|cb_person_default_on_file_Y|cb_person_default_on_file_N|loan_grade_F|loan_grade_E|loan_grade_B|loan_grade_D|loan_grade_C|loan_grade_A|loan_grade_G|person_home_ownership_OWN|person_home_ownership_RENT|person_home_ownership_MORTGAGE|person_home_ownership_OTHER|loan_intent_DEBTCONSOLIDATION|loan_intent_VENTURE|loan_intent_PERSONAL|loan_intent_EDUCATION|loan_intent_HOMEIMPROVEMENT|loan_intent_MEDICAL|income_group_low-middle|income_group_low|income_group_high|income_group_middle|income_group_high-middle|age_group_26-35|age_group_20-25|age_group_46-55|age_group_36-45|age_group_66-80|age_group_56-65|loan_amount_group_high|loan_amount_group_medium|loan_amount_group_very high|loan_amount_group_small|scaled_person_age|scaled_person_income|scaled_person_emp_length|scaled_loan_amnt    |scaled_loan_int_rate |scaled_cb_person_cred_hist_length|scaled_loan_to_emp_length_ratio|scaled_int_rate_to_loan_amt_ratio|features                                                                                                                                                                                                                                                    |\n",
      "+-----------+-------------------+--------------------+---------------------------+---------------------------+------------+------------+------------+------------+------------+------------+------------+-------------------------+--------------------------+------------------------------+---------------------------+-----------------------------+-------------------+--------------------+---------------------+---------------------------+-------------------+-----------------------+----------------+-----------------+-------------------+------------------------+---------------+---------------+---------------+---------------+---------------+---------------+----------------------+------------------------+---------------------------+-----------------------+-----------------+--------------------+------------------------+--------------------+---------------------+---------------------------------+-------------------------------+---------------------------------+------------------------------------------------------------------------------------------------------------------------------------------------------------------------------------------------------------------------------------------------------------+\n",
      "|0          |0.22               |0.2247191011235955  |0                          |1                          |0           |0           |0           |0           |0           |1           |0           |0                        |0                         |1                             |0                          |0                            |0                  |1                   |0                    |0                          |0                  |1                      |0               |0                |0                  |0                       |1              |0              |0              |0              |0              |0              |0                     |1                       |0                          |0                      |-2.2             |-2.8806356666522577 |-2.7073170731707314     |-1.3478260869565217 |-1.9314606741573033  |-2.142857142857143               |-2.9314285714285715            |-2.825113098834382               |(44,[0,1,3,9,13,17,21,26,33,36,37,38,39,40,41,42,43],[0.22,0.2247191011235955,1.0,1.0,1.0,1.0,1.0,1.0,1.0,-2.2,-2.8806356666522577,-2.7073170731707314,-1.3478260869565217,-1.9314606741573033,-2.142857142857143,-2.9314285714285715,-2.825113098834382])  |\n",
      "|0          |0.05               |0.05172413793103448 |0                          |1                          |0           |0           |0           |0           |0           |1           |0           |1                        |0                         |0                             |0                          |0                            |0                  |0                   |0                    |0                          |1                  |0                      |0               |0                |1                  |0                       |1              |0              |0              |0              |0              |0              |0                     |0                       |0                          |1                      |-1.6             |-2.8408475555363437 |-1.8292682926829267     |-2.5652173913043477 |-2.548314606741573   |-1.2857142857142858              |-2.085714285714286             |-2.455268858401733               |(44,[0,1,3,9,11,20,24,26,35,36,37,38,39,40,41,42,43],[0.05,0.05172413793103448,1.0,1.0,1.0,1.0,1.0,1.0,1.0,-1.6,-2.8408475555363437,-1.8292682926829267,-2.5652173913043477,-2.548314606741573,-1.2857142857142858,-2.085714285714286,-2.455268858401733])  |\n",
      "|0          |0.16               |0.1619047619047619  |0                          |1                          |0           |0           |1           |0           |0           |0           |0           |0                        |0                         |1                             |0                          |1                            |0                  |0                   |0                    |0                          |0                  |0                      |0               |1                |0                  |0                       |1              |0              |0              |0              |0              |0              |0                     |0                       |1                          |0                      |-2.1             |-2.7023259835031617 |-1.0975609756097562     |-0.13043478260869534|-1.3719101123595503  |-1.2857142857142858              |-2.73781512605042              |-2.8930322103053214              |(44,[0,1,3,6,13,15,23,26,34,36,37,38,39,40,41,42,43],[0.16,0.1619047619047619,1.0,1.0,1.0,1.0,1.0,1.0,1.0,-2.1,-2.7023259835031617,-1.0975609756097562,-0.13043478260869534,-1.3719101123595503,-1.2857142857142858,-2.73781512605042,-2.8930322103053214]) |\n",
      "|0          |0.15               |0.14893617021276595 |0                          |1                          |0           |0           |0           |0           |0           |1           |0           |1                        |0                         |0                             |0                          |0                            |0                  |1                   |0                    |0                          |0                  |1                      |0               |0                |0                  |0                       |0              |1              |0              |0              |0              |0              |0                     |1                       |0                          |0                      |-2.5             |-2.8732674979270887 |-1.6829268292682926     |-1.8695652173913042 |-2.295505617977528   |-2.5714285714285716              |-2.559183673469388             |-2.7683879021613507              |(44,[0,1,3,9,11,17,21,27,33,36,37,38,39,40,41,42,43],[0.15,0.14893617021276595,1.0,1.0,1.0,1.0,1.0,1.0,1.0,-2.5,-2.8732674979270887,-1.6829268292682926,-1.8695652173913042,-2.295505617977528,-2.5714285714285716,-2.559183673469388,-2.7683879021613507]) |\n",
      "|0          |0.24               |0.2411764705882353  |0                          |1                          |0           |0           |1           |0           |0           |0           |0           |0                        |1                         |0                             |0                          |0                            |1                  |0                   |0                    |0                          |0                  |1                      |0               |0                |0                  |0                       |0              |1              |0              |0              |0              |0              |0                     |1                       |0                          |0                      |-2.5             |-2.9115819752979686 |-2.4146341463414633     |-1.6608695652173913 |-0.7112359550561789  |-2.5714285714285716              |-2.832752613240418             |-2.658000338568688               |(44,[0,1,3,6,12,16,21,27,33,36,37,38,39,40,41,42,43],[0.24,0.2411764705882353,1.0,1.0,1.0,1.0,1.0,1.0,1.0,-2.5,-2.9115819752979686,-2.4146341463414633,-1.6608695652173913,-0.7112359550561789,-2.5714285714285716,-2.832752613240418,-2.658000338568688])  |\n",
      "|0          |0.04               |0.040754224854643264|0                          |1                          |0           |0           |1           |0           |0           |0           |0           |0                        |0                         |1                             |0                          |0                            |1                  |0                   |0                    |0                          |0                  |0                      |0               |1                |0                  |0                       |0              |1              |0              |0              |0              |0              |0                     |1                       |0                          |0                      |-2.4             |-2.3609263065236785 |-1.5365853658536586     |-1.5217391304347825 |-1.031460674157303   |-2.7857142857142856              |-2.619047619047619             |-2.7211063792163395              |(44,[0,1,3,6,13,16,23,27,33,36,37,38,39,40,41,42,43],[0.04,0.040754224854643264,1.0,1.0,1.0,1.0,1.0,1.0,1.0,-2.4,-2.3609263065236785,-1.5365853658536586,-1.5217391304347825,-1.031460674157303,-2.7857142857142856,-2.619047619047619,-2.7211063792163395])|\n",
      "|0          |0.2                |0.2                 |1                          |0                          |0           |0           |0           |0           |1           |0           |0           |0                        |1                         |0                             |0                          |0                            |0                  |1                   |0                    |0                          |0                  |1                      |0               |0                |0                  |0                       |0              |1              |0              |0              |0              |0              |0                     |1                       |0                          |0                      |-2.7             |-2.9233710452582398 |-1.975609756097561      |-2.0434782608695654 |0.13483146067415852  |-2.5714285714285716              |-2.6                           |-2.40221924227465                |(44,[0,1,2,8,12,17,21,27,33,36,37,38,39,40,41,42,43],[0.2,0.2,1.0,1.0,1.0,1.0,1.0,1.0,1.0,-2.7,-2.9233710452582398,-1.975609756097561,-2.0434782608695654,0.13483146067415852,-2.5714285714285716,-2.6,-2.40221924227465])                                  |\n",
      "|0          |0.08               |0.08333333333333333 |0                          |1                          |0           |0           |0           |0           |0           |1           |0           |0                        |0                         |1                             |0                          |1                            |0                  |0                   |0                    |0                          |0                  |0                      |0               |0                |1                  |0                       |0              |1              |0              |0              |0              |0              |0                     |0                       |0                          |1                      |-2.8             |-2.8349530205562083 |-2.1219512195121952     |-2.217391304347826  |-2.8078651685393257  |-2.5714285714285716              |-2.5885714285714285            |-2.735193999498976               |(44,[0,1,3,9,13,15,24,27,35,36,37,38,39,40,41,42,43],[0.08,0.08333333333333333,1.0,1.0,1.0,1.0,1.0,1.0,1.0,-2.8,-2.8349530205562083,-2.1219512195121952,-2.217391304347826,-2.8078651685393257,-2.5714285714285716,-2.5885714285714285,-2.735193999498976]) |\n",
      "|0          |0.2                |0.20136363636363636 |0                          |1                          |0           |0           |0           |0           |1           |0           |0           |0                        |0                         |1                             |0                          |0                            |0                  |0                   |1                    |0                          |0                  |0                      |0               |0                |1                  |0                       |0              |1              |0              |0              |0              |0              |1                     |0                       |0                          |0                      |-2.7             |-2.8496893580065468 |-3.0                    |-1.1608695652173913 |-0.2797752808988756  |-2.7857142857142856              |-3.0                           |-2.729873470278826               |(44,[0,1,3,8,13,18,24,27,32,36,37,38,39,40,41,42,43],[0.2,0.20136363636363636,1.0,1.0,1.0,1.0,1.0,1.0,1.0,-2.7,-2.8496893580065468,-3.0,-1.1608695652173913,-0.2797752808988756,-2.7857142857142856,-3.0,-2.729873470278826])                               |\n",
      "|0          |0.02               |0.015384615384615385|0                          |1                          |0           |0           |1           |0           |0           |0           |0           |0                        |1                         |0                             |0                          |0                            |0                  |1                   |0                    |0                          |0                  |0                      |0               |1                |0                  |0                       |1              |0              |0              |0              |0              |0              |0                     |0                       |0                          |1                      |-2.3             |-2.666958773622349  |-1.975609756097561      |-2.773913043478261  |-0.6404494382022468  |-1.2857142857142858              |-1.666666666666667             |-1.2227494437158308              |(44,[0,1,3,6,12,17,23,26,35,36,37,38,39,40,41,42,43],[0.02,0.015384615384615385,1.0,1.0,1.0,1.0,1.0,1.0,1.0,-2.3,-2.666958773622349,-1.975609756097561,-2.773913043478261,-0.6404494382022468,-1.2857142857142858,-1.666666666666667,-1.2227494437158308])  |\n",
      "|0          |0.16               |0.15774647887323945 |0                          |1                          |0           |0           |1           |0           |0           |0           |0           |0                        |0                         |1                             |0                          |1                            |0                  |0                   |0                    |0                          |0                  |0                      |0               |0                |1                  |0                       |0              |0              |0              |1              |0              |0              |1                     |0                       |0                          |0                      |-1.3             |-2.8025330781654634 |-1.3902439024390243     |-1.1391304347826086 |-0.6404494382022468  |-1.0714285714285712              |-2.663265306122449             |-2.758820024967002               |(44,[0,1,3,6,13,15,24,29,32,36,37,38,39,40,41,42,43],[0.16,0.15774647887323945,1.0,1.0,1.0,1.0,1.0,1.0,1.0,-1.3,-2.8025330781654634,-1.3902439024390243,-1.1391304347826086,-0.6404494382022468,-1.0714285714285712,-2.663265306122449,-2.758820024967002]) |\n",
      "|0          |0.13               |0.13333333333333333 |0                          |1                          |0           |0           |0           |0           |0           |1           |0           |0                        |1                         |0                             |0                          |1                            |0                  |0                   |0                    |0                          |0                  |0                      |0               |0                |0                  |1                       |0              |1              |0              |0              |0              |0              |1                     |0                       |0                          |0                      |-2.8             |-2.746534995854177  |-2.5609756097560976     |-1.0                |-1.8134831460674157  |-2.7857142857142856              |-2.914285714285714             |-2.8553513800268195              |(44,[0,1,3,9,12,15,25,27,32,36,37,38,39,40,41,42,43],[0.13,0.13333333333333333,1.0,1.0,1.0,1.0,1.0,1.0,1.0,-2.8,-2.746534995854177,-2.5609756097560976,-1.0,-1.8134831460674157,-2.7857142857142856,-2.914285714285714,-2.8553513800268195])                |\n",
      "|0          |0.12               |0.12254901960784313 |1                          |0                          |0           |0           |0           |0           |1           |0           |0           |0                        |1                         |0                             |0                          |1                            |0                  |0                   |0                    |0                          |0                  |1                      |0               |0                |0                  |0                       |0              |1              |0              |0              |0              |0              |0                     |0                       |0                          |1                      |-2.5             |-2.915590259084461  |-2.4146341463414633     |-2.391304347826087  |-0.535955056179775   |-2.5714285714285716              |-2.657142857142857             |-2.2088091834779915              |(44,[0,1,2,8,12,15,21,27,35,36,37,38,39,40,41,42,43],[0.12,0.12254901960784313,1.0,1.0,1.0,1.0,1.0,1.0,1.0,-2.5,-2.915590259084461,-2.4146341463414633,-2.391304347826087,-0.535955056179775,-2.5714285714285716,-2.657142857142857,-2.2088091834779915])   |\n",
      "|0          |0.05               |0.046620046620046623|0                          |1                          |0           |0           |1           |0           |0           |0           |0           |1                        |0                         |0                             |0                          |0                            |0                  |0                   |1                    |0                          |0                  |1                      |0               |0                |0                  |0                       |0              |1              |0              |0              |0              |0              |0                     |0                       |0                          |1                      |-2.8             |-2.885351294636366  |-1.975609756097561      |-2.739130434782609  |-1.2067415730337077  |-2.5714285714285716              |-1.8                           |-1.628579007088018               |(44,[0,1,3,6,11,18,21,27,35,36,37,38,39,40,41,42,43],[0.05,0.046620046620046623,1.0,1.0,1.0,1.0,1.0,1.0,1.0,-2.8,-2.885351294636366,-1.975609756097561,-2.739130434782609,-1.2067415730337077,-2.5714285714285716,-1.8,-1.628579007088018])                 |\n",
      "|0          |0.15               |0.15384615384615385 |0                          |1                          |0           |0           |0           |0           |1           |0           |0           |0                        |0                         |1                             |0                          |0                            |1                  |0                   |0                    |0                          |0                  |0                      |0               |1                |0                  |0                       |0              |1              |0              |0              |0              |0              |0                     |0                       |1                          |0                      |-2.5             |-2.6286442962514687 |-2.2682926829268295     |0.3913043478260869  |-0.2831460674157298  |-3.0                             |-2.914285714285714             |-2.874183993751934               |(44,[0,1,3,8,13,16,23,27,34,36,37,38,39,40,41,42,43],[0.15,0.15384615384615385,1.0,1.0,1.0,1.0,1.0,1.0,1.0,-2.5,-2.6286442962514687,-2.2682926829268295,0.3913043478260869,-0.2831460674157298,-3.0,-2.914285714285714,-2.874183993751934])                 |\n",
      "|0          |0.25               |0.25                |1                          |0                          |0           |0           |0           |1           |0           |0           |0           |0                        |0                         |1                             |0                          |0                            |0                  |1                   |0                    |0                          |0                  |0                      |0               |0                |1                  |0                       |0              |1              |0              |0              |0              |0              |1                     |0                       |0                          |0                      |-2.7             |-2.8349530205562083 |-2.2682926829268295     |-0.47826086956521774|0.3000000000000007   |-2.7857142857142856              |-2.8857142857142857            |-2.7839996463358925              |(44,[0,1,2,7,13,17,24,27,32,36,37,38,39,40,41,42,43],[0.25,0.25,1.0,1.0,1.0,1.0,1.0,1.0,1.0,-2.7,-2.8349530205562083,-2.2682926829268295,-0.47826086956521774,0.3000000000000007,-2.7857142857142856,-2.8857142857142857,-2.7839996463358925])              |\n",
      "|0          |0.22               |0.2222222222222222  |0                          |1                          |0           |0           |0           |1           |0           |0           |0           |1                        |0                         |0                             |0                          |0                            |1                  |0                   |0                    |0                          |0                  |1                      |0               |0                |0                  |0                       |1              |0              |0              |0              |0              |0              |0                     |1                       |0                          |0                      |-1.5             |-2.879162032907224  |-2.1219512195121952     |-1.3478260869565217 |0.8258426966292136   |-2.357142857142857               |-2.7942857142857145            |-2.6081401688746113              |(44,[0,1,3,7,11,16,21,26,33,36,37,38,39,40,41,42,43],[0.22,0.2222222222222222,1.0,1.0,1.0,1.0,1.0,1.0,1.0,-1.5,-2.879162032907224,-2.1219512195121952,-1.3478260869565217,0.8258426966292136,-2.357142857142857,-2.7942857142857145,-2.6081401688746113])   |\n",
      "|0          |0.25               |0.25                |0                          |1                          |0           |0           |0           |0           |0           |1           |0           |0                        |1                         |0                             |0                          |0                            |0                  |0                   |0                    |0                          |1                  |0                      |1               |0                |0                  |0                       |1              |0              |0              |0              |0              |0              |0                     |0                       |0                          |1                      |-1.6             |-2.9528437201589166 |-2.2682926829268295     |-2.217391304347826  |-1.826966292134831   |-2.357142857142857               |-2.657142857142857             |-2.5808196165691633              |(44,[0,1,3,9,12,20,22,26,35,36,37,38,39,40,41,42,43],[0.25,0.25,1.0,1.0,1.0,1.0,1.0,1.0,1.0,-1.6,-2.9528437201589166,-2.2682926829268295,-2.217391304347826,-1.826966292134831,-2.357142857142857,-2.657142857142857,-2.5808196165691633])                  |\n",
      "|0          |0.06               |0.06001500375093773 |1                          |0                          |0           |0           |0           |0           |1           |0           |0           |0                        |0                         |1                             |0                          |0                            |0                  |0                   |0                    |1                          |0                  |1                      |0               |0                |0                  |0                       |0              |1              |0              |0              |0              |0              |0                     |0                       |0                          |1                      |-2.4             |-2.893927843032463  |-2.5609756097560976     |-2.6695652173913045 |-0.016853932584269593|-3.0                             |-2.5714285714285716            |-1.4758403206554576              |(44,[0,1,2,8,13,19,21,27,35,36,37,38,39,40,41,42,43],[0.06,0.06001500375093773,1.0,1.0,1.0,1.0,1.0,1.0,1.0,-2.4,-2.893927843032463,-2.5609756097560976,-2.6695652173913045,-0.016853932584269593,-3.0,-2.5714285714285716,-1.4758403206554576])             |\n",
      "|0          |0.12               |0.11913271384322136 |0                          |1                          |0           |0           |0           |0           |0           |1           |0           |0                        |0                         |1                             |0                          |0                            |0                  |0                   |1                    |0                          |0                  |0                      |0               |0                |1                  |0                       |0              |1              |0              |0              |0              |0              |0                     |1                       |0                          |0                      |-2.8             |-2.8633528900905008 |-2.1219512195121952     |-2.0434782608695654 |-2.79438202247191    |-2.7857142857142856              |-2.657142857142857             |-2.7863868790616113              |(44,[0,1,3,9,13,18,24,27,33,36,37,38,39,40,41,42,43],[0.12,0.11913271384322136,1.0,1.0,1.0,1.0,1.0,1.0,1.0,-2.8,-2.8633528900905008,-2.1219512195121952,-2.0434782608695654,-2.79438202247191,-2.7857142857142856,-2.657142857142857,-2.7863868790616113])  |\n",
      "+-----------+-------------------+--------------------+---------------------------+---------------------------+------------+------------+------------+------------+------------+------------+------------+-------------------------+--------------------------+------------------------------+---------------------------+-----------------------------+-------------------+--------------------+---------------------+---------------------------+-------------------+-----------------------+----------------+-----------------+-------------------+------------------------+---------------+---------------+---------------+---------------+---------------+---------------+----------------------+------------------------+---------------------------+-----------------------+-----------------+--------------------+------------------------+--------------------+---------------------+---------------------------------+-------------------------------+---------------------------------+------------------------------------------------------------------------------------------------------------------------------------------------------------------------------------------------------------------------------------------------------------+\n",
      "only showing top 20 rows\n",
      "\n"
     ]
    }
   ],
   "source": [
    "features = [col for col in scaled_train_df.columns if col != 'loan_status']\n",
    "\n",
    "assembler = VectorAssembler(inputCols=features, outputCol=\"features\")\n",
    "train_assembled = assembler.transform(scaled_train_df)\n",
    "train_assembled.show(truncate=False)"
   ]
  },
  {
   "cell_type": "code",
   "execution_count": null,
   "metadata": {},
   "outputs": [
    {
     "name": "stdout",
     "output_type": "stream",
     "text": [
      "+-----------+-------------------+--------------------+---------------------------+---------------------------+------------+------------+------------+------------+------------+------------+------------+-------------------------+--------------------------+------------------------------+---------------------------+-----------------------------+-------------------+--------------------+---------------------+---------------------------+-------------------+-----------------------+----------------+-----------------+-------------------+------------------------+---------------+---------------+---------------+---------------+---------------+---------------+----------------------+------------------------+---------------------------+-----------------------+-------------------+--------------------+------------------------+-------------------+--------------------+---------------------------------+-------------------------------+---------------------------------+-------------------------------------------------------------------------------------------------------------------------------------------------------------------------------------------------------------------------------------------------------------------------+\n",
      "|loan_status|loan_percent_income|loan_to_income_ratio|cb_person_default_on_file_Y|cb_person_default_on_file_N|loan_grade_F|loan_grade_E|loan_grade_B|loan_grade_D|loan_grade_C|loan_grade_A|loan_grade_G|person_home_ownership_OWN|person_home_ownership_RENT|person_home_ownership_MORTGAGE|person_home_ownership_OTHER|loan_intent_DEBTCONSOLIDATION|loan_intent_VENTURE|loan_intent_PERSONAL|loan_intent_EDUCATION|loan_intent_HOMEIMPROVEMENT|loan_intent_MEDICAL|income_group_low-middle|income_group_low|income_group_high|income_group_middle|income_group_high-middle|age_group_26-35|age_group_20-25|age_group_46-55|age_group_36-45|age_group_66-80|age_group_56-65|loan_amount_group_high|loan_amount_group_medium|loan_amount_group_very high|loan_amount_group_small|scaled_person_age  |scaled_person_income|scaled_person_emp_length|scaled_loan_amnt   |scaled_loan_int_rate|scaled_cb_person_cred_hist_length|scaled_loan_to_emp_length_ratio|scaled_int_rate_to_loan_amt_ratio|features                                                                                                                                                                                                                                                                 |\n",
      "+-----------+-------------------+--------------------+---------------------------+---------------------------+------------+------------+------------+------------+------------+------------+------------+-------------------------+--------------------------+------------------------------+---------------------------+-----------------------------+-------------------+--------------------+---------------------+---------------------------+-------------------+-----------------------+----------------+-----------------+-------------------+------------------------+---------------+---------------+---------------+---------------+---------------+---------------+----------------------+------------------------+---------------------------+-----------------------+-------------------+--------------------+------------------------+-------------------+--------------------+---------------------------------+-------------------------------+---------------------------------+-------------------------------------------------------------------------------------------------------------------------------------------------------------------------------------------------------------------------------------------------------------------------+\n",
      "|1          |0.18               |0.18409425625920472 |0                          |1                          |0           |0           |0           |1           |0           |0           |0           |0                        |0                         |1                             |0                          |1                            |0                  |0                   |0                    |0                          |0                  |0                      |1               |0                |0                  |0                       |0              |1              |0              |0              |0              |0              |0                     |0                       |0                          |1                      |-2.8867924528301887|-2.9405852842809366 |-3.0                    |-2.526315789473684 |0.31370192307692246 |-2.7857142857142856              |-3.0                           |-1.6207487255471678              |(44,[0,1,3,7,13,15,22,27,35,36,37,38,39,40,41,42,43],[0.18,0.18409425625920472,1.0,1.0,1.0,1.0,1.0,1.0,1.0,-2.8867924528301887,-2.9405852842809366,-3.0,-2.526315789473684,0.31370192307692246,-2.7857142857142856,-3.0,-1.6207487255471678])                            |\n",
      "|0          |0.06               |0.05703855806525211 |0                          |1                          |0           |0           |0           |0           |0           |1           |0           |0                        |1                         |0                             |0                          |1                            |0                  |0                   |0                    |0                          |0                  |1                      |0               |0                |0                  |0                       |0              |1              |0              |0              |0              |0              |0                     |0                       |0                          |1                      |-2.7735849056603774|-2.873478260869565  |-2.142857142857143      |-2.7894736842105265|-1.9326923076923075 |-3.0                             |-2.428571428571429             |-1.6152956372539566              |(44,[0,1,3,9,12,15,21,27,35,36,37,38,39,40,41,42,43],[0.06,0.05703855806525211,1.0,1.0,1.0,1.0,1.0,1.0,1.0,-2.7735849056603774,-2.873478260869565,-2.142857142857143,-2.7894736842105265,-1.9326923076923075,-3.0,-2.428571428571429,-1.6152956372539566])               |\n",
      "|0          |0.51               |0.5138888888888888  |0                          |1                          |0           |0           |0           |0           |0           |1           |0           |0                        |0                         |1                             |0                          |0                            |0                  |1                   |0                    |0                          |0                  |1                      |0               |0                |0                  |0                       |0              |1              |0              |0              |0              |0              |0                     |0                       |1                          |0                      |-2.7735849056603774|-2.869565217391304  |-1.7142857142857144     |0.10526315789473717|-2.105769230769231  |-2.5714285714285716              |-2.9073359073359075            |-2.9211026105822815              |(44,[0,1,3,9,13,17,21,27,34,36,37,38,39,40,41,42,43],[0.51,0.5138888888888888,1.0,1.0,1.0,1.0,1.0,1.0,1.0,-2.7735849056603774,-2.869565217391304,-1.7142857142857144,0.10526315789473717,-2.105769230769231,-2.5714285714285716,-2.9073359073359075,-2.9211026105822815])|\n",
      "|0          |0.26               |0.2604166666666667  |0                          |1                          |0           |0           |0           |0           |1           |0           |0           |1                        |0                         |0                             |0                          |0                            |0                  |0                   |1                    |0                          |0                  |1                      |0               |0                |0                  |0                       |0              |1              |0              |0              |0              |0              |0                     |1                       |0                          |0                      |-2.7735849056603774|-2.859531772575251  |-1.9285714285714286     |-1.3859649122807018|0.09014423076923084 |-2.5714285714285716              |-2.857142857142857             |-2.583813691658152               |(44,[0,1,3,8,11,18,21,27,33,36,37,38,39,40,41,42,43],[0.26,0.2604166666666667,1.0,1.0,1.0,1.0,1.0,1.0,1.0,-2.7735849056603774,-2.859531772575251,-1.9285714285714286,-1.3859649122807018,0.09014423076923084,-2.5714285714285716,-2.857142857142857,-2.583813691658152]) |\n",
      "|1          |0.05               |0.05128205128205128 |1                          |0                          |0           |0           |0           |1           |0           |0           |0           |0                        |1                         |0                             |0                          |1                            |0                  |0                   |0                    |0                          |0                  |1                      |0               |0                |0                  |0                       |0              |1              |0              |0              |0              |0              |0                     |0                       |0                          |1                      |-2.7735849056603774|-2.8570234113712374 |-3.0                    |-2.7894736842105265|0.396634615384615   |-3.0                             |-3.0                           |-0.49443812534942433             |(44,[0,1,2,7,12,15,21,27,35,36,37,38,39,40,41,42,43],[0.05,0.05128205128205128,1.0,1.0,1.0,1.0,1.0,1.0,1.0,-2.7735849056603774,-2.8570234113712374,-3.0,-2.7894736842105265,0.396634615384615,-3.0,-3.0,-0.49443812534942433])                                           |\n",
      "|0          |0.09               |0.08955758552749418 |0                          |1                          |0           |0           |1           |0           |0           |0           |0           |0                        |0                         |1                             |0                          |0                            |0                  |0                   |1                    |0                          |0                  |0                      |0               |0                |1                  |0                       |0              |1              |0              |0              |0              |0              |0                     |1                       |0                          |0                      |-2.7735849056603774|-2.739983277591973  |-1.7142857142857144     |-2.087719298245614 |-1.2151442307692308 |-2.7857142857142856              |-2.7142857142857144            |-2.469530180640435               |(44,[0,1,3,6,13,18,24,27,33,36,37,38,39,40,41,42,43],[0.09,0.08955758552749418,1.0,1.0,1.0,1.0,1.0,1.0,1.0,-2.7735849056603774,-2.739983277591973,-1.7142857142857144,-2.087719298245614,-1.2151442307692308,-2.7857142857142856,-2.7142857142857144,-2.469530180640435])|\n",
      "|0          |0.04               |0.03614457831325301 |0                          |1                          |0           |0           |0           |0           |0           |1           |0           |0                        |1                         |0                             |0                          |0                            |0                  |0                   |1                    |0                          |0                  |0                      |0               |0                |0                  |1                       |0              |1              |0              |0              |0              |0              |0                     |0                       |0                          |1                      |-2.7735849056603774|-2.673076923076923  |-2.142857142857143      |-2.6140350877192984|-1.4819711538461537 |-2.7857142857142856              |-2.619047619047619             |-1.955370052630564               |(44,[0,1,3,9,12,18,25,27,35,36,37,38,39,40,41,42,43],[0.04,0.03614457831325301,1.0,1.0,1.0,1.0,1.0,1.0,1.0,-2.7735849056603774,-2.673076923076923,-2.142857142857143,-2.6140350877192984,-1.4819711538461537,-2.7857142857142856,-2.619047619047619,-1.955370052630564]) |\n",
      "|0          |0.17               |0.1660357308892874  |1                          |0                          |0           |0           |0           |1           |0           |0           |0           |0                        |0                         |1                             |0                          |0                            |0                  |0                   |1                    |0                          |0                  |0                      |0               |1                |0                  |0                       |0              |1              |0              |0              |0              |0              |0                     |0                       |1                          |0                      |-2.7735849056603774|-2.516488294314381  |-1.7142857142857144     |0.36842105263157876|0.43990384615384626 |-3.0                             |-2.914285714285714             |-2.809720267586898               |(44,[0,1,2,7,13,18,23,27,34,36,37,38,39,40,41,42,43],[0.17,0.1660357308892874,1.0,1.0,1.0,1.0,1.0,1.0,1.0,-2.7735849056603774,-2.516488294314381,-1.7142857142857144,0.36842105263157876,0.43990384615384626,-3.0,-2.914285714285714,-2.809720267586898])                |\n",
      "|0          |0.08               |0.08284023668639054 |0                          |1                          |0           |0           |1           |0           |0           |0           |0           |0                        |1                         |0                             |0                          |0                            |0                  |1                   |0                    |0                          |0                  |0                      |0               |1                |0                  |0                       |0              |1              |0              |0              |0              |0              |1                     |0                       |0                          |0                      |-2.7735849056603774|-2.313545150501672  |-2.7857142857142856     |-0.6842105263157894|-0.9375             |-2.7857142857142856              |-2.979591836734694             |-2.7931627085875124              |(44,[0,1,3,6,12,17,23,27,32,36,37,38,39,40,41,42,43],[0.08,0.08284023668639054,1.0,1.0,1.0,1.0,1.0,1.0,1.0,-2.7735849056603774,-2.313545150501672,-2.7857142857142856,-0.6842105263157894,-0.9375,-2.7857142857142856,-2.979591836734694,-2.7931627085875124])           |\n",
      "|1          |0.19               |0.1935483870967742  |0                          |1                          |0           |0           |1           |0           |0           |0           |0           |0                        |1                         |0                             |0                          |1                            |0                  |0                   |0                    |0                          |0                  |1                      |0               |0                |0                  |0                       |0              |1              |0              |0              |0              |0              |0                     |1                       |0                          |0                      |-2.660377358490566 |-2.890468227424749  |-2.7857142857142856     |-2.087719298245614 |-0.7319711538461537 |-3.0                             |-2.9523809523809526            |-2.3920302288369224              |(44,[0,1,3,6,12,15,21,27,33,36,37,38,39,40,41,42,43],[0.19,0.1935483870967742,1.0,1.0,1.0,1.0,1.0,1.0,1.0,-2.660377358490566,-2.890468227424749,-2.7857142857142856,-2.087719298245614,-0.7319711538461537,-3.0,-2.9523809523809526,-2.3920302288369224])                |\n",
      "|0          |0.08               |0.08181818181818182 |0                          |1                          |0           |0           |0           |0           |0           |1           |0           |0                        |1                         |0                             |0                          |1                            |0                  |0                   |0                    |0                          |0                  |0                      |0               |0                |1                  |0                       |0              |1              |0              |0              |0              |0              |0                     |0                       |0                          |1                      |-2.547169811320755 |-2.790133779264214  |-2.5714285714285716     |-2.3508771929824563|-2.105769230769231  |-3.0                             |-2.873015873015873             |-2.460083669102196               |(44,[0,1,3,9,12,15,24,27,35,36,37,38,39,40,41,42,43],[0.08,0.08181818181818182,1.0,1.0,1.0,1.0,1.0,1.0,1.0,-2.547169811320755,-2.790133779264214,-2.5714285714285716,-2.3508771929824563,-2.105769230769231,-3.0,-2.873015873015873,-2.460083669102196])                 |\n",
      "|0          |0.15               |0.1476923076923077  |0                          |1                          |0           |0           |1           |0           |0           |0           |0           |0                        |0                         |1                             |0                          |0                            |0                  |1                   |0                    |0                          |0                  |0                      |0               |0                |1                  |0                       |0              |1              |0              |0              |0              |0              |0                     |1                       |0                          |0                      |-2.547169811320755 |-2.7483277591973243 |-1.9285714285714286     |-1.456140350877193 |-0.6310096153846154 |-2.7857142857142856              |-2.8511904761904763            |-2.635880357039579               |(44,[0,1,3,6,13,17,24,27,33,36,37,38,39,40,41,42,43],[0.15,0.1476923076923077,1.0,1.0,1.0,1.0,1.0,1.0,1.0,-2.547169811320755,-2.7483277591973243,-1.9285714285714286,-1.456140350877193,-0.6310096153846154,-2.7857142857142856,-2.8511904761904763,-2.635880357039579]) |\n",
      "|0          |0.11               |0.1111111111111111  |0                          |1                          |0           |0           |1           |0           |0           |0           |0           |0                        |1                         |0                             |0                          |1                            |0                  |0                   |0                    |0                          |0                  |1                      |0               |0                |0                  |0                       |0              |1              |0              |0              |0              |0              |0                     |0                       |0                          |1                      |-2.433962264150943 |-2.8319397993311037 |-3.0                    |-2.263157894736842 |-0.6670673076923075 |-2.7857142857142856              |-3.0                           |-2.2440862909911123              |(44,[0,1,3,6,12,15,21,27,35,36,37,38,39,40,41,42,43],[0.11,0.1111111111111111,1.0,1.0,1.0,1.0,1.0,1.0,1.0,-2.433962264150943,-2.8319397993311037,-3.0,-2.263157894736842,-0.6670673076923075,-2.7857142857142856,-3.0,-2.2440862909911123])                              |\n",
      "|0          |0.03               |0.03333333333333333 |0                          |1                          |0           |0           |1           |0           |0           |0           |0           |0                        |0                         |1                             |0                          |0                            |0                  |1                   |0                    |0                          |0                  |0                      |0               |0                |0                  |1                       |0              |1              |0              |0              |0              |0              |0                     |0                       |0                          |1                      |-2.433962264150943 |-2.6438127090301005 |-2.142857142857143      |-2.6140350877192984|-0.8112980769230766 |-2.5714285714285716              |-2.619047619047619             |-1.7402209326984246              |(44,[0,1,3,6,13,17,25,27,35,36,37,38,39,40,41,42,43],[0.03,0.03333333333333333,1.0,1.0,1.0,1.0,1.0,1.0,1.0,-2.433962264150943,-2.6438127090301005,-2.142857142857143,-2.6140350877192984,-0.8112980769230766,-2.5714285714285716,-2.619047619047619,-1.7402209326984246])|\n",
      "|0          |0.1                |0.1                 |0                          |1                          |0           |0           |0           |0           |0           |1           |0           |0                        |0                         |1                             |0                          |0                            |0                  |1                   |0                    |0                          |0                  |0                      |0               |0                |0                  |1                       |0              |1              |0              |0              |0              |0              |0                     |1                       |0                          |0                      |-2.433962264150943 |-2.6020066889632107 |-2.5714285714285716     |-1.3859649122807018|-2.246394230769231  |-2.5714285714285716              |-2.942857142857143             |-2.8086792234581943              |(44,[0,1,3,9,13,17,25,27,33,36,37,38,39,40,41,42,43],[0.1,0.1,1.0,1.0,1.0,1.0,1.0,1.0,1.0,-2.433962264150943,-2.6020066889632107,-2.5714285714285716,-1.3859649122807018,-2.246394230769231,-2.5714285714285716,-2.942857142857143,-2.8086792234581943])                 |\n",
      "|0          |0.23               |0.234375            |0                          |1                          |0           |0           |0           |0           |0           |1           |0           |0                        |1                         |0                             |0                          |0                            |0                  |1                   |0                    |0                          |0                  |0                      |0               |1                |0                  |0                       |0              |1              |0              |0              |0              |0              |0                     |0                       |1                          |0                      |-2.433962264150943 |-2.4849498327759196 |-1.0714285714285712     |2.1228070175438596 |-2.3257211538461537 |-2.5714285714285716              |-2.914285714285714             |-2.9849626959187217              |(44,[0,1,3,9,12,17,23,27,34,36,37,38,39,40,41,42,43],[0.23,0.234375,1.0,1.0,1.0,1.0,1.0,1.0,1.0,-2.433962264150943,-2.4849498327759196,-1.0714285714285712,2.1228070175438596,-2.3257211538461537,-2.5714285714285716,-2.914285714285714,-2.9849626959187217])           |\n",
      "|0          |0.17               |0.168               |0                          |1                          |0           |0           |0           |0           |0           |1           |0           |0                        |1                         |0                             |0                          |0                            |0                  |0                   |0                    |1                          |0                  |0                      |0               |1                |0                  |0                       |0              |1              |0              |0              |0              |0              |0                     |0                       |1                          |0                      |-2.3207547169811322|-2.497491638795987  |-1.9285714285714286     |0.5438596491228074 |-1.7451923076923077 |-3.0                             |-2.931972789115646             |-2.922219131526837               |(44,[0,1,3,9,12,19,23,27,34,36,37,38,39,40,41,42,43],[0.17,0.168,1.0,1.0,1.0,1.0,1.0,1.0,1.0,-2.3207547169811322,-2.497491638795987,-1.9285714285714286,0.5438596491228074,-1.7451923076923077,-3.0,-2.931972789115646,-2.922219131526837])                              |\n",
      "|1          |0.37               |0.36585365853658536 |0                          |1                          |0           |0           |1           |0           |0           |0           |0           |0                        |1                         |0                             |0                          |0                            |0                  |0                   |0                    |0                          |1                  |1                      |0               |0                |0                  |0                       |1              |0              |0              |0              |0              |0              |1                     |0                       |0                          |0                      |-2.2075471698113205|-2.8486622073578594 |-3.0                    |-0.5087719298245617|-0.8149038461538458 |-1.7142857142857144              |-3.0                           |-2.803705345954387               |(44,[0,1,3,6,12,20,21,26,32,36,37,38,39,40,41,42,43],[0.37,0.36585365853658536,1.0,1.0,1.0,1.0,1.0,1.0,1.0,-2.2075471698113205,-2.8486622073578594,-3.0,-0.5087719298245617,-0.8149038461538458,-1.7142857142857144,-3.0,-2.803705345954387])                            |\n",
      "|0          |0.1                |0.1                 |0                          |1                          |0           |0           |0           |0           |1           |0           |0           |0                        |0                         |1                             |0                          |0                            |0                  |0                   |0                    |0                          |1                  |0                      |0               |0                |1                  |0                       |1              |0              |0              |0              |0              |0              |0                     |1                       |0                          |0                      |-2.2075471698113205|-2.769230769230769  |-0.6428571428571428     |-2.087719298245614 |-0.14062500000000044|-1.7142857142857144              |-2.4761904761904763            |-2.2971795415550114              |(44,[0,1,3,8,13,20,24,26,33,36,37,38,39,40,41,42,43],[0.1,0.1,1.0,1.0,1.0,1.0,1.0,1.0,1.0,-2.2075471698113205,-2.769230769230769,-0.6428571428571428,-2.087719298245614,-0.14062500000000044,-1.7142857142857144,-2.4761904761904763,-2.2971795415550114])               |\n",
      "|0          |0.05               |0.05                |0                          |1                          |0           |0           |1           |0           |0           |0           |0           |0                        |1                         |0                             |0                          |0                            |0                  |0                   |1                    |0                          |0                  |0                      |0               |1                |0                  |0                       |1              |0              |0              |0              |0              |0              |0                     |1                       |0                          |0                      |-2.2075471698113205|-2.351170568561873  |-2.142857142857143      |-1.736842105263158 |-0.4759615384615383 |-1.5                             |-2.857142857142857             |-2.530546933739469               |(44,[0,1,3,6,12,18,23,26,33,36,37,38,39,40,41,42,43],[0.05,0.05,1.0,1.0,1.0,1.0,1.0,1.0,1.0,-2.2075471698113205,-2.351170568561873,-2.142857142857143,-1.736842105263158,-0.4759615384615383,-1.5,-2.857142857142857,-2.530546933739469])                                |\n",
      "+-----------+-------------------+--------------------+---------------------------+---------------------------+------------+------------+------------+------------+------------+------------+------------+-------------------------+--------------------------+------------------------------+---------------------------+-----------------------------+-------------------+--------------------+---------------------+---------------------------+-------------------+-----------------------+----------------+-----------------+-------------------+------------------------+---------------+---------------+---------------+---------------+---------------+---------------+----------------------+------------------------+---------------------------+-----------------------+-------------------+--------------------+------------------------+-------------------+--------------------+---------------------------------+-------------------------------+---------------------------------+-------------------------------------------------------------------------------------------------------------------------------------------------------------------------------------------------------------------------------------------------------------------------+\n",
      "only showing top 20 rows\n",
      "\n"
     ]
    }
   ],
   "source": [
    "features_train = [col for col in scaled_test_df.columns if col != 'loan_status']\n",
    "\n",
    "assembler = VectorAssembler(inputCols=features_train, outputCol=\"features\")\n",
    "test_assembled = assembler.transform(scaled_test_df)\n",
    "test_assembled.show(truncate=False)"
   ]
  },
  {
   "cell_type": "code",
   "execution_count": null,
   "metadata": {},
   "outputs": [
    {
     "ename": "NameError",
     "evalue": "name 'out' is not defined",
     "output_type": "error",
     "traceback": [
      "\u001b[0;31m---------------------------------------------------------------------------\u001b[0m",
      "\u001b[0;31mNameError\u001b[0m                                 Traceback (most recent call last)",
      "Cell \u001b[0;32mIn[48], line 1\u001b[0m\n\u001b[0;32m----> 1\u001b[0m \u001b[43mout\u001b[49m\n",
      "\u001b[0;31mNameError\u001b[0m: name 'out' is not defined"
     ]
    }
   ],
   "source": [
    "out"
   ]
  },
  {
   "cell_type": "code",
   "execution_count": null,
   "metadata": {},
   "outputs": [
    {
     "name": "stderr",
     "output_type": "stream",
     "text": [
      "24/09/15 18:20:23 WARN DAGScheduler: Broadcasting large task binary with size 1155.6 KiB\n",
      "24/09/15 18:20:24 WARN DAGScheduler: Broadcasting large task binary with size 1875.5 KiB\n",
      "24/09/15 18:20:26 WARN DAGScheduler: Broadcasting large task binary with size 3.0 MiB\n",
      "24/09/15 18:20:27 WARN DAGScheduler: Broadcasting large task binary with size 4.7 MiB\n",
      "24/09/15 18:20:29 WARN DAGScheduler: Broadcasting large task binary with size 7.1 MiB\n",
      "24/09/15 18:20:31 WARN DAGScheduler: Broadcasting large task binary with size 1164.4 KiB\n",
      "24/09/15 18:20:33 WARN DAGScheduler: Broadcasting large task binary with size 4.5 MiB\n",
      "                                                                                \r"
     ]
    },
    {
     "name": "stdout",
     "output_type": "stream",
     "text": [
      "Random Forest ROC AUC: 0.9129104369300424\n"
     ]
    },
    {
     "name": "stderr",
     "output_type": "stream",
     "text": [
      "24/09/15 18:20:37 WARN DAGScheduler: Broadcasting large task binary with size 4.5 MiB\n"
     ]
    },
    {
     "name": "stdout",
     "output_type": "stream",
     "text": [
      "Random Forest Accuracy: 0.8886561954624782\n"
     ]
    },
    {
     "name": "stderr",
     "output_type": "stream",
     "text": [
      "24/09/15 18:20:38 WARN DAGScheduler: Broadcasting large task binary with size 4.5 MiB\n"
     ]
    },
    {
     "name": "stdout",
     "output_type": "stream",
     "text": [
      "Random Forest Precision: 0.8895054782978165\n"
     ]
    },
    {
     "name": "stderr",
     "output_type": "stream",
     "text": [
      "24/09/15 18:20:39 WARN DAGScheduler: Broadcasting large task binary with size 4.5 MiB\n"
     ]
    },
    {
     "name": "stdout",
     "output_type": "stream",
     "text": [
      "Random Forest Recall: 0.8886561954624781\n"
     ]
    },
    {
     "name": "stderr",
     "output_type": "stream",
     "text": [
      "24/09/15 18:20:39 WARN DAGScheduler: Broadcasting large task binary with size 4.5 MiB\n"
     ]
    },
    {
     "name": "stdout",
     "output_type": "stream",
     "text": [
      "Random Forest F1-Score: 0.8890605119910593\n"
     ]
    }
   ],
   "source": [
    "from pyspark.ml.classification import RandomForestClassifier\n",
    "from pyspark.ml.evaluation import BinaryClassificationEvaluator, MulticlassClassificationEvaluator\n",
    "\n",
    "rf = RandomForestClassifier(labelCol='loan_status', featuresCol='features', numTrees=100, maxDepth=10, seed=42)\n",
    "rf_model = rf.fit(train_assembled)\n",
    "rf_predictions = rf_model.transform(test_assembled)\n",
    "binary_evaluator = BinaryClassificationEvaluator(labelCol='loan_status', metricName=\"areaUnderROC\")\n",
    "multi_evaluator = MulticlassClassificationEvaluator(labelCol='loan_status', predictionCol=\"prediction\")\n",
    "roc_auc = binary_evaluator.evaluate(rf_predictions)\n",
    "print(f\"Random Forest ROC AUC: {roc_auc}\")\n",
    "accuracy = multi_evaluator.setMetricName(\"accuracy\").evaluate(rf_predictions)\n",
    "print(f\"Random Forest Accuracy: {accuracy}\")\n",
    "precision = multi_evaluator.setMetricName(\"weightedPrecision\").evaluate(rf_predictions)\n",
    "print(f\"Random Forest Precision: {precision}\")\n",
    "recall = multi_evaluator.setMetricName(\"weightedRecall\").evaluate(rf_predictions)\n",
    "print(f\"Random Forest Recall: {recall}\")\n",
    "f1_score = multi_evaluator.setMetricName(\"f1\").evaluate(rf_predictions)\n",
    "print(f\"Random Forest F1-Score: {f1_score}\")\n"
   ]
  },
  {
   "cell_type": "code",
   "execution_count": null,
   "metadata": {},
   "outputs": [
    {
     "name": "stderr",
     "output_type": "stream",
     "text": [
      "                                                                                \r"
     ]
    }
   ],
   "source": [
    "from pyspark.ml.classification import RandomForestClassifier\n",
    "from pyspark.ml.evaluation import BinaryClassificationEvaluator\n",
    "from pyspark.ml.tuning import ParamGridBuilder, CrossValidator\n",
    "\n",
    "# Initialize the RandomForestClassifier\n",
    "rf = RandomForestClassifier(labelCol='loan_status', featuresCol='features', seed=42)\n",
    "\n",
    "paramGrid = (ParamGridBuilder()\n",
    "             .addGrid(rf.numTrees, [30,50, 100, 200])     \n",
    "             .addGrid(rf.maxDepth, [5, 10, 20])         \n",
    "             .addGrid(rf.maxBins, [32, 64])            \n",
    "             .build())\n",
    "\n",
    "# Define the evaluator\n",
    "evaluator = BinaryClassificationEvaluator(labelCol=\"loan_status\", metricName=\"areaUnderROC\")\n",
    "\n",
    "\n",
    "crossval = CrossValidator(estimator=rf,\n",
    "                          estimatorParamMaps=paramGrid,\n",
    "                          evaluator=evaluator,\n",
    "                          numFolds=5)  \n",
    "\n",
    "\n",
    "cv_model = crossval.fit(train_assembled)\n",
    "\n",
    "# Get the best model from cross-validation\n",
    "best_rf_model = cv_model.bestModel\n",
    "\n",
    "# Make predictions on the test data\n",
    "predictions = best_rf_model.transform(test_assembled)\n",
    "\n",
    "# Evaluate the best model\n",
    "roc_auc = evaluator.evaluate(predictions)\n",
    "accuracy_evaluator = BinaryClassificationEvaluator(labelCol=\"loan_status\", metricName=\"accuracy\")\n",
    "accuracy = accuracy_evaluator.evaluate(predictions)\n",
    "\n",
    "print(f\"Best Random Forest ROC AUC: {roc_auc}\")\n",
    "print(f\"Best Random Forest Accuracy: {accuracy}\")\n",
    "\n",
    "# Print the best hyperparameters\n",
    "print(f\"Best Number of Trees: {best_rf_model.getNumTrees}\")\n",
    "print(f\"Best Max Depth: {best_rf_model.getMaxDepth()}\")\n",
    "print(f\"Best Max Bins: {best_rf_model.getMaxBins()}\")\n"
   ]
  },
  {
   "cell_type": "code",
   "execution_count": null,
   "metadata": {},
   "outputs": [
    {
     "name": "stderr",
     "output_type": "stream",
     "text": [
      "/home/lang_chain/.local/lib/python3.10/site-packages/xgboost/spark/estimator.py:81: FutureWarning: `use_gpu` is deprecated since 2.0.0, use `device` instead\n",
      "  warnings.warn(\n"
     ]
    }
   ],
   "source": [
    "from pyspark.ml.evaluation import BinaryClassificationEvaluator\n",
    "from xgboost.spark import SparkXGBClassifier\n",
    "from pyspark import SparkContext\n",
    "sc = SparkContext.getOrCreate()\n",
    "\n",
    "classifier = SparkXGBClassifier(\n",
    "    num_workers=1, \n",
    "    use_gpu=True,  \n",
    "    tree_method='gpu_hist',  \n",
    "    gpu_memory_limit=2048,  \n",
    "    max_depth=6,  \n",
    "    features_col='features',  \n",
    "    label_col='loan_status'\n",
    ")\n",
    "\n",
    "model = classifier.fit(train_assembled)\n",
    "\n",
    "predictions = model.transform(test_assembled)\n",
    "\n",
    "predictions.select(\"loan_status\", \"prediction\", \"probability\").show()"
   ]
  },
  {
   "cell_type": "code",
   "execution_count": null,
   "metadata": {},
   "outputs": [
    {
     "name": "stderr",
     "output_type": "stream",
     "text": [
      "2024-09-18 12:12:43,484 WARNING SparkXGBClassifier: _validate_params You have enabled GPU in spark local mode. Please make sure your local node has at least 1 GPUs\n",
      "2024-09-18 12:12:43,489 WARNING SparkXGBClassifier: _validate_params You have enabled GPU in spark local mode. Please make sure your local node has at least 1 GPUs\n",
      "2024-09-18 12:12:43,491 WARNING SparkXGBClassifier: _validate_params You have enabled GPU in spark local mode. Please make sure your local node has at least 1 GPUs\n",
      "2024-09-18 12:12:43,506 WARNING SparkXGBClassifier: _validate_params You have enabled GPU in spark local mode. Please make sure your local node has at least 1 GPUs\n",
      "2024-09-18 12:12:47,303 INFO XGBoost-PySpark: _fit Running xgboost-2.0.0 on 1 workers with\n",
      "\tbooster params: {'device': 'cpu', 'gamma': 0.1, 'learning_rate': 0.1, 'max_depth': 4, 'objective': 'binary:logistic', 'tree_method': 'gpu_hist', 'gpu_memory_limit': 2048, 'nthread': 1}\n",
      "\ttrain_call_kwargs_params: {'verbose_eval': True, 'num_boost_round': 100}\n",
      "\tdmatrix_kwargs: {'nthread': 1, 'missing': nan}\n",
      "2024-09-18 12:12:47,567 INFO XGBoost-PySpark: _fit Running xgboost-2.0.0 on 1 workers with\n",
      "\tbooster params: {'device': 'cpu', 'gamma': 0, 'learning_rate': 0.1, 'max_depth': 4, 'objective': 'binary:logistic', 'tree_method': 'gpu_hist', 'gpu_memory_limit': 2048, 'nthread': 1}\n",
      "\ttrain_call_kwargs_params: {'verbose_eval': True, 'num_boost_round': 100}\n",
      "\tdmatrix_kwargs: {'nthread': 1, 'missing': nan}\n",
      "2024-09-18 12:12:48,185 INFO XGBoost-PySpark: _fit Running xgboost-2.0.0 on 1 workers with\n",
      "\tbooster params: {'device': 'cpu', 'gamma': 0.2, 'learning_rate': 0.1, 'max_depth': 4, 'objective': 'binary:logistic', 'tree_method': 'gpu_hist', 'gpu_memory_limit': 2048, 'nthread': 1}\n",
      "\ttrain_call_kwargs_params: {'verbose_eval': True, 'num_boost_round': 100}\n",
      "\tdmatrix_kwargs: {'nthread': 1, 'missing': nan}\n",
      "2024-09-18 12:12:48,559 INFO XGBoost-PySpark: _fit Running xgboost-2.0.0 on 1 workers with\n",
      "\tbooster params: {'device': 'cpu', 'gamma': 0, 'learning_rate': 0.1, 'max_depth': 4, 'objective': 'binary:logistic', 'tree_method': 'gpu_hist', 'gpu_memory_limit': 2048, 'nthread': 1}\n",
      "\ttrain_call_kwargs_params: {'verbose_eval': True, 'num_boost_round': 200}\n",
      "\tdmatrix_kwargs: {'nthread': 1, 'missing': nan}\n",
      "2024-09-18 12:12:50,398 INFO XGBoost-PySpark: _train_booster Leveraging cuda:0 to train with QDM: off\n",
      "2024-09-18 12:12:50,467 INFO XGBoost-PySpark: _train_booster Leveraging cuda:0 to train with QDM: off\n",
      "2024-09-18 12:12:50,531 INFO XGBoost-PySpark: _train_booster Leveraging cuda:0 to train with QDM: off\n",
      "2024-09-18 12:12:50,731 INFO XGBoost-PySpark: _train_booster Leveraging cuda:0 to train with QDM: off\n",
      "[12:12:51] task 0 got new rank 0\n",
      "[12:12:51] task 0 got new rank 0\n",
      "/home/lang_chain/.local/lib/python3.10/site-packages/xgboost/core.py:160: UserWarning: [12:12:51] WARNING: /workspace/src/common/error_msg.cc:27: The tree method `gpu_hist` is deprecated since 2.0.0. To use GPU training, set the `device` parameter to CUDA instead.\n",
      "\n",
      "    E.g. tree_method = \"hist\", device = \"cuda\"\n",
      "\n",
      "  warnings.warn(smsg, UserWarning)\n",
      "[12:12:51] task 0 got new rank 0\n",
      "/home/lang_chain/.local/lib/python3.10/site-packages/xgboost/core.py:160: UserWarning: [12:12:51] WARNING: /workspace/src/common/error_msg.cc:27: The tree method `gpu_hist` is deprecated since 2.0.0. To use GPU training, set the `device` parameter to CUDA instead.\n",
      "\n",
      "    E.g. tree_method = \"hist\", device = \"cuda\"\n",
      "\n",
      "  warnings.warn(smsg, UserWarning)\n",
      "/home/lang_chain/.local/lib/python3.10/site-packages/xgboost/core.py:160: UserWarning: [12:12:51] WARNING: /workspace/src/common/error_msg.cc:27: The tree method `gpu_hist` is deprecated since 2.0.0. To use GPU training, set the `device` parameter to CUDA instead.\n",
      "\n",
      "    E.g. tree_method = \"hist\", device = \"cuda\"\n",
      "\n",
      "  warnings.warn(smsg, UserWarning)\n",
      "[12:12:51] task 0 got new rank 0\n",
      "/home/lang_chain/.local/lib/python3.10/site-packages/xgboost/core.py:160: UserWarning: [12:12:52] WARNING: /workspace/src/common/error_msg.cc:27: The tree method `gpu_hist` is deprecated since 2.0.0. To use GPU training, set the `device` parameter to CUDA instead.\n",
      "\n",
      "    E.g. tree_method = \"hist\", device = \"cuda\"\n",
      "\n",
      "  warnings.warn(smsg, UserWarning)\n",
      "/home/lang_chain/.local/lib/python3.10/site-packages/xgboost/core.py:160: UserWarning: [12:12:52] WARNING: /workspace/src/learner.cc:742: \n",
      "Parameters: { \"gpu_memory_limit\" } are not used.\n",
      "\n",
      "  warnings.warn(smsg, UserWarning)\n",
      "/home/lang_chain/.local/lib/python3.10/site-packages/xgboost/core.py:160: UserWarning: [12:12:52] WARNING: /workspace/src/learner.cc:742: \n",
      "Parameters: { \"gpu_memory_limit\" } are not used.\n",
      "\n",
      "  warnings.warn(smsg, UserWarning)\n",
      "/home/lang_chain/.local/lib/python3.10/site-packages/xgboost/core.py:160: UserWarning: [12:12:52] WARNING: /workspace/src/learner.cc:742: \n",
      "Parameters: { \"gpu_memory_limit\" } are not used.\n",
      "\n",
      "  warnings.warn(smsg, UserWarning)\n",
      "/home/lang_chain/.local/lib/python3.10/site-packages/xgboost/core.py:160: UserWarning: [12:12:52] WARNING: /workspace/src/learner.cc:742: \n",
      "Parameters: { \"gpu_memory_limit\" } are not used.\n",
      "\n",
      "  warnings.warn(smsg, UserWarning)\n",
      "/home/lang_chain/.local/lib/python3.10/site-packages/xgboost/core.py:160: UserWarning: [12:12:54] WARNING: /workspace/src/common/error_msg.cc:27: The tree method `gpu_hist` is deprecated since 2.0.0. To use GPU training, set the `device` parameter to CUDA instead.\n",
      "\n",
      "    E.g. tree_method = \"hist\", device = \"cuda\"\n",
      "\n",
      "  warnings.warn(smsg, UserWarning)\n",
      "2024-09-18 12:12:54,565 INFO XGBoost-PySpark: _fit Finished xgboost training!   \n",
      "[12:12:54] WARNING: /workspace/src/common/error_msg.cc:27: The tree method `gpu_hist` is deprecated since 2.0.0. To use GPU training, set the `device` parameter to CUDA instead.\n",
      "\n",
      "    E.g. tree_method = \"hist\", device = \"cuda\"\n",
      "\n",
      "/home/lang_chain/.local/lib/python3.10/site-packages/xgboost/core.py:160: UserWarning: [12:12:54] WARNING: /workspace/src/common/error_msg.cc:27: The tree method `gpu_hist` is deprecated since 2.0.0. To use GPU training, set the `device` parameter to CUDA instead.\n",
      "\n",
      "    E.g. tree_method = \"hist\", device = \"cuda\"\n",
      "\n",
      "  warnings.warn(smsg, UserWarning)\n",
      "/home/lang_chain/.local/lib/python3.10/site-packages/xgboost/core.py:160: UserWarning: [12:12:54] WARNING: /workspace/src/common/error_msg.cc:27: The tree method `gpu_hist` is deprecated since 2.0.0. To use GPU training, set the `device` parameter to CUDA instead.\n",
      "\n",
      "    E.g. tree_method = \"hist\", device = \"cuda\"\n",
      "\n",
      "  warnings.warn(smsg, UserWarning)\n",
      "2024-09-18 12:12:54,669 INFO XGBoost-PySpark: _fit Finished xgboost training!\n",
      "[12:12:54] WARNING: /workspace/src/common/error_msg.cc:27: The tree method `gpu_hist` is deprecated since 2.0.0. To use GPU training, set the `device` parameter to CUDA instead.\n",
      "\n",
      "    E.g. tree_method = \"hist\", device = \"cuda\"\n",
      "\n",
      "2024-09-18 12:12:54,732 INFO XGBoost-PySpark: _fit Finished xgboost training!\n",
      "[12:12:54] WARNING: /workspace/src/common/error_msg.cc:27: The tree method `gpu_hist` is deprecated since 2.0.0. To use GPU training, set the `device` parameter to CUDA instead.\n",
      "\n",
      "    E.g. tree_method = \"hist\", device = \"cuda\"\n",
      "\n",
      "/home/lang_chain/.local/lib/python3.10/site-packages/xgboost/core.py:160: UserWarning: [12:12:54] WARNING: /workspace/src/common/error_msg.cc:27: The tree method `gpu_hist` is deprecated since 2.0.0. To use GPU training, set the `device` parameter to CUDA instead.\n",
      "\n",
      "    E.g. tree_method = \"hist\", device = \"cuda\"\n",
      "\n",
      "  warnings.warn(smsg, UserWarning)\n",
      "2024-09-18 12:12:54,828 INFO XGBoost-PySpark: _fit Finished xgboost training!\n",
      "[12:12:54] WARNING: /workspace/src/common/error_msg.cc:27: The tree method `gpu_hist` is deprecated since 2.0.0. To use GPU training, set the `device` parameter to CUDA instead.\n",
      "\n",
      "    E.g. tree_method = \"hist\", device = \"cuda\"\n",
      "\n"
     ]
    }
   ],
   "source": [
    "\n",
    "# Create parameter grid\n",
    "paramGrid = ParamGridBuilder() \\\n",
    "    .addGrid(classifier.max_depth, [4, 6, 8]) \\\n",
    "    .addGrid(classifier.learning_rate, [0.1, 0.2, 0.3]) \\\n",
    "    .addGrid(classifier.n_estimators, [100, 200, 300]) \\\n",
    "    .addGrid(classifier.gamma, [0, 0.1, 0.2]) \\\n",
    "    .build()\n",
    "\n",
    "# Define evaluator\n",
    "evaluator = BinaryClassificationEvaluator(\n",
    "    labelCol='loan_status', \n",
    "    rawPredictionCol='prediction', \n",
    "    metricName='areaUnderROC'\n",
    ")\n",
    "\n",
    "# Cross validator\n",
    "crossval = CrossValidator(\n",
    "    estimator=classifier,\n",
    "    estimatorParamMaps=paramGrid,\n",
    "    evaluator=evaluator,\n",
    "    numFolds=3,  \n",
    "    parallelism=4  \n",
    ")\n",
    "\n",
    "# Fit cross-validator model\n",
    "cvModel = crossval.fit(train_assembled)\n",
    "\n",
    "# Evaluate best model\n",
    "predictions = cvModel.transform(test_assembled)\n",
    "predictions.select(\"loan_status\", \"prediction\", \"probability\").show()\n",
    "\n",
    "# Get the best model hyperparameters\n",
    "best_model = cvModel.bestModel\n",
    "print(f\"Best Max Depth: {best_model.getOrDefault('max_depth')}\")\n",
    "print(f\"Best Learning Rate: {best_model.getOrDefault('eta')}\")\n",
    "print(f\"Best Number of Estimators: {best_model.getOrDefault('n_estimators')}\")\n"
   ]
  },
  {
   "cell_type": "code",
   "execution_count": null,
   "metadata": {},
   "outputs": [
    {
     "name": "stderr",
     "output_type": "stream",
     "text": [
      "2024-09-18 12:07:01,702 WARNING SparkXGBClassifier: _validate_params You have enabled GPU in spark local mode. Please make sure your local node has at least 1 GPUs\n",
      "2024-09-18 12:07:04,437 INFO XGBoost-PySpark: _fit Running xgboost-2.0.0 on 1 workers with\n",
      "\tbooster params: {'objective': 'binary:logistic', 'device': 'cpu', 'max_depth': 6, 'tree_method': 'gpu_hist', 'gpu_memory_limit': 2048, 'nthread': 1}\n",
      "\ttrain_call_kwargs_params: {'verbose_eval': True, 'num_boost_round': 100}\n",
      "\tdmatrix_kwargs: {'nthread': 1, 'missing': nan}\n",
      "2024-09-18 12:07:06,719 INFO XGBoost-PySpark: _train_booster Leveraging cuda:0 to train with QDM: off\n",
      "INFO:XGBoost-PySpark:Leveraging cuda:0 to train with QDM: off\n",
      "[12:07:07] task 0 got new rank 0                                    (0 + 1) / 1]\n",
      "/home/lang_chain/.local/lib/python3.10/site-packages/xgboost/core.py:160: UserWarning: [12:07:07] WARNING: /workspace/src/common/error_msg.cc:27: The tree method `gpu_hist` is deprecated since 2.0.0. To use GPU training, set the `device` parameter to CUDA instead.\n",
      "\n",
      "    E.g. tree_method = \"hist\", device = \"cuda\"\n",
      "\n",
      "  warnings.warn(smsg, UserWarning)\n",
      "/home/lang_chain/.local/lib/python3.10/site-packages/xgboost/core.py:160: UserWarning: [12:07:07] WARNING: /workspace/src/learner.cc:742: \n",
      "Parameters: { \"gpu_memory_limit\" } are not used.\n",
      "\n",
      "  warnings.warn(smsg, UserWarning)\n",
      "/home/lang_chain/.local/lib/python3.10/site-packages/xgboost/core.py:160: UserWarning: [12:07:09] WARNING: /workspace/src/common/error_msg.cc:27: The tree method `gpu_hist` is deprecated since 2.0.0. To use GPU training, set the `device` parameter to CUDA instead.\n",
      "\n",
      "    E.g. tree_method = \"hist\", device = \"cuda\"\n",
      "\n",
      "  warnings.warn(smsg, UserWarning)\n",
      "2024-09-18 12:07:09,230 INFO XGBoost-PySpark: _fit Finished xgboost training!   \n",
      "/home/lang_chain/.local/lib/python3.10/site-packages/xgboost/core.py:160: UserWarning: [12:07:09] WARNING: /workspace/src/common/error_msg.cc:27: The tree method `gpu_hist` is deprecated since 2.0.0. To use GPU training, set the `device` parameter to CUDA instead.\n",
      "\n",
      "    E.g. tree_method = \"hist\", device = \"cuda\"\n",
      "\n",
      "  warnings.warn(smsg, UserWarning)\n",
      "2024-09-18 12:07:10,799 INFO XGBoost-PySpark: predict_udf Do the inference on the CPUs\n",
      "/home/lang_chain/.local/lib/python3.10/site-packages/xgboost/core.py:160: UserWarning: [12:07:10] WARNING: /workspace/src/common/error_msg.cc:27: The tree method `gpu_hist` is deprecated since 2.0.0. To use GPU training, set the `device` parameter to CUDA instead.\n",
      "\n",
      "    E.g. tree_method = \"hist\", device = \"cuda\"\n",
      "\n",
      "  warnings.warn(smsg, UserWarning)\n"
     ]
    },
    {
     "name": "stdout",
     "output_type": "stream",
     "text": [
      "+-----------+----------+--------------------+\n",
      "|loan_status|prediction|         probability|\n",
      "+-----------+----------+--------------------+\n",
      "|          1|       1.0|[0.02195566892623...|\n",
      "|          0|       0.0|[0.69172662496566...|\n",
      "|          0|       0.0|[0.62312602996826...|\n",
      "|          0|       0.0|[0.99933755397796...|\n",
      "|          1|       1.0|[9.11355018615722...|\n",
      "|          0|       0.0|[0.96366149187088...|\n",
      "|          0|       0.0|[0.85166758298873...|\n",
      "|          0|       0.0|[0.83862352371215...|\n",
      "|          0|       0.0|[0.94276672601699...|\n",
      "|          1|       0.0|[0.79952681064605...|\n",
      "|          0|       0.0|[0.95439666509628...|\n",
      "|          0|       0.0|[0.83728677034378...|\n",
      "|          0|       0.0|[0.86421978473663...|\n",
      "|          0|       0.0|[0.88907843828201...|\n",
      "|          0|       0.0|[0.92349255084991...|\n",
      "|          0|       0.0|[0.97977650165557...|\n",
      "|          0|       0.0|[0.94796627759933...|\n",
      "|          1|       1.0|[0.00174254179000...|\n",
      "|          0|       0.0|[0.85442888736724...|\n",
      "|          0|       0.0|[0.93827021121978...|\n",
      "+-----------+----------+--------------------+\n",
      "only showing top 20 rows\n",
      "\n"
     ]
    },
    {
     "name": "stderr",
     "output_type": "stream",
     "text": [
      "/home/lang_chain/.local/lib/python3.10/site-packages/xgboost/core.py:160: UserWarning: [12:07:11] WARNING: /workspace/src/common/error_msg.cc:58: Falling back to prediction using DMatrix due to mismatched devices. This might lead to higher memory usage and slower performance. XGBoost is running on: cuda:0, while the input data is on: cpu.\n",
      "Potential solutions:\n",
      "- Use a data structure that matches the device ordinal in the booster.\n",
      "- Set the device for booster before call to inplace_predict.\n",
      "\n",
      "This warning will only be shown once.\n",
      "\n",
      "  warnings.warn(smsg, UserWarning)\n",
      "                                                                                \r"
     ]
    }
   ],
   "source": [
    "model = classifier.fit(train_assembled)\n",
    "\n",
    "predictions = model.transform(test_assembled)\n",
    "\n",
    "predictions.select(\"loan_status\", \"prediction\", \"probability\").show()"
   ]
  },
  {
   "cell_type": "code",
   "execution_count": null,
   "metadata": {},
   "outputs": [
    {
     "name": "stderr",
     "output_type": "stream",
     "text": [
      "/home/lang_chain/.local/lib/python3.10/site-packages/xgboost/spark/estimator.py:81: FutureWarning: `use_gpu` is deprecated since 2.0.0, use `device` instead\n",
      "  warnings.warn(\n",
      "2024-09-18 11:20:10,170 WARNING SparkXGBClassifier: _validate_params You have enabled GPU in spark local mode. Please make sure your local node has at least 1 GPUs\n",
      "2024-09-18 11:20:13,083 INFO XGBoost-PySpark: _fit Running xgboost-2.0.0 on 1 workers with\n",
      "\tbooster params: {'objective': 'binary:logistic', 'colsample_bytree': 0.8, 'device': 'cpu', 'max_depth': 4, 'subsample': 0.8, 'tree_method': 'gpu_hist', 'gpu_memory_limit': 2048, 'eta': 0.1, 'nthread': 1}\n",
      "\ttrain_call_kwargs_params: {'verbose_eval': True, 'num_boost_round': 20}\n",
      "\tdmatrix_kwargs: {'nthread': 1, 'missing': nan}\n",
      "2024-09-18 11:20:16,774 INFO XGBoost-PySpark: _train_booster Leveraging cuda:0 to train with QDM: off\n",
      "[11:20:17] task 0 got new rank 0\n",
      "/home/lang_chain/.local/lib/python3.10/site-packages/xgboost/core.py:160: UserWarning: [11:20:18] WARNING: /workspace/src/common/error_msg.cc:27: The tree method `gpu_hist` is deprecated since 2.0.0. To use GPU training, set the `device` parameter to CUDA instead.\n",
      "\n",
      "    E.g. tree_method = \"hist\", device = \"cuda\"\n",
      "\n",
      "  warnings.warn(smsg, UserWarning)\n",
      "/home/lang_chain/.local/lib/python3.10/site-packages/xgboost/core.py:160: UserWarning: [11:20:18] WARNING: /workspace/src/learner.cc:742: \n",
      "Parameters: { \"gpu_memory_limit\" } are not used.\n",
      "\n",
      "  warnings.warn(smsg, UserWarning)\n",
      "/home/lang_chain/.local/lib/python3.10/site-packages/xgboost/core.py:160: UserWarning: [11:20:19] WARNING: /workspace/src/common/error_msg.cc:27: The tree method `gpu_hist` is deprecated since 2.0.0. To use GPU training, set the `device` parameter to CUDA instead.\n",
      "\n",
      "    E.g. tree_method = \"hist\", device = \"cuda\"\n",
      "\n",
      "  warnings.warn(smsg, UserWarning)\n",
      "2024-09-18 11:20:19,722 INFO XGBoost-PySpark: _fit Finished xgboost training!   \n",
      "/home/lang_chain/.local/lib/python3.10/site-packages/xgboost/core.py:160: UserWarning: [11:20:19] WARNING: /workspace/src/common/error_msg.cc:27: The tree method `gpu_hist` is deprecated since 2.0.0. To use GPU training, set the `device` parameter to CUDA instead.\n",
      "\n",
      "    E.g. tree_method = \"hist\", device = \"cuda\"\n",
      "\n",
      "  warnings.warn(smsg, UserWarning)\n"
     ]
    }
   ],
   "source": [
    "from pyspark.ml.evaluation import BinaryClassificationEvaluator\n",
    "from xgboost.spark import SparkXGBClassifier\n",
    "from pyspark import SparkContext\n",
    "sc = SparkContext.getOrCreate()\n",
    "# Train the model using the classifier\n",
    "classifier = SparkXGBClassifier(\n",
    "    num_workers=1,\n",
    "    use_gpu=True,\n",
    "    tree_method='gpu_hist',\n",
    "    gpu_memory_limit=2048,\n",
    "    max_depth=4,         # Maximum depth of the tree\n",
    "    eta=0.1,             # Learning rate (0.1 is a good default)\n",
    "    subsample=0.8,       # Use 80% of data for training each tree\n",
    "    colsample_bytree=0.8, # Use 80% of features for each tree\n",
    "    n_estimators=20,    # Number of boosting rounds\n",
    "    features_col='features',\n",
    "    label_col='loan_status'\n",
    ")\n",
    "\n",
    "# Fit the model to the training data\n",
    "model = classifier.fit(train_assembled)\n",
    "\n",
    "# Make predictions on the test data\n",
    "predictions = model.transform(test_assembled)\n",
    "\n",
    "# Evaluate the predictions\n",
    "evaluator = BinaryClassificationEvaluator(\n",
    "    labelCol=\"loan_status\",  # Actual label\n",
    "    rawPredictionCol=\"probability\",  # Use predicted probabilities for AUC\n",
    "    metricName=\"areaUnderROC\"  # Use ROC for evaluation\n",
    ")\n",
    "\n",
    "# Calculate AUC\n",
    "auc = evaluator.evaluate(predictions)\n",
    "print(f\"Area under ROC: {auc:.4f}\")\n",
    "\n",
    "# You can also evaluate accuracy using a different evaluator\n",
    "evaluator_acc = BinaryClassificationEvaluator(\n",
    "    labelCol=\"loan_status\", \n",
    "    rawPredictionCol=\"prediction\", \n",
    "    metricName=\"accuracy\"\n",
    ")\n",
    "\n",
    "# Calculate accuracy\n",
    "accuracy = evaluator_acc.evaluate(predictions)\n",
    "print(f\"Accuracy: {accuracy:.4f}\")\n"
   ]
  },
  {
   "cell_type": "code",
   "execution_count": null,
   "metadata": {},
   "outputs": [
    {
     "name": "stdout",
     "output_type": "stream",
     "text": [
      "2.0.0\n",
      "{'use_rmm': False, 'verbosity': 1}\n"
     ]
    }
   ],
   "source": [
    "import xgboost as xgb\n",
    "print(xgb.__version__)\n",
    "print(xgb.get_config())\n"
   ]
  },
  {
   "cell_type": "code",
   "execution_count": null,
   "metadata": {},
   "outputs": [],
   "source": [
    "#https://repo1.maven.org/maven2/ai/rapids/cudf/24.04.0/\n",
    "#https://repo1.maven.org/maven2/ai/rapids/xgboost4j_2.11/1.0.0-Beta2/\n",
    "#https://repo1.maven.org/maven2/ai/rapids/xgboost4j-spark_2.11/1.0.0-Beta2/"
   ]
  },
  {
   "cell_type": "code",
   "execution_count": null,
   "metadata": {},
   "outputs": [
    {
     "name": "stdout",
     "output_type": "stream",
     "text": [
      "/media/lang_chain/Storage/Documents/credit-risk-prediction/notebook/jar_file\n"
     ]
    }
   ],
   "source": [
    "cd jar_file"
   ]
  },
  {
   "cell_type": "code",
   "execution_count": null,
   "metadata": {},
   "outputs": [
    {
     "name": "stdout",
     "output_type": "stream",
     "text": [
      "cudf-24.04.0-cuda11.jar         xgboost4j-spark_2.11-1.0.0-Beta2.jar\n",
      "xgboost4j_2.11-1.0.0-Beta2.jar\n"
     ]
    }
   ],
   "source": [
    "ls"
   ]
  },
  {
   "cell_type": "code",
   "execution_count": null,
   "metadata": {},
   "outputs": [
    {
     "name": "stdout",
     "output_type": "stream",
     "text": [
      "jar_file/cudf-24.04.0-cuda11.jar\n",
      "jar_file/xgboost4j_2.11-1.0.0-Beta2.jar\n",
      "jar_file/xgboost4j-spark_2.11-1.0.0-Beta2.jar\n"
     ]
    }
   ],
   "source": [
    "import os\n",
    "jarfile_path = os.listdir('/media/lang_chain/Storage/Documents/credit-risk-prediction/notebook/jar_file')\n",
    "for file in jarfile_path:\n",
    "    print(os.path.join('jar_file',file))"
   ]
  },
  {
   "cell_type": "code",
   "execution_count": null,
   "metadata": {},
   "outputs": [],
   "source": [
    "import os\n",
    "os.environ['PYSPARK_SUBMIT_ARGS'] = '--jars jar_file/cudf-24.04.0-cuda11.jar,jar_file/xgboost4j_2.11-1.0.0-Beta2.jar,jar_file/xgboost4j-spark_2.11-1.0.0-Beta2.jar'\n"
   ]
  },
  {
   "cell_type": "code",
   "execution_count": null,
   "metadata": {},
   "outputs": [],
   "source": [
    "import findspark"
   ]
  },
  {
   "cell_type": "code",
   "execution_count": null,
   "metadata": {},
   "outputs": [],
   "source": [
    "\n",
    "findspark.init()"
   ]
  },
  {
   "cell_type": "code",
   "execution_count": null,
   "metadata": {},
   "outputs": [
    {
     "data": {
      "text/plain": [
       "True"
      ]
     },
     "execution_count": 9,
     "metadata": {},
     "output_type": "execute_result"
    }
   ],
   "source": [
    "import os\n",
    "os.path.exists(\"jar_file/xgboost4j-spark_2.11-1.0.0-Beta2.jar\")"
   ]
  },
  {
   "cell_type": "code",
   "execution_count": null,
   "metadata": {},
   "outputs": [],
   "source": [
    "spark.sparkContext.addPyFile(\"jar_file/xgboost4j-spark_2.11-1.0.0-Beta2.jar\")"
   ]
  },
  {
   "cell_type": "code",
   "execution_count": null,
   "metadata": {},
   "outputs": [],
   "source": [
    "from sparkxgb.xgboost import XGBoostClassificationModel, XGBoostClassifier"
   ]
  },
  {
   "cell_type": "code",
   "execution_count": null,
   "metadata": {},
   "outputs": [],
   "source": [
    "from xgboost.spark import SparkXGBClassifier"
   ]
  },
  {
   "cell_type": "code",
   "execution_count": null,
   "metadata": {},
   "outputs": [],
   "source": [
    "classifier_ = SparkXGBClassifier(\n",
    "  features_col='features',\n",
    "  label_col='loan_status',\n",
    "  num_workers=2,\n",
    "  device=\"cuda\",\n",
    ")"
   ]
  },
  {
   "cell_type": "code",
   "execution_count": null,
   "metadata": {},
   "outputs": [
    {
     "name": "stderr",
     "output_type": "stream",
     "text": [
      "2024-09-18 12:03:01,686 WARNING SparkXGBClassifier: _validate_params You have enabled GPU in spark local mode. Please make sure your local node has at least 2 GPUs\n",
      "2024-09-18 12:03:04,704 INFO XGBoost-PySpark: _fit Running xgboost-2.0.0 on 2 workers with\n",
      "\tbooster params: {'objective': 'binary:logistic', 'device': 'cuda', 'nthread': 1}\n",
      "\ttrain_call_kwargs_params: {'verbose_eval': True, 'num_boost_round': 100}\n",
      "\tdmatrix_kwargs: {'nthread': 1, 'missing': nan}\n",
      "2024-09-18 12:03:08,369 INFO XGBoost-PySpark: _train_booster Leveraging cuda:0 to train with QDM: off\n",
      "2024-09-18 12:03:08,400 INFO XGBoost-PySpark: _train_booster Leveraging cuda:1 to train with QDM: off\n",
      "[12:03:09] task 1 got new rank 0\n",
      "[12:03:09] task 0 got new rank 1\n",
      "/home/lang_chain/.local/lib/python3.10/site-packages/xgboost/core.py:160: UserWarning: [12:03:09] WARNING: /workspace/src/context.cc:53: Only 1 GPUs are visible, setting device ordinal to 0\n",
      "  warnings.warn(smsg, UserWarning)\n",
      "24/09/18 12:03:10 ERROR PythonRunner: Python worker exited unexpectedly (crashed)\n",
      "org.apache.spark.api.python.PythonException: Traceback (most recent call last):\n",
      "  File \"/media/lang_chain/Storage/Documents/credit-risk-prediction/.conda/lib/python3.10/site-packages/pyspark/python/lib/pyspark.zip/pyspark/worker.py\", line 584, in main\n",
      "    eval_type = read_int(infile)\n",
      "  File \"/media/lang_chain/Storage/Documents/credit-risk-prediction/.conda/lib/python3.10/site-packages/pyspark/python/lib/pyspark.zip/pyspark/serializers.py\", line 564, in read_int\n",
      "    raise EOFError\n",
      "EOFError\n",
      "\n",
      "\tat org.apache.spark.api.python.BasePythonRunner$ReaderIterator.handlePythonException(PythonRunner.scala:517)\n",
      "\tat org.apache.spark.api.python.PythonRunner$$anon$3.read(PythonRunner.scala:652)\n",
      "\tat org.apache.spark.api.python.PythonRunner$$anon$3.read(PythonRunner.scala:635)\n",
      "\tat org.apache.spark.api.python.BasePythonRunner$ReaderIterator.hasNext(PythonRunner.scala:470)\n",
      "\tat org.apache.spark.InterruptibleIterator.hasNext(InterruptibleIterator.scala:37)\n",
      "\tat scala.collection.Iterator.foreach(Iterator.scala:941)\n",
      "\tat scala.collection.Iterator.foreach$(Iterator.scala:941)\n",
      "\tat org.apache.spark.InterruptibleIterator.foreach(InterruptibleIterator.scala:28)\n",
      "\tat scala.collection.generic.Growable.$plus$plus$eq(Growable.scala:62)\n",
      "\tat scala.collection.generic.Growable.$plus$plus$eq$(Growable.scala:53)\n",
      "\tat scala.collection.mutable.ArrayBuffer.$plus$plus$eq(ArrayBuffer.scala:105)\n",
      "\tat scala.collection.mutable.ArrayBuffer.$plus$plus$eq(ArrayBuffer.scala:49)\n",
      "\tat scala.collection.TraversableOnce.to(TraversableOnce.scala:315)\n",
      "\tat scala.collection.TraversableOnce.to$(TraversableOnce.scala:313)\n",
      "\tat org.apache.spark.InterruptibleIterator.to(InterruptibleIterator.scala:28)\n",
      "\tat scala.collection.TraversableOnce.toBuffer(TraversableOnce.scala:307)\n",
      "\tat scala.collection.TraversableOnce.toBuffer$(TraversableOnce.scala:307)\n",
      "\tat org.apache.spark.InterruptibleIterator.toBuffer(InterruptibleIterator.scala:28)\n",
      "\tat scala.collection.TraversableOnce.toArray(TraversableOnce.scala:294)\n",
      "\tat scala.collection.TraversableOnce.toArray$(TraversableOnce.scala:288)\n",
      "\tat org.apache.spark.InterruptibleIterator.toArray(InterruptibleIterator.scala:28)\n",
      "\tat org.apache.spark.rdd.RDD.$anonfun$collect$2(RDD.scala:1030)\n",
      "\tat org.apache.spark.SparkContext.$anonfun$runJob$5(SparkContext.scala:2242)\n",
      "\tat org.apache.spark.scheduler.ResultTask.runTask(ResultTask.scala:90)\n",
      "\tat org.apache.spark.scheduler.Task.run(Task.scala:131)\n",
      "\tat org.apache.spark.executor.Executor$TaskRunner.$anonfun$run$3(Executor.scala:497)\n",
      "\tat org.apache.spark.util.Utils$.tryWithSafeFinally(Utils.scala:1439)\n",
      "\tat org.apache.spark.executor.Executor$TaskRunner.run(Executor.scala:500)\n",
      "\tat java.base/java.util.concurrent.ThreadPoolExecutor.runWorker(ThreadPoolExecutor.java:1128)\n",
      "\tat java.base/java.util.concurrent.ThreadPoolExecutor$Worker.run(ThreadPoolExecutor.java:628)\n",
      "\tat java.base/java.lang.Thread.run(Thread.java:829)\n",
      "Caused by: org.apache.spark.api.python.PythonException: Traceback (most recent call last):\n",
      "  File \"/media/lang_chain/Storage/Documents/credit-risk-prediction/.conda/lib/python3.10/site-packages/pyspark/python/lib/pyspark.zip/pyspark/worker.py\", line 604, in main\n",
      "    process()\n",
      "  File \"/media/lang_chain/Storage/Documents/credit-risk-prediction/.conda/lib/python3.10/site-packages/pyspark/python/lib/pyspark.zip/pyspark/worker.py\", line 596, in process\n",
      "    serializer.dump_stream(out_iter, outfile)\n",
      "  File \"/media/lang_chain/Storage/Documents/credit-risk-prediction/.conda/lib/python3.10/site-packages/pyspark/python/lib/pyspark.zip/pyspark/sql/pandas/serializers.py\", line 273, in dump_stream\n",
      "    return ArrowStreamSerializer.dump_stream(self, init_stream_yield_batches(), stream)\n",
      "  File \"/media/lang_chain/Storage/Documents/credit-risk-prediction/.conda/lib/python3.10/site-packages/pyspark/python/lib/pyspark.zip/pyspark/sql/pandas/serializers.py\", line 81, in dump_stream\n",
      "    for batch in iterator:\n",
      "  File \"/media/lang_chain/Storage/Documents/credit-risk-prediction/.conda/lib/python3.10/site-packages/pyspark/python/lib/pyspark.zip/pyspark/sql/pandas/serializers.py\", line 266, in init_stream_yield_batches\n",
      "    for series in iterator:\n",
      "  File \"/media/lang_chain/Storage/Documents/credit-risk-prediction/.conda/lib/python3.10/site-packages/pyspark/python/lib/pyspark.zip/pyspark/worker.py\", line 356, in func\n",
      "    for result_batch, result_type in result_iter:\n",
      "  File \"/home/lang_chain/.local/lib/python3.10/site-packages/xgboost/spark/core.py\", line 965, in _train_booster\n",
      "    with CommunicatorContext(context, **_rabit_args):\n",
      "  File \"/home/lang_chain/.local/lib/python3.10/site-packages/xgboost/core.py\", line 729, in inner_f\n",
      "    return func(**kwargs)\n",
      "  File \"/home/lang_chain/.local/lib/python3.10/site-packages/xgboost/training.py\", line 181, in train\n",
      "    bst.update(dtrain, i, obj)\n",
      "  File \"/home/lang_chain/.local/lib/python3.10/site-packages/xgboost/core.py\", line 2049, in update\n",
      "    _check_call(\n",
      "  File \"/home/lang_chain/.local/lib/python3.10/site-packages/xgboost/core.py\", line 281, in _check_call\n",
      "    raise XGBoostError(py_str(_LIB.XGBGetLastError()))\n",
      "xgboost.core.XGBoostError: [12:03:10] /workspace/src/collective/nccl_device_communicator.cu:40: Check failed: n_uniques == world_size_ (1 vs. 2) : Multiple processes within communication group running on same CUDA device is not supported. b96c1eb44939eb0b2cf09472af1b7aa8\n",
      "\n",
      "Stack trace:\n",
      "  [bt] (0) /home/lang_chain/.local/lib/python3.10/site-packages/xgboost/lib/libxgboost.so(+0x1ba0be) [0x7f62ea5ba0be]\n",
      "  [bt] (1) /home/lang_chain/.local/lib/python3.10/site-packages/xgboost/lib/libxgboost.so(+0x78cc34) [0x7f62eab8cc34]\n",
      "  [bt] (2) /home/lang_chain/.local/lib/python3.10/site-packages/xgboost/lib/libxgboost.so(+0x7869b5) [0x7f62eab869b5]\n",
      "  [bt] (3) /home/lang_chain/.local/lib/python3.10/site-packages/xgboost/lib/libxgboost.so(+0xaea3f7) [0x7f62eaeea3f7]\n",
      "  [bt] (4) /home/lang_chain/.local/lib/python3.10/site-packages/xgboost/lib/libxgboost.so(+0x63c86b) [0x7f62eaa3c86b]\n",
      "  [bt] (5) /home/lang_chain/.local/lib/python3.10/site-packages/xgboost/lib/libxgboost.so(+0x55f3bd) [0x7f62ea95f3bd]\n",
      "  [bt] (6) /home/lang_chain/.local/lib/python3.10/site-packages/xgboost/lib/libxgboost.so(+0x48fa61) [0x7f62ea88fa61]\n",
      "  [bt] (7) /home/lang_chain/.local/lib/python3.10/site-packages/xgboost/lib/libxgboost.so(+0x4c00a6) [0x7f62ea8c00a6]\n",
      "  [bt] (8) /home/lang_chain/.local/lib/python3.10/site-packages/xgboost/lib/libxgboost.so(+0x4c4c04) [0x7f62ea8c4c04]\n",
      "\n",
      "\n",
      "\n",
      "\tat org.apache.spark.api.python.BasePythonRunner$ReaderIterator.handlePythonException(PythonRunner.scala:517)\n",
      "\tat org.apache.spark.sql.execution.python.PythonArrowOutput$$anon$1.read(PythonArrowOutput.scala:99)\n",
      "\tat org.apache.spark.sql.execution.python.PythonArrowOutput$$anon$1.read(PythonArrowOutput.scala:49)\n",
      "\tat org.apache.spark.api.python.BasePythonRunner$ReaderIterator.hasNext(PythonRunner.scala:470)\n",
      "\tat org.apache.spark.InterruptibleIterator.hasNext(InterruptibleIterator.scala:37)\n",
      "\tat scala.collection.Iterator$$anon$11.hasNext(Iterator.scala:489)\n",
      "\tat scala.collection.Iterator$$anon$10.hasNext(Iterator.scala:458)\n",
      "\tat scala.collection.Iterator$$anon$10.hasNext(Iterator.scala:458)\n",
      "\tat org.apache.spark.api.python.SerDeUtil$AutoBatchedPickler.hasNext(SerDeUtil.scala:85)\n",
      "\tat scala.collection.Iterator.foreach(Iterator.scala:941)\n",
      "\tat scala.collection.Iterator.foreach$(Iterator.scala:941)\n",
      "\tat org.apache.spark.api.python.SerDeUtil$AutoBatchedPickler.foreach(SerDeUtil.scala:80)\n",
      "\tat org.apache.spark.api.python.PythonRDD$.writeIteratorToStream(PythonRDD.scala:307)\n",
      "\tat org.apache.spark.api.python.PythonRunner$$anon$2.writeIteratorToStream(PythonRunner.scala:621)\n",
      "\tat org.apache.spark.api.python.BasePythonRunner$WriterThread.$anonfun$run$1(PythonRunner.scala:397)\n",
      "\tat org.apache.spark.util.Utils$.logUncaughtExceptions(Utils.scala:1996)\n",
      "\tat org.apache.spark.api.python.BasePythonRunner$WriterThread.run(PythonRunner.scala:232)\n",
      "24/09/18 12:03:10 ERROR PythonRunner: Python worker exited unexpectedly (crashed)\n",
      "org.apache.spark.api.python.PythonException: Traceback (most recent call last):\n",
      "  File \"/media/lang_chain/Storage/Documents/credit-risk-prediction/.conda/lib/python3.10/site-packages/pyspark/python/lib/pyspark.zip/pyspark/worker.py\", line 584, in main\n",
      "    eval_type = read_int(infile)\n",
      "  File \"/media/lang_chain/Storage/Documents/credit-risk-prediction/.conda/lib/python3.10/site-packages/pyspark/python/lib/pyspark.zip/pyspark/serializers.py\", line 564, in read_int\n",
      "    raise EOFError\n",
      "EOFError\n",
      "\n",
      "\tat org.apache.spark.api.python.BasePythonRunner$ReaderIterator.handlePythonException(PythonRunner.scala:517)\n",
      "\tat org.apache.spark.api.python.PythonRunner$$anon$3.read(PythonRunner.scala:652)\n",
      "\tat org.apache.spark.api.python.PythonRunner$$anon$3.read(PythonRunner.scala:635)\n",
      "\tat org.apache.spark.api.python.BasePythonRunner$ReaderIterator.hasNext(PythonRunner.scala:470)\n",
      "\tat org.apache.spark.InterruptibleIterator.hasNext(InterruptibleIterator.scala:37)\n",
      "\tat scala.collection.Iterator.foreach(Iterator.scala:941)\n",
      "\tat scala.collection.Iterator.foreach$(Iterator.scala:941)\n",
      "\tat org.apache.spark.InterruptibleIterator.foreach(InterruptibleIterator.scala:28)\n",
      "\tat scala.collection.generic.Growable.$plus$plus$eq(Growable.scala:62)\n",
      "\tat scala.collection.generic.Growable.$plus$plus$eq$(Growable.scala:53)\n",
      "\tat scala.collection.mutable.ArrayBuffer.$plus$plus$eq(ArrayBuffer.scala:105)\n",
      "\tat scala.collection.mutable.ArrayBuffer.$plus$plus$eq(ArrayBuffer.scala:49)\n",
      "\tat scala.collection.TraversableOnce.to(TraversableOnce.scala:315)\n",
      "\tat scala.collection.TraversableOnce.to$(TraversableOnce.scala:313)\n",
      "\tat org.apache.spark.InterruptibleIterator.to(InterruptibleIterator.scala:28)\n",
      "\tat scala.collection.TraversableOnce.toBuffer(TraversableOnce.scala:307)\n",
      "\tat scala.collection.TraversableOnce.toBuffer$(TraversableOnce.scala:307)\n",
      "\tat org.apache.spark.InterruptibleIterator.toBuffer(InterruptibleIterator.scala:28)\n",
      "\tat scala.collection.TraversableOnce.toArray(TraversableOnce.scala:294)\n",
      "\tat scala.collection.TraversableOnce.toArray$(TraversableOnce.scala:288)\n",
      "\tat org.apache.spark.InterruptibleIterator.toArray(InterruptibleIterator.scala:28)\n",
      "\tat org.apache.spark.rdd.RDD.$anonfun$collect$2(RDD.scala:1030)\n",
      "\tat org.apache.spark.SparkContext.$anonfun$runJob$5(SparkContext.scala:2242)\n",
      "\tat org.apache.spark.scheduler.ResultTask.runTask(ResultTask.scala:90)\n",
      "\tat org.apache.spark.scheduler.Task.run(Task.scala:131)\n",
      "\tat org.apache.spark.executor.Executor$TaskRunner.$anonfun$run$3(Executor.scala:497)\n",
      "\tat org.apache.spark.util.Utils$.tryWithSafeFinally(Utils.scala:1439)\n",
      "\tat org.apache.spark.executor.Executor$TaskRunner.run(Executor.scala:500)\n",
      "\tat java.base/java.util.concurrent.ThreadPoolExecutor.runWorker(ThreadPoolExecutor.java:1128)\n",
      "\tat java.base/java.util.concurrent.ThreadPoolExecutor$Worker.run(ThreadPoolExecutor.java:628)\n",
      "\tat java.base/java.lang.Thread.run(Thread.java:829)\n",
      "Caused by: org.apache.spark.api.python.PythonException: Traceback (most recent call last):\n",
      "  File \"/media/lang_chain/Storage/Documents/credit-risk-prediction/.conda/lib/python3.10/site-packages/pyspark/python/lib/pyspark.zip/pyspark/worker.py\", line 604, in main\n",
      "    process()\n",
      "  File \"/media/lang_chain/Storage/Documents/credit-risk-prediction/.conda/lib/python3.10/site-packages/pyspark/python/lib/pyspark.zip/pyspark/worker.py\", line 596, in process\n",
      "    serializer.dump_stream(out_iter, outfile)\n",
      "  File \"/media/lang_chain/Storage/Documents/credit-risk-prediction/.conda/lib/python3.10/site-packages/pyspark/python/lib/pyspark.zip/pyspark/sql/pandas/serializers.py\", line 273, in dump_stream\n",
      "    return ArrowStreamSerializer.dump_stream(self, init_stream_yield_batches(), stream)\n",
      "  File \"/media/lang_chain/Storage/Documents/credit-risk-prediction/.conda/lib/python3.10/site-packages/pyspark/python/lib/pyspark.zip/pyspark/sql/pandas/serializers.py\", line 81, in dump_stream\n",
      "    for batch in iterator:\n",
      "  File \"/media/lang_chain/Storage/Documents/credit-risk-prediction/.conda/lib/python3.10/site-packages/pyspark/python/lib/pyspark.zip/pyspark/sql/pandas/serializers.py\", line 266, in init_stream_yield_batches\n",
      "    for series in iterator:\n",
      "  File \"/media/lang_chain/Storage/Documents/credit-risk-prediction/.conda/lib/python3.10/site-packages/pyspark/python/lib/pyspark.zip/pyspark/worker.py\", line 356, in func\n",
      "    for result_batch, result_type in result_iter:\n",
      "  File \"/home/lang_chain/.local/lib/python3.10/site-packages/xgboost/spark/core.py\", line 965, in _train_booster\n",
      "    with CommunicatorContext(context, **_rabit_args):\n",
      "  File \"/home/lang_chain/.local/lib/python3.10/site-packages/xgboost/core.py\", line 729, in inner_f\n",
      "    return func(**kwargs)\n",
      "  File \"/home/lang_chain/.local/lib/python3.10/site-packages/xgboost/training.py\", line 181, in train\n",
      "    bst.update(dtrain, i, obj)\n",
      "  File \"/home/lang_chain/.local/lib/python3.10/site-packages/xgboost/core.py\", line 2049, in update\n",
      "    _check_call(\n",
      "  File \"/home/lang_chain/.local/lib/python3.10/site-packages/xgboost/core.py\", line 281, in _check_call\n",
      "    raise XGBoostError(py_str(_LIB.XGBGetLastError()))\n",
      "xgboost.core.XGBoostError: [12:03:10] /workspace/src/collective/nccl_device_communicator.cu:40: Check failed: n_uniques == world_size_ (1 vs. 2) : Multiple processes within communication group running on same CUDA device is not supported. b96c1eb44939eb0b2cf09472af1b7aa8\n",
      "\n",
      "Stack trace:\n",
      "  [bt] (0) /home/lang_chain/.local/lib/python3.10/site-packages/xgboost/lib/libxgboost.so(+0x1ba0be) [0x7f62ea5ba0be]\n",
      "  [bt] (1) /home/lang_chain/.local/lib/python3.10/site-packages/xgboost/lib/libxgboost.so(+0x78cc34) [0x7f62eab8cc34]\n",
      "  [bt] (2) /home/lang_chain/.local/lib/python3.10/site-packages/xgboost/lib/libxgboost.so(+0x7869b5) [0x7f62eab869b5]\n",
      "  [bt] (3) /home/lang_chain/.local/lib/python3.10/site-packages/xgboost/lib/libxgboost.so(+0xaea3f7) [0x7f62eaeea3f7]\n",
      "  [bt] (4) /home/lang_chain/.local/lib/python3.10/site-packages/xgboost/lib/libxgboost.so(+0x63c86b) [0x7f62eaa3c86b]\n",
      "  [bt] (5) /home/lang_chain/.local/lib/python3.10/site-packages/xgboost/lib/libxgboost.so(+0x55f3bd) [0x7f62ea95f3bd]\n",
      "  [bt] (6) /home/lang_chain/.local/lib/python3.10/site-packages/xgboost/lib/libxgboost.so(+0x48fa61) [0x7f62ea88fa61]\n",
      "  [bt] (7) /home/lang_chain/.local/lib/python3.10/site-packages/xgboost/lib/libxgboost.so(+0x4c00a6) [0x7f62ea8c00a6]\n",
      "  [bt] (8) /home/lang_chain/.local/lib/python3.10/site-packages/xgboost/lib/libxgboost.so(+0x4c4c04) [0x7f62ea8c4c04]\n",
      "\n",
      "\n",
      "\n",
      "\tat org.apache.spark.api.python.BasePythonRunner$ReaderIterator.handlePythonException(PythonRunner.scala:517)\n",
      "\tat org.apache.spark.sql.execution.python.PythonArrowOutput$$anon$1.read(PythonArrowOutput.scala:99)\n",
      "\tat org.apache.spark.sql.execution.python.PythonArrowOutput$$anon$1.read(PythonArrowOutput.scala:49)\n",
      "\tat org.apache.spark.api.python.BasePythonRunner$ReaderIterator.hasNext(PythonRunner.scala:470)\n",
      "\tat org.apache.spark.InterruptibleIterator.hasNext(InterruptibleIterator.scala:37)\n",
      "\tat scala.collection.Iterator$$anon$11.hasNext(Iterator.scala:489)\n",
      "\tat scala.collection.Iterator$$anon$10.hasNext(Iterator.scala:458)\n",
      "\tat scala.collection.Iterator$$anon$10.hasNext(Iterator.scala:458)\n",
      "\tat org.apache.spark.api.python.SerDeUtil$AutoBatchedPickler.hasNext(SerDeUtil.scala:85)\n",
      "\tat scala.collection.Iterator.foreach(Iterator.scala:941)\n",
      "\tat scala.collection.Iterator.foreach$(Iterator.scala:941)\n",
      "\tat org.apache.spark.api.python.SerDeUtil$AutoBatchedPickler.foreach(SerDeUtil.scala:80)\n",
      "\tat org.apache.spark.api.python.PythonRDD$.writeIteratorToStream(PythonRDD.scala:307)\n",
      "\tat org.apache.spark.api.python.PythonRunner$$anon$2.writeIteratorToStream(PythonRunner.scala:621)\n",
      "\tat org.apache.spark.api.python.BasePythonRunner$WriterThread.$anonfun$run$1(PythonRunner.scala:397)\n",
      "\tat org.apache.spark.util.Utils$.logUncaughtExceptions(Utils.scala:1996)\n",
      "\tat org.apache.spark.api.python.BasePythonRunner$WriterThread.run(PythonRunner.scala:232)\n",
      "24/09/18 12:03:10 ERROR PythonRunner: This may have been caused by a prior exception:\n",
      "org.apache.spark.api.python.PythonException: Traceback (most recent call last):\n",
      "  File \"/media/lang_chain/Storage/Documents/credit-risk-prediction/.conda/lib/python3.10/site-packages/pyspark/python/lib/pyspark.zip/pyspark/worker.py\", line 604, in main\n",
      "    process()\n",
      "  File \"/media/lang_chain/Storage/Documents/credit-risk-prediction/.conda/lib/python3.10/site-packages/pyspark/python/lib/pyspark.zip/pyspark/worker.py\", line 596, in process\n",
      "    serializer.dump_stream(out_iter, outfile)\n",
      "  File \"/media/lang_chain/Storage/Documents/credit-risk-prediction/.conda/lib/python3.10/site-packages/pyspark/python/lib/pyspark.zip/pyspark/sql/pandas/serializers.py\", line 273, in dump_stream\n",
      "    return ArrowStreamSerializer.dump_stream(self, init_stream_yield_batches(), stream)\n",
      "  File \"/media/lang_chain/Storage/Documents/credit-risk-prediction/.conda/lib/python3.10/site-packages/pyspark/python/lib/pyspark.zip/pyspark/sql/pandas/serializers.py\", line 81, in dump_stream\n",
      "    for batch in iterator:\n",
      "  File \"/media/lang_chain/Storage/Documents/credit-risk-prediction/.conda/lib/python3.10/site-packages/pyspark/python/lib/pyspark.zip/pyspark/sql/pandas/serializers.py\", line 266, in init_stream_yield_batches\n",
      "    for series in iterator:\n",
      "  File \"/media/lang_chain/Storage/Documents/credit-risk-prediction/.conda/lib/python3.10/site-packages/pyspark/python/lib/pyspark.zip/pyspark/worker.py\", line 356, in func\n",
      "    for result_batch, result_type in result_iter:\n",
      "  File \"/home/lang_chain/.local/lib/python3.10/site-packages/xgboost/spark/core.py\", line 965, in _train_booster\n",
      "    with CommunicatorContext(context, **_rabit_args):\n",
      "  File \"/home/lang_chain/.local/lib/python3.10/site-packages/xgboost/core.py\", line 729, in inner_f\n",
      "    return func(**kwargs)\n",
      "  File \"/home/lang_chain/.local/lib/python3.10/site-packages/xgboost/training.py\", line 181, in train\n",
      "    bst.update(dtrain, i, obj)\n",
      "  File \"/home/lang_chain/.local/lib/python3.10/site-packages/xgboost/core.py\", line 2049, in update\n",
      "    _check_call(\n",
      "  File \"/home/lang_chain/.local/lib/python3.10/site-packages/xgboost/core.py\", line 281, in _check_call\n",
      "    raise XGBoostError(py_str(_LIB.XGBGetLastError()))\n",
      "xgboost.core.XGBoostError: [12:03:10] /workspace/src/collective/nccl_device_communicator.cu:40: Check failed: n_uniques == world_size_ (1 vs. 2) : Multiple processes within communication group running on same CUDA device is not supported. b96c1eb44939eb0b2cf09472af1b7aa8\n",
      "\n",
      "Stack trace:\n",
      "  [bt] (0) /home/lang_chain/.local/lib/python3.10/site-packages/xgboost/lib/libxgboost.so(+0x1ba0be) [0x7f62ea5ba0be]\n",
      "  [bt] (1) /home/lang_chain/.local/lib/python3.10/site-packages/xgboost/lib/libxgboost.so(+0x78cc34) [0x7f62eab8cc34]\n",
      "  [bt] (2) /home/lang_chain/.local/lib/python3.10/site-packages/xgboost/lib/libxgboost.so(+0x7869b5) [0x7f62eab869b5]\n",
      "  [bt] (3) /home/lang_chain/.local/lib/python3.10/site-packages/xgboost/lib/libxgboost.so(+0xaea3f7) [0x7f62eaeea3f7]\n",
      "  [bt] (4) /home/lang_chain/.local/lib/python3.10/site-packages/xgboost/lib/libxgboost.so(+0x63c86b) [0x7f62eaa3c86b]\n",
      "  [bt] (5) /home/lang_chain/.local/lib/python3.10/site-packages/xgboost/lib/libxgboost.so(+0x55f3bd) [0x7f62ea95f3bd]\n",
      "  [bt] (6) /home/lang_chain/.local/lib/python3.10/site-packages/xgboost/lib/libxgboost.so(+0x48fa61) [0x7f62ea88fa61]\n",
      "  [bt] (7) /home/lang_chain/.local/lib/python3.10/site-packages/xgboost/lib/libxgboost.so(+0x4c00a6) [0x7f62ea8c00a6]\n",
      "  [bt] (8) /home/lang_chain/.local/lib/python3.10/site-packages/xgboost/lib/libxgboost.so(+0x4c4c04) [0x7f62ea8c4c04]\n",
      "\n",
      "\n",
      "\n",
      "\tat org.apache.spark.api.python.BasePythonRunner$ReaderIterator.handlePythonException(PythonRunner.scala:517)\n",
      "\tat org.apache.spark.sql.execution.python.PythonArrowOutput$$anon$1.read(PythonArrowOutput.scala:99)\n",
      "\tat org.apache.spark.sql.execution.python.PythonArrowOutput$$anon$1.read(PythonArrowOutput.scala:49)\n",
      "\tat org.apache.spark.api.python.BasePythonRunner$ReaderIterator.hasNext(PythonRunner.scala:470)\n",
      "\tat org.apache.spark.InterruptibleIterator.hasNext(InterruptibleIterator.scala:37)\n",
      "\tat scala.collection.Iterator$$anon$11.hasNext(Iterator.scala:489)\n",
      "\tat scala.collection.Iterator$$anon$10.hasNext(Iterator.scala:458)\n",
      "\tat scala.collection.Iterator$$anon$10.hasNext(Iterator.scala:458)\n",
      "\tat org.apache.spark.api.python.SerDeUtil$AutoBatchedPickler.hasNext(SerDeUtil.scala:85)\n",
      "\tat scala.collection.Iterator.foreach(Iterator.scala:941)\n",
      "\tat scala.collection.Iterator.foreach$(Iterator.scala:941)\n",
      "\tat org.apache.spark.api.python.SerDeUtil$AutoBatchedPickler.foreach(SerDeUtil.scala:80)\n",
      "\tat org.apache.spark.api.python.PythonRDD$.writeIteratorToStream(PythonRDD.scala:307)\n",
      "\tat org.apache.spark.api.python.PythonRunner$$anon$2.writeIteratorToStream(PythonRunner.scala:621)\n",
      "\tat org.apache.spark.api.python.BasePythonRunner$WriterThread.$anonfun$run$1(PythonRunner.scala:397)\n",
      "\tat org.apache.spark.util.Utils$.logUncaughtExceptions(Utils.scala:1996)\n",
      "\tat org.apache.spark.api.python.BasePythonRunner$WriterThread.run(PythonRunner.scala:232)\n",
      "24/09/18 12:03:10 ERROR PythonRunner: This may have been caused by a prior exception:\n",
      "org.apache.spark.api.python.PythonException: Traceback (most recent call last):\n",
      "  File \"/media/lang_chain/Storage/Documents/credit-risk-prediction/.conda/lib/python3.10/site-packages/pyspark/python/lib/pyspark.zip/pyspark/worker.py\", line 604, in main\n",
      "    process()\n",
      "  File \"/media/lang_chain/Storage/Documents/credit-risk-prediction/.conda/lib/python3.10/site-packages/pyspark/python/lib/pyspark.zip/pyspark/worker.py\", line 596, in process\n",
      "    serializer.dump_stream(out_iter, outfile)\n",
      "  File \"/media/lang_chain/Storage/Documents/credit-risk-prediction/.conda/lib/python3.10/site-packages/pyspark/python/lib/pyspark.zip/pyspark/sql/pandas/serializers.py\", line 273, in dump_stream\n",
      "    return ArrowStreamSerializer.dump_stream(self, init_stream_yield_batches(), stream)\n",
      "  File \"/media/lang_chain/Storage/Documents/credit-risk-prediction/.conda/lib/python3.10/site-packages/pyspark/python/lib/pyspark.zip/pyspark/sql/pandas/serializers.py\", line 81, in dump_stream\n",
      "    for batch in iterator:\n",
      "  File \"/media/lang_chain/Storage/Documents/credit-risk-prediction/.conda/lib/python3.10/site-packages/pyspark/python/lib/pyspark.zip/pyspark/sql/pandas/serializers.py\", line 266, in init_stream_yield_batches\n",
      "    for series in iterator:\n",
      "  File \"/media/lang_chain/Storage/Documents/credit-risk-prediction/.conda/lib/python3.10/site-packages/pyspark/python/lib/pyspark.zip/pyspark/worker.py\", line 356, in func\n",
      "    for result_batch, result_type in result_iter:\n",
      "  File \"/home/lang_chain/.local/lib/python3.10/site-packages/xgboost/spark/core.py\", line 965, in _train_booster\n",
      "    with CommunicatorContext(context, **_rabit_args):\n",
      "  File \"/home/lang_chain/.local/lib/python3.10/site-packages/xgboost/core.py\", line 729, in inner_f\n",
      "    return func(**kwargs)\n",
      "  File \"/home/lang_chain/.local/lib/python3.10/site-packages/xgboost/training.py\", line 181, in train\n",
      "    bst.update(dtrain, i, obj)\n",
      "  File \"/home/lang_chain/.local/lib/python3.10/site-packages/xgboost/core.py\", line 2049, in update\n",
      "    _check_call(\n",
      "  File \"/home/lang_chain/.local/lib/python3.10/site-packages/xgboost/core.py\", line 281, in _check_call\n",
      "    raise XGBoostError(py_str(_LIB.XGBGetLastError()))\n",
      "xgboost.core.XGBoostError: [12:03:10] /workspace/src/collective/nccl_device_communicator.cu:40: Check failed: n_uniques == world_size_ (1 vs. 2) : Multiple processes within communication group running on same CUDA device is not supported. b96c1eb44939eb0b2cf09472af1b7aa8\n",
      "\n",
      "Stack trace:\n",
      "  [bt] (0) /home/lang_chain/.local/lib/python3.10/site-packages/xgboost/lib/libxgboost.so(+0x1ba0be) [0x7f62ea5ba0be]\n",
      "  [bt] (1) /home/lang_chain/.local/lib/python3.10/site-packages/xgboost/lib/libxgboost.so(+0x78cc34) [0x7f62eab8cc34]\n",
      "  [bt] (2) /home/lang_chain/.local/lib/python3.10/site-packages/xgboost/lib/libxgboost.so(+0x7869b5) [0x7f62eab869b5]\n",
      "  [bt] (3) /home/lang_chain/.local/lib/python3.10/site-packages/xgboost/lib/libxgboost.so(+0xaea3f7) [0x7f62eaeea3f7]\n",
      "  [bt] (4) /home/lang_chain/.local/lib/python3.10/site-packages/xgboost/lib/libxgboost.so(+0x63c86b) [0x7f62eaa3c86b]\n",
      "  [bt] (5) /home/lang_chain/.local/lib/python3.10/site-packages/xgboost/lib/libxgboost.so(+0x55f3bd) [0x7f62ea95f3bd]\n",
      "  [bt] (6) /home/lang_chain/.local/lib/python3.10/site-packages/xgboost/lib/libxgboost.so(+0x48fa61) [0x7f62ea88fa61]\n",
      "  [bt] (7) /home/lang_chain/.local/lib/python3.10/site-packages/xgboost/lib/libxgboost.so(+0x4c00a6) [0x7f62ea8c00a6]\n",
      "  [bt] (8) /home/lang_chain/.local/lib/python3.10/site-packages/xgboost/lib/libxgboost.so(+0x4c4c04) [0x7f62ea8c4c04]\n",
      "\n",
      "\n",
      "\n",
      "\tat org.apache.spark.api.python.BasePythonRunner$ReaderIterator.handlePythonException(PythonRunner.scala:517)\n",
      "\tat org.apache.spark.sql.execution.python.PythonArrowOutput$$anon$1.read(PythonArrowOutput.scala:99)\n",
      "\tat org.apache.spark.sql.execution.python.PythonArrowOutput$$anon$1.read(PythonArrowOutput.scala:49)\n",
      "\tat org.apache.spark.api.python.BasePythonRunner$ReaderIterator.hasNext(PythonRunner.scala:470)\n",
      "\tat org.apache.spark.InterruptibleIterator.hasNext(InterruptibleIterator.scala:37)\n",
      "\tat scala.collection.Iterator$$anon$11.hasNext(Iterator.scala:489)\n",
      "\tat scala.collection.Iterator$$anon$10.hasNext(Iterator.scala:458)\n",
      "\tat scala.collection.Iterator$$anon$10.hasNext(Iterator.scala:458)\n",
      "\tat org.apache.spark.api.python.SerDeUtil$AutoBatchedPickler.hasNext(SerDeUtil.scala:85)\n",
      "\tat scala.collection.Iterator.foreach(Iterator.scala:941)\n",
      "\tat scala.collection.Iterator.foreach$(Iterator.scala:941)\n",
      "\tat org.apache.spark.api.python.SerDeUtil$AutoBatchedPickler.foreach(SerDeUtil.scala:80)\n",
      "\tat org.apache.spark.api.python.PythonRDD$.writeIteratorToStream(PythonRDD.scala:307)\n",
      "\tat org.apache.spark.api.python.PythonRunner$$anon$2.writeIteratorToStream(PythonRunner.scala:621)\n",
      "\tat org.apache.spark.api.python.BasePythonRunner$WriterThread.$anonfun$run$1(PythonRunner.scala:397)\n",
      "\tat org.apache.spark.util.Utils$.logUncaughtExceptions(Utils.scala:1996)\n",
      "\tat org.apache.spark.api.python.BasePythonRunner$WriterThread.run(PythonRunner.scala:232)\n",
      "24/09/18 12:03:10 ERROR Executor: Exception in task 0.0 in stage 309.0 (TID 28498)\n",
      "org.apache.spark.api.python.PythonException: Traceback (most recent call last):\n",
      "  File \"/media/lang_chain/Storage/Documents/credit-risk-prediction/.conda/lib/python3.10/site-packages/pyspark/python/lib/pyspark.zip/pyspark/worker.py\", line 604, in main\n",
      "    process()\n",
      "  File \"/media/lang_chain/Storage/Documents/credit-risk-prediction/.conda/lib/python3.10/site-packages/pyspark/python/lib/pyspark.zip/pyspark/worker.py\", line 596, in process\n",
      "    serializer.dump_stream(out_iter, outfile)\n",
      "  File \"/media/lang_chain/Storage/Documents/credit-risk-prediction/.conda/lib/python3.10/site-packages/pyspark/python/lib/pyspark.zip/pyspark/sql/pandas/serializers.py\", line 273, in dump_stream\n",
      "    return ArrowStreamSerializer.dump_stream(self, init_stream_yield_batches(), stream)\n",
      "  File \"/media/lang_chain/Storage/Documents/credit-risk-prediction/.conda/lib/python3.10/site-packages/pyspark/python/lib/pyspark.zip/pyspark/sql/pandas/serializers.py\", line 81, in dump_stream\n",
      "    for batch in iterator:\n",
      "  File \"/media/lang_chain/Storage/Documents/credit-risk-prediction/.conda/lib/python3.10/site-packages/pyspark/python/lib/pyspark.zip/pyspark/sql/pandas/serializers.py\", line 266, in init_stream_yield_batches\n",
      "    for series in iterator:\n",
      "  File \"/media/lang_chain/Storage/Documents/credit-risk-prediction/.conda/lib/python3.10/site-packages/pyspark/python/lib/pyspark.zip/pyspark/worker.py\", line 356, in func\n",
      "    for result_batch, result_type in result_iter:\n",
      "  File \"/home/lang_chain/.local/lib/python3.10/site-packages/xgboost/spark/core.py\", line 965, in _train_booster\n",
      "    with CommunicatorContext(context, **_rabit_args):\n",
      "  File \"/home/lang_chain/.local/lib/python3.10/site-packages/xgboost/core.py\", line 729, in inner_f\n",
      "    return func(**kwargs)\n",
      "  File \"/home/lang_chain/.local/lib/python3.10/site-packages/xgboost/training.py\", line 181, in train\n",
      "    bst.update(dtrain, i, obj)\n",
      "  File \"/home/lang_chain/.local/lib/python3.10/site-packages/xgboost/core.py\", line 2049, in update\n",
      "    _check_call(\n",
      "  File \"/home/lang_chain/.local/lib/python3.10/site-packages/xgboost/core.py\", line 281, in _check_call\n",
      "    raise XGBoostError(py_str(_LIB.XGBGetLastError()))\n",
      "xgboost.core.XGBoostError: [12:03:10] /workspace/src/collective/nccl_device_communicator.cu:40: Check failed: n_uniques == world_size_ (1 vs. 2) : Multiple processes within communication group running on same CUDA device is not supported. b96c1eb44939eb0b2cf09472af1b7aa8\n",
      "\n",
      "Stack trace:\n",
      "  [bt] (0) /home/lang_chain/.local/lib/python3.10/site-packages/xgboost/lib/libxgboost.so(+0x1ba0be) [0x7f62ea5ba0be]\n",
      "  [bt] (1) /home/lang_chain/.local/lib/python3.10/site-packages/xgboost/lib/libxgboost.so(+0x78cc34) [0x7f62eab8cc34]\n",
      "  [bt] (2) /home/lang_chain/.local/lib/python3.10/site-packages/xgboost/lib/libxgboost.so(+0x7869b5) [0x7f62eab869b5]\n",
      "  [bt] (3) /home/lang_chain/.local/lib/python3.10/site-packages/xgboost/lib/libxgboost.so(+0xaea3f7) [0x7f62eaeea3f7]\n",
      "  [bt] (4) /home/lang_chain/.local/lib/python3.10/site-packages/xgboost/lib/libxgboost.so(+0x63c86b) [0x7f62eaa3c86b]\n",
      "  [bt] (5) /home/lang_chain/.local/lib/python3.10/site-packages/xgboost/lib/libxgboost.so(+0x55f3bd) [0x7f62ea95f3bd]\n",
      "  [bt] (6) /home/lang_chain/.local/lib/python3.10/site-packages/xgboost/lib/libxgboost.so(+0x48fa61) [0x7f62ea88fa61]\n",
      "  [bt] (7) /home/lang_chain/.local/lib/python3.10/site-packages/xgboost/lib/libxgboost.so(+0x4c00a6) [0x7f62ea8c00a6]\n",
      "  [bt] (8) /home/lang_chain/.local/lib/python3.10/site-packages/xgboost/lib/libxgboost.so(+0x4c4c04) [0x7f62ea8c4c04]\n",
      "\n",
      "\n",
      "\n",
      "\tat org.apache.spark.api.python.BasePythonRunner$ReaderIterator.handlePythonException(PythonRunner.scala:517)\n",
      "\tat org.apache.spark.sql.execution.python.PythonArrowOutput$$anon$1.read(PythonArrowOutput.scala:99)\n",
      "\tat org.apache.spark.sql.execution.python.PythonArrowOutput$$anon$1.read(PythonArrowOutput.scala:49)\n",
      "\tat org.apache.spark.api.python.BasePythonRunner$ReaderIterator.hasNext(PythonRunner.scala:470)\n",
      "\tat org.apache.spark.InterruptibleIterator.hasNext(InterruptibleIterator.scala:37)\n",
      "\tat scala.collection.Iterator$$anon$11.hasNext(Iterator.scala:489)\n",
      "\tat scala.collection.Iterator$$anon$10.hasNext(Iterator.scala:458)\n",
      "\tat scala.collection.Iterator$$anon$10.hasNext(Iterator.scala:458)\n",
      "\tat org.apache.spark.api.python.SerDeUtil$AutoBatchedPickler.hasNext(SerDeUtil.scala:85)\n",
      "\tat scala.collection.Iterator.foreach(Iterator.scala:941)\n",
      "\tat scala.collection.Iterator.foreach$(Iterator.scala:941)\n",
      "\tat org.apache.spark.api.python.SerDeUtil$AutoBatchedPickler.foreach(SerDeUtil.scala:80)\n",
      "\tat org.apache.spark.api.python.PythonRDD$.writeIteratorToStream(PythonRDD.scala:307)\n",
      "\tat org.apache.spark.api.python.PythonRunner$$anon$2.writeIteratorToStream(PythonRunner.scala:621)\n",
      "\tat org.apache.spark.api.python.BasePythonRunner$WriterThread.$anonfun$run$1(PythonRunner.scala:397)\n",
      "\tat org.apache.spark.util.Utils$.logUncaughtExceptions(Utils.scala:1996)\n",
      "\tat org.apache.spark.api.python.BasePythonRunner$WriterThread.run(PythonRunner.scala:232)\n",
      "24/09/18 12:03:10 ERROR Executor: Exception in task 1.0 in stage 309.0 (TID 28499)\n",
      "org.apache.spark.api.python.PythonException: Traceback (most recent call last):\n",
      "  File \"/media/lang_chain/Storage/Documents/credit-risk-prediction/.conda/lib/python3.10/site-packages/pyspark/python/lib/pyspark.zip/pyspark/worker.py\", line 604, in main\n",
      "    process()\n",
      "  File \"/media/lang_chain/Storage/Documents/credit-risk-prediction/.conda/lib/python3.10/site-packages/pyspark/python/lib/pyspark.zip/pyspark/worker.py\", line 596, in process\n",
      "    serializer.dump_stream(out_iter, outfile)\n",
      "  File \"/media/lang_chain/Storage/Documents/credit-risk-prediction/.conda/lib/python3.10/site-packages/pyspark/python/lib/pyspark.zip/pyspark/sql/pandas/serializers.py\", line 273, in dump_stream\n",
      "    return ArrowStreamSerializer.dump_stream(self, init_stream_yield_batches(), stream)\n",
      "  File \"/media/lang_chain/Storage/Documents/credit-risk-prediction/.conda/lib/python3.10/site-packages/pyspark/python/lib/pyspark.zip/pyspark/sql/pandas/serializers.py\", line 81, in dump_stream\n",
      "    for batch in iterator:\n",
      "  File \"/media/lang_chain/Storage/Documents/credit-risk-prediction/.conda/lib/python3.10/site-packages/pyspark/python/lib/pyspark.zip/pyspark/sql/pandas/serializers.py\", line 266, in init_stream_yield_batches\n",
      "    for series in iterator:\n",
      "  File \"/media/lang_chain/Storage/Documents/credit-risk-prediction/.conda/lib/python3.10/site-packages/pyspark/python/lib/pyspark.zip/pyspark/worker.py\", line 356, in func\n",
      "    for result_batch, result_type in result_iter:\n",
      "  File \"/home/lang_chain/.local/lib/python3.10/site-packages/xgboost/spark/core.py\", line 965, in _train_booster\n",
      "    with CommunicatorContext(context, **_rabit_args):\n",
      "  File \"/home/lang_chain/.local/lib/python3.10/site-packages/xgboost/core.py\", line 729, in inner_f\n",
      "    return func(**kwargs)\n",
      "  File \"/home/lang_chain/.local/lib/python3.10/site-packages/xgboost/training.py\", line 181, in train\n",
      "    bst.update(dtrain, i, obj)\n",
      "  File \"/home/lang_chain/.local/lib/python3.10/site-packages/xgboost/core.py\", line 2049, in update\n",
      "    _check_call(\n",
      "  File \"/home/lang_chain/.local/lib/python3.10/site-packages/xgboost/core.py\", line 281, in _check_call\n",
      "    raise XGBoostError(py_str(_LIB.XGBGetLastError()))\n",
      "xgboost.core.XGBoostError: [12:03:10] /workspace/src/collective/nccl_device_communicator.cu:40: Check failed: n_uniques == world_size_ (1 vs. 2) : Multiple processes within communication group running on same CUDA device is not supported. b96c1eb44939eb0b2cf09472af1b7aa8\n",
      "\n",
      "Stack trace:\n",
      "  [bt] (0) /home/lang_chain/.local/lib/python3.10/site-packages/xgboost/lib/libxgboost.so(+0x1ba0be) [0x7f62ea5ba0be]\n",
      "  [bt] (1) /home/lang_chain/.local/lib/python3.10/site-packages/xgboost/lib/libxgboost.so(+0x78cc34) [0x7f62eab8cc34]\n",
      "  [bt] (2) /home/lang_chain/.local/lib/python3.10/site-packages/xgboost/lib/libxgboost.so(+0x7869b5) [0x7f62eab869b5]\n",
      "  [bt] (3) /home/lang_chain/.local/lib/python3.10/site-packages/xgboost/lib/libxgboost.so(+0xaea3f7) [0x7f62eaeea3f7]\n",
      "  [bt] (4) /home/lang_chain/.local/lib/python3.10/site-packages/xgboost/lib/libxgboost.so(+0x63c86b) [0x7f62eaa3c86b]\n",
      "  [bt] (5) /home/lang_chain/.local/lib/python3.10/site-packages/xgboost/lib/libxgboost.so(+0x55f3bd) [0x7f62ea95f3bd]\n",
      "  [bt] (6) /home/lang_chain/.local/lib/python3.10/site-packages/xgboost/lib/libxgboost.so(+0x48fa61) [0x7f62ea88fa61]\n",
      "  [bt] (7) /home/lang_chain/.local/lib/python3.10/site-packages/xgboost/lib/libxgboost.so(+0x4c00a6) [0x7f62ea8c00a6]\n",
      "  [bt] (8) /home/lang_chain/.local/lib/python3.10/site-packages/xgboost/lib/libxgboost.so(+0x4c4c04) [0x7f62ea8c4c04]\n",
      "\n",
      "\n",
      "\n",
      "\tat org.apache.spark.api.python.BasePythonRunner$ReaderIterator.handlePythonException(PythonRunner.scala:517)\n",
      "\tat org.apache.spark.sql.execution.python.PythonArrowOutput$$anon$1.read(PythonArrowOutput.scala:99)\n",
      "\tat org.apache.spark.sql.execution.python.PythonArrowOutput$$anon$1.read(PythonArrowOutput.scala:49)\n",
      "\tat org.apache.spark.api.python.BasePythonRunner$ReaderIterator.hasNext(PythonRunner.scala:470)\n",
      "\tat org.apache.spark.InterruptibleIterator.hasNext(InterruptibleIterator.scala:37)\n",
      "\tat scala.collection.Iterator$$anon$11.hasNext(Iterator.scala:489)\n",
      "\tat scala.collection.Iterator$$anon$10.hasNext(Iterator.scala:458)\n",
      "\tat scala.collection.Iterator$$anon$10.hasNext(Iterator.scala:458)\n",
      "\tat org.apache.spark.api.python.SerDeUtil$AutoBatchedPickler.hasNext(SerDeUtil.scala:85)\n",
      "\tat scala.collection.Iterator.foreach(Iterator.scala:941)\n",
      "\tat scala.collection.Iterator.foreach$(Iterator.scala:941)\n",
      "\tat org.apache.spark.api.python.SerDeUtil$AutoBatchedPickler.foreach(SerDeUtil.scala:80)\n",
      "\tat org.apache.spark.api.python.PythonRDD$.writeIteratorToStream(PythonRDD.scala:307)\n",
      "\tat org.apache.spark.api.python.PythonRunner$$anon$2.writeIteratorToStream(PythonRunner.scala:621)\n",
      "\tat org.apache.spark.api.python.BasePythonRunner$WriterThread.$anonfun$run$1(PythonRunner.scala:397)\n",
      "\tat org.apache.spark.util.Utils$.logUncaughtExceptions(Utils.scala:1996)\n",
      "\tat org.apache.spark.api.python.BasePythonRunner$WriterThread.run(PythonRunner.scala:232)\n",
      "24/09/18 12:03:10 WARN TaskSetManager: Lost task 0.0 in stage 309.0 (TID 28498) (langchain.ht.home executor driver): org.apache.spark.api.python.PythonException: Traceback (most recent call last):\n",
      "  File \"/media/lang_chain/Storage/Documents/credit-risk-prediction/.conda/lib/python3.10/site-packages/pyspark/python/lib/pyspark.zip/pyspark/worker.py\", line 604, in main\n",
      "    process()\n",
      "  File \"/media/lang_chain/Storage/Documents/credit-risk-prediction/.conda/lib/python3.10/site-packages/pyspark/python/lib/pyspark.zip/pyspark/worker.py\", line 596, in process\n",
      "    serializer.dump_stream(out_iter, outfile)\n",
      "  File \"/media/lang_chain/Storage/Documents/credit-risk-prediction/.conda/lib/python3.10/site-packages/pyspark/python/lib/pyspark.zip/pyspark/sql/pandas/serializers.py\", line 273, in dump_stream\n",
      "    return ArrowStreamSerializer.dump_stream(self, init_stream_yield_batches(), stream)\n",
      "  File \"/media/lang_chain/Storage/Documents/credit-risk-prediction/.conda/lib/python3.10/site-packages/pyspark/python/lib/pyspark.zip/pyspark/sql/pandas/serializers.py\", line 81, in dump_stream\n",
      "    for batch in iterator:\n",
      "  File \"/media/lang_chain/Storage/Documents/credit-risk-prediction/.conda/lib/python3.10/site-packages/pyspark/python/lib/pyspark.zip/pyspark/sql/pandas/serializers.py\", line 266, in init_stream_yield_batches\n",
      "    for series in iterator:\n",
      "  File \"/media/lang_chain/Storage/Documents/credit-risk-prediction/.conda/lib/python3.10/site-packages/pyspark/python/lib/pyspark.zip/pyspark/worker.py\", line 356, in func\n",
      "    for result_batch, result_type in result_iter:\n",
      "  File \"/home/lang_chain/.local/lib/python3.10/site-packages/xgboost/spark/core.py\", line 965, in _train_booster\n",
      "    with CommunicatorContext(context, **_rabit_args):\n",
      "  File \"/home/lang_chain/.local/lib/python3.10/site-packages/xgboost/core.py\", line 729, in inner_f\n",
      "    return func(**kwargs)\n",
      "  File \"/home/lang_chain/.local/lib/python3.10/site-packages/xgboost/training.py\", line 181, in train\n",
      "    bst.update(dtrain, i, obj)\n",
      "  File \"/home/lang_chain/.local/lib/python3.10/site-packages/xgboost/core.py\", line 2049, in update\n",
      "    _check_call(\n",
      "  File \"/home/lang_chain/.local/lib/python3.10/site-packages/xgboost/core.py\", line 281, in _check_call\n",
      "    raise XGBoostError(py_str(_LIB.XGBGetLastError()))\n",
      "xgboost.core.XGBoostError: [12:03:10] /workspace/src/collective/nccl_device_communicator.cu:40: Check failed: n_uniques == world_size_ (1 vs. 2) : Multiple processes within communication group running on same CUDA device is not supported. b96c1eb44939eb0b2cf09472af1b7aa8\n",
      "\n",
      "Stack trace:\n",
      "  [bt] (0) /home/lang_chain/.local/lib/python3.10/site-packages/xgboost/lib/libxgboost.so(+0x1ba0be) [0x7f62ea5ba0be]\n",
      "  [bt] (1) /home/lang_chain/.local/lib/python3.10/site-packages/xgboost/lib/libxgboost.so(+0x78cc34) [0x7f62eab8cc34]\n",
      "  [bt] (2) /home/lang_chain/.local/lib/python3.10/site-packages/xgboost/lib/libxgboost.so(+0x7869b5) [0x7f62eab869b5]\n",
      "  [bt] (3) /home/lang_chain/.local/lib/python3.10/site-packages/xgboost/lib/libxgboost.so(+0xaea3f7) [0x7f62eaeea3f7]\n",
      "  [bt] (4) /home/lang_chain/.local/lib/python3.10/site-packages/xgboost/lib/libxgboost.so(+0x63c86b) [0x7f62eaa3c86b]\n",
      "  [bt] (5) /home/lang_chain/.local/lib/python3.10/site-packages/xgboost/lib/libxgboost.so(+0x55f3bd) [0x7f62ea95f3bd]\n",
      "  [bt] (6) /home/lang_chain/.local/lib/python3.10/site-packages/xgboost/lib/libxgboost.so(+0x48fa61) [0x7f62ea88fa61]\n",
      "  [bt] (7) /home/lang_chain/.local/lib/python3.10/site-packages/xgboost/lib/libxgboost.so(+0x4c00a6) [0x7f62ea8c00a6]\n",
      "  [bt] (8) /home/lang_chain/.local/lib/python3.10/site-packages/xgboost/lib/libxgboost.so(+0x4c4c04) [0x7f62ea8c4c04]\n",
      "\n",
      "\n",
      "\n",
      "\tat org.apache.spark.api.python.BasePythonRunner$ReaderIterator.handlePythonException(PythonRunner.scala:517)\n",
      "\tat org.apache.spark.sql.execution.python.PythonArrowOutput$$anon$1.read(PythonArrowOutput.scala:99)\n",
      "\tat org.apache.spark.sql.execution.python.PythonArrowOutput$$anon$1.read(PythonArrowOutput.scala:49)\n",
      "\tat org.apache.spark.api.python.BasePythonRunner$ReaderIterator.hasNext(PythonRunner.scala:470)\n",
      "\tat org.apache.spark.InterruptibleIterator.hasNext(InterruptibleIterator.scala:37)\n",
      "\tat scala.collection.Iterator$$anon$11.hasNext(Iterator.scala:489)\n",
      "\tat scala.collection.Iterator$$anon$10.hasNext(Iterator.scala:458)\n",
      "\tat scala.collection.Iterator$$anon$10.hasNext(Iterator.scala:458)\n",
      "\tat org.apache.spark.api.python.SerDeUtil$AutoBatchedPickler.hasNext(SerDeUtil.scala:85)\n",
      "\tat scala.collection.Iterator.foreach(Iterator.scala:941)\n",
      "\tat scala.collection.Iterator.foreach$(Iterator.scala:941)\n",
      "\tat org.apache.spark.api.python.SerDeUtil$AutoBatchedPickler.foreach(SerDeUtil.scala:80)\n",
      "\tat org.apache.spark.api.python.PythonRDD$.writeIteratorToStream(PythonRDD.scala:307)\n",
      "\tat org.apache.spark.api.python.PythonRunner$$anon$2.writeIteratorToStream(PythonRunner.scala:621)\n",
      "\tat org.apache.spark.api.python.BasePythonRunner$WriterThread.$anonfun$run$1(PythonRunner.scala:397)\n",
      "\tat org.apache.spark.util.Utils$.logUncaughtExceptions(Utils.scala:1996)\n",
      "\tat org.apache.spark.api.python.BasePythonRunner$WriterThread.run(PythonRunner.scala:232)\n",
      "\n"
     ]
    },
    {
     "ename": "Py4JJavaError",
     "evalue": "An error occurred while calling z:org.apache.spark.api.python.PythonRDD.collectAndServe.\n: org.apache.spark.SparkException: Job aborted due to stage failure: Could not recover from a failed barrier ResultStage. Most recent failure reason: Stage failed because barrier task ResultTask(309, 0) finished unsuccessfully.\norg.apache.spark.api.python.PythonException: Traceback (most recent call last):\n  File \"/media/lang_chain/Storage/Documents/credit-risk-prediction/.conda/lib/python3.10/site-packages/pyspark/python/lib/pyspark.zip/pyspark/worker.py\", line 604, in main\n    process()\n  File \"/media/lang_chain/Storage/Documents/credit-risk-prediction/.conda/lib/python3.10/site-packages/pyspark/python/lib/pyspark.zip/pyspark/worker.py\", line 596, in process\n    serializer.dump_stream(out_iter, outfile)\n  File \"/media/lang_chain/Storage/Documents/credit-risk-prediction/.conda/lib/python3.10/site-packages/pyspark/python/lib/pyspark.zip/pyspark/sql/pandas/serializers.py\", line 273, in dump_stream\n    return ArrowStreamSerializer.dump_stream(self, init_stream_yield_batches(), stream)\n  File \"/media/lang_chain/Storage/Documents/credit-risk-prediction/.conda/lib/python3.10/site-packages/pyspark/python/lib/pyspark.zip/pyspark/sql/pandas/serializers.py\", line 81, in dump_stream\n    for batch in iterator:\n  File \"/media/lang_chain/Storage/Documents/credit-risk-prediction/.conda/lib/python3.10/site-packages/pyspark/python/lib/pyspark.zip/pyspark/sql/pandas/serializers.py\", line 266, in init_stream_yield_batches\n    for series in iterator:\n  File \"/media/lang_chain/Storage/Documents/credit-risk-prediction/.conda/lib/python3.10/site-packages/pyspark/python/lib/pyspark.zip/pyspark/worker.py\", line 356, in func\n    for result_batch, result_type in result_iter:\n  File \"/home/lang_chain/.local/lib/python3.10/site-packages/xgboost/spark/core.py\", line 965, in _train_booster\n    with CommunicatorContext(context, **_rabit_args):\n  File \"/home/lang_chain/.local/lib/python3.10/site-packages/xgboost/core.py\", line 729, in inner_f\n    return func(**kwargs)\n  File \"/home/lang_chain/.local/lib/python3.10/site-packages/xgboost/training.py\", line 181, in train\n    bst.update(dtrain, i, obj)\n  File \"/home/lang_chain/.local/lib/python3.10/site-packages/xgboost/core.py\", line 2049, in update\n    _check_call(\n  File \"/home/lang_chain/.local/lib/python3.10/site-packages/xgboost/core.py\", line 281, in _check_call\n    raise XGBoostError(py_str(_LIB.XGBGetLastError()))\nxgboost.core.XGBoostError: [12:03:10] /workspace/src/collective/nccl_device_communicator.cu:40: Check failed: n_uniques == world_size_ (1 vs. 2) : Multiple processes within communication group running on same CUDA device is not supported. b96c1eb44939eb0b2cf09472af1b7aa8\n\nStack trace:\n  [bt] (0) /home/lang_chain/.local/lib/python3.10/site-packages/xgboost/lib/libxgboost.so(+0x1ba0be) [0x7f62ea5ba0be]\n  [bt] (1) /home/lang_chain/.local/lib/python3.10/site-packages/xgboost/lib/libxgboost.so(+0x78cc34) [0x7f62eab8cc34]\n  [bt] (2) /home/lang_chain/.local/lib/python3.10/site-packages/xgboost/lib/libxgboost.so(+0x7869b5) [0x7f62eab869b5]\n  [bt] (3) /home/lang_chain/.local/lib/python3.10/site-packages/xgboost/lib/libxgboost.so(+0xaea3f7) [0x7f62eaeea3f7]\n  [bt] (4) /home/lang_chain/.local/lib/python3.10/site-packages/xgboost/lib/libxgboost.so(+0x63c86b) [0x7f62eaa3c86b]\n  [bt] (5) /home/lang_chain/.local/lib/python3.10/site-packages/xgboost/lib/libxgboost.so(+0x55f3bd) [0x7f62ea95f3bd]\n  [bt] (6) /home/lang_chain/.local/lib/python3.10/site-packages/xgboost/lib/libxgboost.so(+0x48fa61) [0x7f62ea88fa61]\n  [bt] (7) /home/lang_chain/.local/lib/python3.10/site-packages/xgboost/lib/libxgboost.so(+0x4c00a6) [0x7f62ea8c00a6]\n  [bt] (8) /home/lang_chain/.local/lib/python3.10/site-packages/xgboost/lib/libxgboost.so(+0x4c4c04) [0x7f62ea8c4c04]\n\n\n\n\tat org.apache.spark.api.python.BasePythonRunner$ReaderIterator.handlePythonException(PythonRunner.scala:517)\n\tat org.apache.spark.sql.execution.python.PythonArrowOutput$$anon$1.read(PythonArrowOutput.scala:99)\n\tat org.apache.spark.sql.execution.python.PythonArrowOutput$$anon$1.read(PythonArrowOutput.scala:49)\n\tat org.apache.spark.api.python.BasePythonRunner$ReaderIterator.hasNext(PythonRunner.scala:470)\n\tat org.apache.spark.InterruptibleIterator.hasNext(InterruptibleIterator.scala:37)\n\tat scala.collection.Iterator$$anon$11.hasNext(Iterator.scala:489)\n\tat scala.collection.Iterator$$anon$10.hasNext(Iterator.scala:458)\n\tat scala.collection.Iterator$$anon$10.hasNext(Iterator.scala:458)\n\tat org.apache.spark.api.python.SerDeUtil$AutoBatchedPickler.hasNext(SerDeUtil.scala:85)\n\tat scala.collection.Iterator.foreach(Iterator.scala:941)\n\tat scala.collection.Iterator.foreach$(Iterator.scala:941)\n\tat org.apache.spark.api.python.SerDeUtil$AutoBatchedPickler.foreach(SerDeUtil.scala:80)\n\tat org.apache.spark.api.python.PythonRDD$.writeIteratorToStream(PythonRDD.scala:307)\n\tat org.apache.spark.api.python.PythonRunner$$anon$2.writeIteratorToStream(PythonRunner.scala:621)\n\tat org.apache.spark.api.python.BasePythonRunner$WriterThread.$anonfun$run$1(PythonRunner.scala:397)\n\tat org.apache.spark.util.Utils$.logUncaughtExceptions(Utils.scala:1996)\n\tat org.apache.spark.api.python.BasePythonRunner$WriterThread.run(PythonRunner.scala:232)\n\n\tat org.apache.spark.scheduler.DAGScheduler.failJobAndIndependentStages(DAGScheduler.scala:2253)\n\tat org.apache.spark.scheduler.DAGScheduler.$anonfun$abortStage$2(DAGScheduler.scala:2202)\n\tat org.apache.spark.scheduler.DAGScheduler.$anonfun$abortStage$2$adapted(DAGScheduler.scala:2201)\n\tat scala.collection.mutable.ResizableArray.foreach(ResizableArray.scala:62)\n\tat scala.collection.mutable.ResizableArray.foreach$(ResizableArray.scala:55)\n\tat scala.collection.mutable.ArrayBuffer.foreach(ArrayBuffer.scala:49)\n\tat org.apache.spark.scheduler.DAGScheduler.abortStage(DAGScheduler.scala:2201)\n\tat org.apache.spark.scheduler.DAGScheduler.handleTaskCompletion(DAGScheduler.scala:1963)\n\tat org.apache.spark.scheduler.DAGSchedulerEventProcessLoop.doOnReceive(DAGScheduler.scala:2437)\n\tat org.apache.spark.scheduler.DAGSchedulerEventProcessLoop.onReceive(DAGScheduler.scala:2382)\n\tat org.apache.spark.scheduler.DAGSchedulerEventProcessLoop.onReceive(DAGScheduler.scala:2371)\n\tat org.apache.spark.util.EventLoop$$anon$1.run(EventLoop.scala:49)\n\tat org.apache.spark.scheduler.DAGScheduler.runJob(DAGScheduler.scala:868)\n\tat org.apache.spark.SparkContext.runJob(SparkContext.scala:2202)\n\tat org.apache.spark.SparkContext.runJob(SparkContext.scala:2223)\n\tat org.apache.spark.SparkContext.runJob(SparkContext.scala:2242)\n\tat org.apache.spark.SparkContext.runJob(SparkContext.scala:2267)\n\tat org.apache.spark.rdd.RDD.$anonfun$collect$1(RDD.scala:1030)\n\tat org.apache.spark.rdd.RDDOperationScope$.withScope(RDDOperationScope.scala:151)\n\tat org.apache.spark.rdd.RDDOperationScope$.withScope(RDDOperationScope.scala:112)\n\tat org.apache.spark.rdd.RDD.withScope(RDD.scala:414)\n\tat org.apache.spark.rdd.RDD.collect(RDD.scala:1029)\n\tat org.apache.spark.api.python.PythonRDD$.collectAndServe(PythonRDD.scala:180)\n\tat org.apache.spark.api.python.PythonRDD.collectAndServe(PythonRDD.scala)\n\tat java.base/jdk.internal.reflect.NativeMethodAccessorImpl.invoke0(Native Method)\n\tat java.base/jdk.internal.reflect.NativeMethodAccessorImpl.invoke(NativeMethodAccessorImpl.java:62)\n\tat java.base/jdk.internal.reflect.DelegatingMethodAccessorImpl.invoke(DelegatingMethodAccessorImpl.java:43)\n\tat java.base/java.lang.reflect.Method.invoke(Method.java:566)\n\tat py4j.reflection.MethodInvoker.invoke(MethodInvoker.java:244)\n\tat py4j.reflection.ReflectionEngine.invoke(ReflectionEngine.java:357)\n\tat py4j.Gateway.invoke(Gateway.java:282)\n\tat py4j.commands.AbstractCommand.invokeMethod(AbstractCommand.java:132)\n\tat py4j.commands.CallCommand.execute(CallCommand.java:79)\n\tat py4j.GatewayConnection.run(GatewayConnection.java:238)\n\tat java.base/java.lang.Thread.run(Thread.java:829)\n",
     "output_type": "error",
     "traceback": [
      "\u001b[0;31m---------------------------------------------------------------------------\u001b[0m",
      "\u001b[0;31mPy4JJavaError\u001b[0m                             Traceback (most recent call last)",
      "Cell \u001b[0;32mIn[53], line 1\u001b[0m\n\u001b[0;32m----> 1\u001b[0m model \u001b[38;5;241m=\u001b[39m \u001b[43mclassifier_\u001b[49m\u001b[38;5;241;43m.\u001b[39;49m\u001b[43mfit\u001b[49m\u001b[43m(\u001b[49m\u001b[43mtrain_assembled\u001b[49m\u001b[43m)\u001b[49m\n",
      "File \u001b[0;32m/media/lang_chain/Storage/Documents/credit-risk-prediction/.conda/lib/python3.10/site-packages/pyspark/ml/base.py:161\u001b[0m, in \u001b[0;36mEstimator.fit\u001b[0;34m(self, dataset, params)\u001b[0m\n\u001b[1;32m    159\u001b[0m         \u001b[38;5;28;01mreturn\u001b[39;00m \u001b[38;5;28mself\u001b[39m\u001b[38;5;241m.\u001b[39mcopy(params)\u001b[38;5;241m.\u001b[39m_fit(dataset)\n\u001b[1;32m    160\u001b[0m     \u001b[38;5;28;01melse\u001b[39;00m:\n\u001b[0;32m--> 161\u001b[0m         \u001b[38;5;28;01mreturn\u001b[39;00m \u001b[38;5;28;43mself\u001b[39;49m\u001b[38;5;241;43m.\u001b[39;49m\u001b[43m_fit\u001b[49m\u001b[43m(\u001b[49m\u001b[43mdataset\u001b[49m\u001b[43m)\u001b[49m\n\u001b[1;32m    162\u001b[0m \u001b[38;5;28;01melse\u001b[39;00m:\n\u001b[1;32m    163\u001b[0m     \u001b[38;5;28;01mraise\u001b[39;00m \u001b[38;5;167;01mValueError\u001b[39;00m(\u001b[38;5;124m\"\u001b[39m\u001b[38;5;124mParams must be either a param map or a list/tuple of param maps, \u001b[39m\u001b[38;5;124m\"\u001b[39m\n\u001b[1;32m    164\u001b[0m                      \u001b[38;5;124m\"\u001b[39m\u001b[38;5;124mbut got \u001b[39m\u001b[38;5;132;01m%s\u001b[39;00m\u001b[38;5;124m.\u001b[39m\u001b[38;5;124m\"\u001b[39m \u001b[38;5;241m%\u001b[39m \u001b[38;5;28mtype\u001b[39m(params))\n",
      "File \u001b[0;32m~/.local/lib/python3.10/site-packages/xgboost/spark/core.py:1018\u001b[0m, in \u001b[0;36m_SparkXGBEstimator._fit\u001b[0;34m(self, dataset)\u001b[0m\n\u001b[1;32m   1005\u001b[0m     \u001b[38;5;28;01mreturn\u001b[39;00m ret[\u001b[38;5;241m0\u001b[39m], ret[\u001b[38;5;241m1\u001b[39m]\n\u001b[1;32m   1007\u001b[0m get_logger(\u001b[38;5;124m\"\u001b[39m\u001b[38;5;124mXGBoost-PySpark\u001b[39m\u001b[38;5;124m\"\u001b[39m)\u001b[38;5;241m.\u001b[39minfo(\n\u001b[1;32m   1008\u001b[0m     \u001b[38;5;124m\"\u001b[39m\u001b[38;5;124mRunning xgboost-\u001b[39m\u001b[38;5;132;01m%s\u001b[39;00m\u001b[38;5;124m on \u001b[39m\u001b[38;5;132;01m%s\u001b[39;00m\u001b[38;5;124m workers with\u001b[39m\u001b[38;5;124m\"\u001b[39m\n\u001b[1;32m   1009\u001b[0m     \u001b[38;5;124m\"\u001b[39m\u001b[38;5;130;01m\\n\u001b[39;00m\u001b[38;5;130;01m\\t\u001b[39;00m\u001b[38;5;124mbooster params: \u001b[39m\u001b[38;5;132;01m%s\u001b[39;00m\u001b[38;5;124m\"\u001b[39m\n\u001b[0;32m   (...)\u001b[0m\n\u001b[1;32m   1016\u001b[0m     dmatrix_kwargs,\n\u001b[1;32m   1017\u001b[0m )\n\u001b[0;32m-> 1018\u001b[0m (config, booster) \u001b[38;5;241m=\u001b[39m \u001b[43m_run_job\u001b[49m\u001b[43m(\u001b[49m\u001b[43m)\u001b[49m\n\u001b[1;32m   1019\u001b[0m get_logger(\u001b[38;5;124m\"\u001b[39m\u001b[38;5;124mXGBoost-PySpark\u001b[39m\u001b[38;5;124m\"\u001b[39m)\u001b[38;5;241m.\u001b[39minfo(\u001b[38;5;124m\"\u001b[39m\u001b[38;5;124mFinished xgboost training!\u001b[39m\u001b[38;5;124m\"\u001b[39m)\n\u001b[1;32m   1021\u001b[0m result_xgb_model \u001b[38;5;241m=\u001b[39m \u001b[38;5;28mself\u001b[39m\u001b[38;5;241m.\u001b[39m_convert_to_sklearn_model(\n\u001b[1;32m   1022\u001b[0m     \u001b[38;5;28mbytearray\u001b[39m(booster, \u001b[38;5;124m\"\u001b[39m\u001b[38;5;124mutf-8\u001b[39m\u001b[38;5;124m\"\u001b[39m), config\n\u001b[1;32m   1023\u001b[0m )\n",
      "File \u001b[0;32m~/.local/lib/python3.10/site-packages/xgboost/spark/core.py:1003\u001b[0m, in \u001b[0;36m_SparkXGBEstimator._fit.<locals>._run_job\u001b[0;34m()\u001b[0m\n\u001b[1;32m    996\u001b[0m \u001b[38;5;28;01mdef\u001b[39;00m \u001b[38;5;21m_run_job\u001b[39m() \u001b[38;5;241m-\u001b[39m\u001b[38;5;241m>\u001b[39m Tuple[\u001b[38;5;28mstr\u001b[39m, \u001b[38;5;28mstr\u001b[39m]:\n\u001b[1;32m    997\u001b[0m     ret \u001b[38;5;241m=\u001b[39m (\n\u001b[1;32m    998\u001b[0m         \u001b[43mdataset\u001b[49m\u001b[38;5;241;43m.\u001b[39;49m\u001b[43mmapInPandas\u001b[49m\u001b[43m(\u001b[49m\n\u001b[1;32m    999\u001b[0m \u001b[43m            \u001b[49m\u001b[43m_train_booster\u001b[49m\u001b[43m,\u001b[49m\u001b[43m \u001b[49m\u001b[43mschema\u001b[49m\u001b[38;5;241;43m=\u001b[39;49m\u001b[38;5;124;43m\"\u001b[39;49m\u001b[38;5;124;43mconfig string, booster string\u001b[39;49m\u001b[38;5;124;43m\"\u001b[39;49m\u001b[43m  \u001b[49m\u001b[38;5;66;43;03m# type: ignore\u001b[39;49;00m\n\u001b[1;32m   1000\u001b[0m \u001b[43m        \u001b[49m\u001b[43m)\u001b[49m\n\u001b[1;32m   1001\u001b[0m \u001b[43m        \u001b[49m\u001b[38;5;241;43m.\u001b[39;49m\u001b[43mrdd\u001b[49m\u001b[38;5;241;43m.\u001b[39;49m\u001b[43mbarrier\u001b[49m\u001b[43m(\u001b[49m\u001b[43m)\u001b[49m\n\u001b[1;32m   1002\u001b[0m \u001b[43m        \u001b[49m\u001b[38;5;241;43m.\u001b[39;49m\u001b[43mmapPartitions\u001b[49m\u001b[43m(\u001b[49m\u001b[38;5;28;43;01mlambda\u001b[39;49;00m\u001b[43m \u001b[49m\u001b[43mx\u001b[49m\u001b[43m:\u001b[49m\u001b[43m \u001b[49m\u001b[43mx\u001b[49m\u001b[43m)\u001b[49m\n\u001b[0;32m-> 1003\u001b[0m \u001b[43m        \u001b[49m\u001b[38;5;241;43m.\u001b[39;49m\u001b[43mcollect\u001b[49m\u001b[43m(\u001b[49m\u001b[43m)\u001b[49m[\u001b[38;5;241m0\u001b[39m]\n\u001b[1;32m   1004\u001b[0m     )\n\u001b[1;32m   1005\u001b[0m     \u001b[38;5;28;01mreturn\u001b[39;00m ret[\u001b[38;5;241m0\u001b[39m], ret[\u001b[38;5;241m1\u001b[39m]\n",
      "File \u001b[0;32m/media/lang_chain/Storage/Documents/credit-risk-prediction/.conda/lib/python3.10/site-packages/pyspark/rdd.py:949\u001b[0m, in \u001b[0;36mRDD.collect\u001b[0;34m(self)\u001b[0m\n\u001b[1;32m    940\u001b[0m \u001b[38;5;250m\u001b[39m\u001b[38;5;124;03m\"\"\"\u001b[39;00m\n\u001b[1;32m    941\u001b[0m \u001b[38;5;124;03mReturn a list that contains all of the elements in this RDD.\u001b[39;00m\n\u001b[1;32m    942\u001b[0m \n\u001b[0;32m   (...)\u001b[0m\n\u001b[1;32m    946\u001b[0m \u001b[38;5;124;03mto be small, as all the data is loaded into the driver's memory.\u001b[39;00m\n\u001b[1;32m    947\u001b[0m \u001b[38;5;124;03m\"\"\"\u001b[39;00m\n\u001b[1;32m    948\u001b[0m \u001b[38;5;28;01mwith\u001b[39;00m SCCallSiteSync(\u001b[38;5;28mself\u001b[39m\u001b[38;5;241m.\u001b[39mcontext) \u001b[38;5;28;01mas\u001b[39;00m css:\n\u001b[0;32m--> 949\u001b[0m     sock_info \u001b[38;5;241m=\u001b[39m \u001b[38;5;28;43mself\u001b[39;49m\u001b[38;5;241;43m.\u001b[39;49m\u001b[43mctx\u001b[49m\u001b[38;5;241;43m.\u001b[39;49m\u001b[43m_jvm\u001b[49m\u001b[38;5;241;43m.\u001b[39;49m\u001b[43mPythonRDD\u001b[49m\u001b[38;5;241;43m.\u001b[39;49m\u001b[43mcollectAndServe\u001b[49m\u001b[43m(\u001b[49m\u001b[38;5;28;43mself\u001b[39;49m\u001b[38;5;241;43m.\u001b[39;49m\u001b[43m_jrdd\u001b[49m\u001b[38;5;241;43m.\u001b[39;49m\u001b[43mrdd\u001b[49m\u001b[43m(\u001b[49m\u001b[43m)\u001b[49m\u001b[43m)\u001b[49m\n\u001b[1;32m    950\u001b[0m \u001b[38;5;28;01mreturn\u001b[39;00m \u001b[38;5;28mlist\u001b[39m(_load_from_socket(sock_info, \u001b[38;5;28mself\u001b[39m\u001b[38;5;241m.\u001b[39m_jrdd_deserializer))\n",
      "File \u001b[0;32m/media/lang_chain/Storage/Documents/credit-risk-prediction/.conda/lib/python3.10/site-packages/py4j/java_gateway.py:1304\u001b[0m, in \u001b[0;36mJavaMember.__call__\u001b[0;34m(self, *args)\u001b[0m\n\u001b[1;32m   1298\u001b[0m command \u001b[38;5;241m=\u001b[39m proto\u001b[38;5;241m.\u001b[39mCALL_COMMAND_NAME \u001b[38;5;241m+\u001b[39m\\\n\u001b[1;32m   1299\u001b[0m     \u001b[38;5;28mself\u001b[39m\u001b[38;5;241m.\u001b[39mcommand_header \u001b[38;5;241m+\u001b[39m\\\n\u001b[1;32m   1300\u001b[0m     args_command \u001b[38;5;241m+\u001b[39m\\\n\u001b[1;32m   1301\u001b[0m     proto\u001b[38;5;241m.\u001b[39mEND_COMMAND_PART\n\u001b[1;32m   1303\u001b[0m answer \u001b[38;5;241m=\u001b[39m \u001b[38;5;28mself\u001b[39m\u001b[38;5;241m.\u001b[39mgateway_client\u001b[38;5;241m.\u001b[39msend_command(command)\n\u001b[0;32m-> 1304\u001b[0m return_value \u001b[38;5;241m=\u001b[39m \u001b[43mget_return_value\u001b[49m\u001b[43m(\u001b[49m\n\u001b[1;32m   1305\u001b[0m \u001b[43m    \u001b[49m\u001b[43manswer\u001b[49m\u001b[43m,\u001b[49m\u001b[43m \u001b[49m\u001b[38;5;28;43mself\u001b[39;49m\u001b[38;5;241;43m.\u001b[39;49m\u001b[43mgateway_client\u001b[49m\u001b[43m,\u001b[49m\u001b[43m \u001b[49m\u001b[38;5;28;43mself\u001b[39;49m\u001b[38;5;241;43m.\u001b[39;49m\u001b[43mtarget_id\u001b[49m\u001b[43m,\u001b[49m\u001b[43m \u001b[49m\u001b[38;5;28;43mself\u001b[39;49m\u001b[38;5;241;43m.\u001b[39;49m\u001b[43mname\u001b[49m\u001b[43m)\u001b[49m\n\u001b[1;32m   1307\u001b[0m \u001b[38;5;28;01mfor\u001b[39;00m temp_arg \u001b[38;5;129;01min\u001b[39;00m temp_args:\n\u001b[1;32m   1308\u001b[0m     temp_arg\u001b[38;5;241m.\u001b[39m_detach()\n",
      "File \u001b[0;32m/media/lang_chain/Storage/Documents/credit-risk-prediction/.conda/lib/python3.10/site-packages/pyspark/sql/utils.py:111\u001b[0m, in \u001b[0;36mcapture_sql_exception.<locals>.deco\u001b[0;34m(*a, **kw)\u001b[0m\n\u001b[1;32m    109\u001b[0m \u001b[38;5;28;01mdef\u001b[39;00m \u001b[38;5;21mdeco\u001b[39m(\u001b[38;5;241m*\u001b[39ma, \u001b[38;5;241m*\u001b[39m\u001b[38;5;241m*\u001b[39mkw):\n\u001b[1;32m    110\u001b[0m     \u001b[38;5;28;01mtry\u001b[39;00m:\n\u001b[0;32m--> 111\u001b[0m         \u001b[38;5;28;01mreturn\u001b[39;00m \u001b[43mf\u001b[49m\u001b[43m(\u001b[49m\u001b[38;5;241;43m*\u001b[39;49m\u001b[43ma\u001b[49m\u001b[43m,\u001b[49m\u001b[43m \u001b[49m\u001b[38;5;241;43m*\u001b[39;49m\u001b[38;5;241;43m*\u001b[39;49m\u001b[43mkw\u001b[49m\u001b[43m)\u001b[49m\n\u001b[1;32m    112\u001b[0m     \u001b[38;5;28;01mexcept\u001b[39;00m py4j\u001b[38;5;241m.\u001b[39mprotocol\u001b[38;5;241m.\u001b[39mPy4JJavaError \u001b[38;5;28;01mas\u001b[39;00m e:\n\u001b[1;32m    113\u001b[0m         converted \u001b[38;5;241m=\u001b[39m convert_exception(e\u001b[38;5;241m.\u001b[39mjava_exception)\n",
      "File \u001b[0;32m/media/lang_chain/Storage/Documents/credit-risk-prediction/.conda/lib/python3.10/site-packages/py4j/protocol.py:326\u001b[0m, in \u001b[0;36mget_return_value\u001b[0;34m(answer, gateway_client, target_id, name)\u001b[0m\n\u001b[1;32m    324\u001b[0m value \u001b[38;5;241m=\u001b[39m OUTPUT_CONVERTER[\u001b[38;5;28mtype\u001b[39m](answer[\u001b[38;5;241m2\u001b[39m:], gateway_client)\n\u001b[1;32m    325\u001b[0m \u001b[38;5;28;01mif\u001b[39;00m answer[\u001b[38;5;241m1\u001b[39m] \u001b[38;5;241m==\u001b[39m REFERENCE_TYPE:\n\u001b[0;32m--> 326\u001b[0m     \u001b[38;5;28;01mraise\u001b[39;00m Py4JJavaError(\n\u001b[1;32m    327\u001b[0m         \u001b[38;5;124m\"\u001b[39m\u001b[38;5;124mAn error occurred while calling \u001b[39m\u001b[38;5;132;01m{0}\u001b[39;00m\u001b[38;5;132;01m{1}\u001b[39;00m\u001b[38;5;132;01m{2}\u001b[39;00m\u001b[38;5;124m.\u001b[39m\u001b[38;5;130;01m\\n\u001b[39;00m\u001b[38;5;124m\"\u001b[39m\u001b[38;5;241m.\u001b[39m\n\u001b[1;32m    328\u001b[0m         \u001b[38;5;28mformat\u001b[39m(target_id, \u001b[38;5;124m\"\u001b[39m\u001b[38;5;124m.\u001b[39m\u001b[38;5;124m\"\u001b[39m, name), value)\n\u001b[1;32m    329\u001b[0m \u001b[38;5;28;01melse\u001b[39;00m:\n\u001b[1;32m    330\u001b[0m     \u001b[38;5;28;01mraise\u001b[39;00m Py4JError(\n\u001b[1;32m    331\u001b[0m         \u001b[38;5;124m\"\u001b[39m\u001b[38;5;124mAn error occurred while calling \u001b[39m\u001b[38;5;132;01m{0}\u001b[39;00m\u001b[38;5;132;01m{1}\u001b[39;00m\u001b[38;5;132;01m{2}\u001b[39;00m\u001b[38;5;124m. Trace:\u001b[39m\u001b[38;5;130;01m\\n\u001b[39;00m\u001b[38;5;132;01m{3}\u001b[39;00m\u001b[38;5;130;01m\\n\u001b[39;00m\u001b[38;5;124m\"\u001b[39m\u001b[38;5;241m.\u001b[39m\n\u001b[1;32m    332\u001b[0m         \u001b[38;5;28mformat\u001b[39m(target_id, \u001b[38;5;124m\"\u001b[39m\u001b[38;5;124m.\u001b[39m\u001b[38;5;124m\"\u001b[39m, name, value))\n",
      "\u001b[0;31mPy4JJavaError\u001b[0m: An error occurred while calling z:org.apache.spark.api.python.PythonRDD.collectAndServe.\n: org.apache.spark.SparkException: Job aborted due to stage failure: Could not recover from a failed barrier ResultStage. Most recent failure reason: Stage failed because barrier task ResultTask(309, 0) finished unsuccessfully.\norg.apache.spark.api.python.PythonException: Traceback (most recent call last):\n  File \"/media/lang_chain/Storage/Documents/credit-risk-prediction/.conda/lib/python3.10/site-packages/pyspark/python/lib/pyspark.zip/pyspark/worker.py\", line 604, in main\n    process()\n  File \"/media/lang_chain/Storage/Documents/credit-risk-prediction/.conda/lib/python3.10/site-packages/pyspark/python/lib/pyspark.zip/pyspark/worker.py\", line 596, in process\n    serializer.dump_stream(out_iter, outfile)\n  File \"/media/lang_chain/Storage/Documents/credit-risk-prediction/.conda/lib/python3.10/site-packages/pyspark/python/lib/pyspark.zip/pyspark/sql/pandas/serializers.py\", line 273, in dump_stream\n    return ArrowStreamSerializer.dump_stream(self, init_stream_yield_batches(), stream)\n  File \"/media/lang_chain/Storage/Documents/credit-risk-prediction/.conda/lib/python3.10/site-packages/pyspark/python/lib/pyspark.zip/pyspark/sql/pandas/serializers.py\", line 81, in dump_stream\n    for batch in iterator:\n  File \"/media/lang_chain/Storage/Documents/credit-risk-prediction/.conda/lib/python3.10/site-packages/pyspark/python/lib/pyspark.zip/pyspark/sql/pandas/serializers.py\", line 266, in init_stream_yield_batches\n    for series in iterator:\n  File \"/media/lang_chain/Storage/Documents/credit-risk-prediction/.conda/lib/python3.10/site-packages/pyspark/python/lib/pyspark.zip/pyspark/worker.py\", line 356, in func\n    for result_batch, result_type in result_iter:\n  File \"/home/lang_chain/.local/lib/python3.10/site-packages/xgboost/spark/core.py\", line 965, in _train_booster\n    with CommunicatorContext(context, **_rabit_args):\n  File \"/home/lang_chain/.local/lib/python3.10/site-packages/xgboost/core.py\", line 729, in inner_f\n    return func(**kwargs)\n  File \"/home/lang_chain/.local/lib/python3.10/site-packages/xgboost/training.py\", line 181, in train\n    bst.update(dtrain, i, obj)\n  File \"/home/lang_chain/.local/lib/python3.10/site-packages/xgboost/core.py\", line 2049, in update\n    _check_call(\n  File \"/home/lang_chain/.local/lib/python3.10/site-packages/xgboost/core.py\", line 281, in _check_call\n    raise XGBoostError(py_str(_LIB.XGBGetLastError()))\nxgboost.core.XGBoostError: [12:03:10] /workspace/src/collective/nccl_device_communicator.cu:40: Check failed: n_uniques == world_size_ (1 vs. 2) : Multiple processes within communication group running on same CUDA device is not supported. b96c1eb44939eb0b2cf09472af1b7aa8\n\nStack trace:\n  [bt] (0) /home/lang_chain/.local/lib/python3.10/site-packages/xgboost/lib/libxgboost.so(+0x1ba0be) [0x7f62ea5ba0be]\n  [bt] (1) /home/lang_chain/.local/lib/python3.10/site-packages/xgboost/lib/libxgboost.so(+0x78cc34) [0x7f62eab8cc34]\n  [bt] (2) /home/lang_chain/.local/lib/python3.10/site-packages/xgboost/lib/libxgboost.so(+0x7869b5) [0x7f62eab869b5]\n  [bt] (3) /home/lang_chain/.local/lib/python3.10/site-packages/xgboost/lib/libxgboost.so(+0xaea3f7) [0x7f62eaeea3f7]\n  [bt] (4) /home/lang_chain/.local/lib/python3.10/site-packages/xgboost/lib/libxgboost.so(+0x63c86b) [0x7f62eaa3c86b]\n  [bt] (5) /home/lang_chain/.local/lib/python3.10/site-packages/xgboost/lib/libxgboost.so(+0x55f3bd) [0x7f62ea95f3bd]\n  [bt] (6) /home/lang_chain/.local/lib/python3.10/site-packages/xgboost/lib/libxgboost.so(+0x48fa61) [0x7f62ea88fa61]\n  [bt] (7) /home/lang_chain/.local/lib/python3.10/site-packages/xgboost/lib/libxgboost.so(+0x4c00a6) [0x7f62ea8c00a6]\n  [bt] (8) /home/lang_chain/.local/lib/python3.10/site-packages/xgboost/lib/libxgboost.so(+0x4c4c04) [0x7f62ea8c4c04]\n\n\n\n\tat org.apache.spark.api.python.BasePythonRunner$ReaderIterator.handlePythonException(PythonRunner.scala:517)\n\tat org.apache.spark.sql.execution.python.PythonArrowOutput$$anon$1.read(PythonArrowOutput.scala:99)\n\tat org.apache.spark.sql.execution.python.PythonArrowOutput$$anon$1.read(PythonArrowOutput.scala:49)\n\tat org.apache.spark.api.python.BasePythonRunner$ReaderIterator.hasNext(PythonRunner.scala:470)\n\tat org.apache.spark.InterruptibleIterator.hasNext(InterruptibleIterator.scala:37)\n\tat scala.collection.Iterator$$anon$11.hasNext(Iterator.scala:489)\n\tat scala.collection.Iterator$$anon$10.hasNext(Iterator.scala:458)\n\tat scala.collection.Iterator$$anon$10.hasNext(Iterator.scala:458)\n\tat org.apache.spark.api.python.SerDeUtil$AutoBatchedPickler.hasNext(SerDeUtil.scala:85)\n\tat scala.collection.Iterator.foreach(Iterator.scala:941)\n\tat scala.collection.Iterator.foreach$(Iterator.scala:941)\n\tat org.apache.spark.api.python.SerDeUtil$AutoBatchedPickler.foreach(SerDeUtil.scala:80)\n\tat org.apache.spark.api.python.PythonRDD$.writeIteratorToStream(PythonRDD.scala:307)\n\tat org.apache.spark.api.python.PythonRunner$$anon$2.writeIteratorToStream(PythonRunner.scala:621)\n\tat org.apache.spark.api.python.BasePythonRunner$WriterThread.$anonfun$run$1(PythonRunner.scala:397)\n\tat org.apache.spark.util.Utils$.logUncaughtExceptions(Utils.scala:1996)\n\tat org.apache.spark.api.python.BasePythonRunner$WriterThread.run(PythonRunner.scala:232)\n\n\tat org.apache.spark.scheduler.DAGScheduler.failJobAndIndependentStages(DAGScheduler.scala:2253)\n\tat org.apache.spark.scheduler.DAGScheduler.$anonfun$abortStage$2(DAGScheduler.scala:2202)\n\tat org.apache.spark.scheduler.DAGScheduler.$anonfun$abortStage$2$adapted(DAGScheduler.scala:2201)\n\tat scala.collection.mutable.ResizableArray.foreach(ResizableArray.scala:62)\n\tat scala.collection.mutable.ResizableArray.foreach$(ResizableArray.scala:55)\n\tat scala.collection.mutable.ArrayBuffer.foreach(ArrayBuffer.scala:49)\n\tat org.apache.spark.scheduler.DAGScheduler.abortStage(DAGScheduler.scala:2201)\n\tat org.apache.spark.scheduler.DAGScheduler.handleTaskCompletion(DAGScheduler.scala:1963)\n\tat org.apache.spark.scheduler.DAGSchedulerEventProcessLoop.doOnReceive(DAGScheduler.scala:2437)\n\tat org.apache.spark.scheduler.DAGSchedulerEventProcessLoop.onReceive(DAGScheduler.scala:2382)\n\tat org.apache.spark.scheduler.DAGSchedulerEventProcessLoop.onReceive(DAGScheduler.scala:2371)\n\tat org.apache.spark.util.EventLoop$$anon$1.run(EventLoop.scala:49)\n\tat org.apache.spark.scheduler.DAGScheduler.runJob(DAGScheduler.scala:868)\n\tat org.apache.spark.SparkContext.runJob(SparkContext.scala:2202)\n\tat org.apache.spark.SparkContext.runJob(SparkContext.scala:2223)\n\tat org.apache.spark.SparkContext.runJob(SparkContext.scala:2242)\n\tat org.apache.spark.SparkContext.runJob(SparkContext.scala:2267)\n\tat org.apache.spark.rdd.RDD.$anonfun$collect$1(RDD.scala:1030)\n\tat org.apache.spark.rdd.RDDOperationScope$.withScope(RDDOperationScope.scala:151)\n\tat org.apache.spark.rdd.RDDOperationScope$.withScope(RDDOperationScope.scala:112)\n\tat org.apache.spark.rdd.RDD.withScope(RDD.scala:414)\n\tat org.apache.spark.rdd.RDD.collect(RDD.scala:1029)\n\tat org.apache.spark.api.python.PythonRDD$.collectAndServe(PythonRDD.scala:180)\n\tat org.apache.spark.api.python.PythonRDD.collectAndServe(PythonRDD.scala)\n\tat java.base/jdk.internal.reflect.NativeMethodAccessorImpl.invoke0(Native Method)\n\tat java.base/jdk.internal.reflect.NativeMethodAccessorImpl.invoke(NativeMethodAccessorImpl.java:62)\n\tat java.base/jdk.internal.reflect.DelegatingMethodAccessorImpl.invoke(DelegatingMethodAccessorImpl.java:43)\n\tat java.base/java.lang.reflect.Method.invoke(Method.java:566)\n\tat py4j.reflection.MethodInvoker.invoke(MethodInvoker.java:244)\n\tat py4j.reflection.ReflectionEngine.invoke(ReflectionEngine.java:357)\n\tat py4j.Gateway.invoke(Gateway.java:282)\n\tat py4j.commands.AbstractCommand.invokeMethod(AbstractCommand.java:132)\n\tat py4j.commands.CallCommand.execute(CallCommand.java:79)\n\tat py4j.GatewayConnection.run(GatewayConnection.java:238)\n\tat java.base/java.lang.Thread.run(Thread.java:829)\n"
     ]
    }
   ],
   "source": [
    "model = classifier_.fit(train_assembled)\n"
   ]
  },
  {
   "cell_type": "code",
   "execution_count": 46,
   "metadata": {},
   "outputs": [],
   "source": [
    "from pyspark.ml import Transformer\n",
    "from pyspark.ml.util import DefaultParamsReadable, DefaultParamsWritable\n",
    "from pyspark.ml.param.shared import Param\n",
    "from pyspark.sql import DataFrame\n",
    "import pyspark.sql.functions as F"
   ]
  },
  {
   "cell_type": "code",
   "execution_count": 78,
   "metadata": {},
   "outputs": [],
   "source": [
    "class OneHotEncoderCustom(Transformer, DefaultParamsWritable, DefaultParamsReadable):\n",
    "    def __init__(self, encoding_columns=None, predefined_columns=None):\n",
    "        super(OneHotEncoderCustom, self).__init__()\n",
    "        self.encoding_columns = Param(self, \"encoding_columns\", \"column to be one-hot encoded\")\n",
    "        self.predefined_columns = predefined_columns\n",
    "\n",
    "        if encoding_columns is not None:\n",
    "            self._set(encoding_columns=encoding_columns)\n",
    "\n",
    "    def _transform(self, df: DataFrame) -> DataFrame:\n",
    "        # Get the column name to encode\n",
    "        encoding_columns = self.getOrDefault(self.encoding_columns)\n",
    "\n",
    "        # Check if the encoding column exists in the DataFrame\n",
    "        if encoding_columns not in df.columns:\n",
    "            raise ValueError(f\"Column {encoding_columns} does not exist in DataFrame. Available columns: {df.columns}\")\n",
    "\n",
    "        # Get distinct values from the specified column (these are the categories for one-hot encoding)\n",
    "        distinct_values = df.select(encoding_columns).distinct().rdd.map(lambda x: x[0]).collect()\n",
    "\n",
    "        # Create one-hot encoded columns based on distinct values\n",
    "        for value in distinct_values:\n",
    "            if value is not None:\n",
    "                # Create new columns like encoding_column_value with 1 if matches, else 0\n",
    "                df = df.withColumn(f\"{encoding_columns}_{value}\", F.when(F.col(encoding_columns) == value, 1).otherwise(0))\n",
    "\n",
    "        # Ensure all predefined columns are present, even if they were not in the test data\n",
    "        if self.predefined_columns:\n",
    "            for predefined_column in self.predefined_columns:\n",
    "                if predefined_column not in df.columns:\n",
    "                    # Add the missing predefined column with a default value of 0\n",
    "                    df = df.withColumn(predefined_column, F.lit(0))\n",
    "\n",
    "        # Optionally drop the original column after one-hot encoding\n",
    "        df = df.drop(encoding_columns)\n",
    "\n",
    "        return df"
   ]
  },
  {
   "cell_type": "code",
   "execution_count": 79,
   "metadata": {},
   "outputs": [
    {
     "name": "stderr",
     "output_type": "stream",
     "text": [
      "                                                                                \r"
     ]
    }
   ],
   "source": [
    "from pyspark.ml import Pipeline\n",
    "\n",
    "# Create your OneHotEncoderCustom instance\n",
    "person_home_ownership_default = [\n",
    "    'person_home_ownership_MORTGAGE',\n",
    "    'person_home_ownership_RENT',\n",
    "    'person_home_ownership_OTHER',\n",
    "    'person_home_ownership_OWN'\n",
    "]\n",
    "\n",
    "# Initialize the custom OneHotEncoder\n",
    "person_home_ownership_encoder = OneHotEncoderCustom(\n",
    "    encoding_columns='person_home_ownership',\n",
    "    predefined_columns=person_home_ownership_default\n",
    ")\n",
    "\n",
    "pipeline = Pipeline(stages=[person_home_ownership_encoder])\n",
    "\n",
    "# Fit the pipeline to training data\n",
    "transformed_pipeline = pipeline.fit(training_data)\n",
    "\n",
    "# Transform the training data\n",
    "transformed_trained_dataframe = transformed_pipeline.transform(training_data)\n",
    "\n",
    "# Save the pipeline\n",
    "transformed_pipeline.save('./encoder_pipeline')"
   ]
  },
  {
   "cell_type": "code",
   "execution_count": 80,
   "metadata": {},
   "outputs": [
    {
     "name": "stdout",
     "output_type": "stream",
     "text": [
      "+----------+-------------+---------------------+-----------------+-----------------+----------+---------+-------------+-------------------+-------------------------+--------------------------+\n",
      "|person_age|person_income|person_home_ownership|person_emp_length|      loan_intent|loan_grade|loan_amnt|loan_int_rate|loan_percent_income|cb_person_default_on_file|cb_person_cred_hist_length|\n",
      "+----------+-------------+---------------------+-----------------+-----------------+----------+---------+-------------+-------------------+-------------------------+--------------------------+\n",
      "|        22|        59000|                 RENT|              123|         PERSONAL|         D|    35000|        16.02|               0.59|                        Y|                         3|\n",
      "|        21|         9600|                  OWN|                5|        EDUCATION|         B|     1000|        11.14|                0.1|                        N|                         2|\n",
      "|        25|         9600|             MORTGAGE|                1|          MEDICAL|         G|     5500|        12.87|               0.57|                        N|                         3|\n",
      "|        23|        65500|                 RENT|                4|          MEDICAL|         C|    35000|        15.23|               0.53|                        N|                         2|\n",
      "|        24|        54400|                 RENT|                8|          MEDICAL|         C|    35000|        14.27|               0.55|                        Y|                         4|\n",
      "|        21|         9900|                  OWN|                2|          VENTURE|         A|     2500|         7.14|               0.25|                        N|                         2|\n",
      "|        25|       306000|                 RENT|                2|DEBTCONSOLIDATION|         F|    24250|        13.85|               0.08|                        N|                         3|\n",
      "+----------+-------------+---------------------+-----------------+-----------------+----------+---------+-------------+-------------------+-------------------------+--------------------------+\n",
      "\n"
     ]
    }
   ],
   "source": [
    "data_ = spark.read.csv(\"./test_data.csv\",header=True, inferSchema=True)\n",
    "data_.show()"
   ]
  },
  {
   "cell_type": "code",
   "execution_count": 81,
   "metadata": {},
   "outputs": [
    {
     "name": "stderr",
     "output_type": "stream",
     "text": [
      "                                                                                \r"
     ]
    },
    {
     "name": "stdout",
     "output_type": "stream",
     "text": [
      "+----------+-------------+-----------------+-----------------+----------+---------+-------------+-----------+-------------------+-------------------------+--------------------------+---------+------------+-----------------+--------------------+------------------------+--------------------------+-------------------------+--------------------------+------------------------------+---------------------------+\n",
      "|person_age|person_income|person_emp_length|      loan_intent|loan_grade|loan_amnt|loan_int_rate|loan_status|loan_percent_income|cb_person_default_on_file|cb_person_cred_hist_length|age_group|income_group|loan_amount_group|loan_to_income_ratio|loan_to_emp_length_ratio|int_rate_to_loan_amt_ratio|person_home_ownership_OWN|person_home_ownership_RENT|person_home_ownership_MORTGAGE|person_home_ownership_OTHER|\n",
      "+----------+-------------+-----------------+-----------------+----------+---------+-------------+-----------+-------------------+-------------------------+--------------------------+---------+------------+-----------------+--------------------+------------------------+--------------------------+-------------------------+--------------------------+------------------------------+---------------------------+\n",
      "|        28|        44500|              2.0|         PERSONAL|         A|    10000|         8.59|          0|               0.22|                        N|                         6|    26-35|  low-middle|           medium|  0.2247191011235955|                  2.0E-4|                   8.59E-4|                        0|                         0|                             1|                          0|\n",
      "|        34|        58000|              8.0|          MEDICAL|         A|     3000|         6.76|          0|               0.05|                        N|                        10|    26-35|      middle|            small| 0.05172413793103448|    0.002666666666666...|      0.002253333333333...|                        1|                         0|                             0|                          0|\n",
      "|        29|       105000|             13.0|DEBTCONSOLIDATION|         B|    17000|        10.25|          0|               0.16|                        N|                        10|    26-35|        high|        very high|  0.1619047619047619|    7.647058823529412E-4|      6.029411764705882E-4|                        0|                         0|                             1|                          0|\n",
      "|        25|        47000|              9.0|         PERSONAL|         A|     7000|         7.51|          0|               0.15|                        N|                         4|    20-25|  low-middle|           medium| 0.14893617021276595|    0.001285714285714...|      0.001072857142857...|                        1|                         0|                             0|                          0|\n",
      "|        25|        34000|              4.0|          VENTURE|         B|     8200|        12.21|          0|               0.24|                        N|                         4|    20-25|  low-middle|           medium|  0.2411764705882353|    4.878048780487805E-4|      0.001489024390243...|                        0|                         1|                             0|                          0|\n",
      "|        26|       220836|             10.0|          VENTURE|         B|     9000|        11.26|          0|               0.04|                        N|                         3|    20-25|        high|           medium|0.040754224854643264|    0.001111111111111...|      0.001251111111111111|                        0|                         0|                             1|                          0|\n",
      "|        25|        30000|              9.0|          MEDICAL|         A|    10000|         7.51|          1|               0.33|                        N|                         2|    20-25|  low-middle|           medium|  0.3333333333333333|                  9.0E-4|      7.509999999999999E-4|                        0|                         1|                             0|                          0|\n",
      "|        23|        30000|              7.0|         PERSONAL|         C|     6000|        14.72|          0|                0.2|                        Y|                         4|    20-25|  low-middle|           medium|                 0.2|    0.001166666666666...|      0.002453333333333...|                        0|                         1|                             0|                          0|\n",
      "|        22|        60000|              6.0|DEBTCONSOLIDATION|         A|     5000|         5.99|          0|               0.08|                        N|                         4|    20-25|      middle|            small| 0.08333333333333333|                  0.0012|                  0.001198|                        0|                         0|                             1|                          0|\n",
      "|        23|        55000|              0.0|        EDUCATION|         C|    11075|        13.49|          0|                0.2|                        N|                         3|    20-25|      middle|             high| 0.20136363636363636|                     0.0|      0.001218058690744921|                        0|                         0|                             1|                          0|\n",
      "|        27|       117000|              7.0|         PERSONAL|         B|     1800|        12.42|          0|               0.02|                        N|                        10|    26-35|        high|            small|0.015384615384615385|    0.003888888888888...|                    0.0069|                        0|                         1|                             0|                          0|\n",
      "|        37|        71000|             11.0|DEBTCONSOLIDATION|         B|    11200|        12.42|          0|               0.16|                        N|                        11|    36-45|      middle|             high| 0.15774647887323945|    9.821428571428572E-4|      0.001108928571428...|                        0|                         0|                             1|                          0|\n",
      "|        22|        90000|              3.0|DEBTCONSOLIDATION|         A|    12000|         8.94|          0|               0.13|                        N|                         3|    20-25| high-middle|             high| 0.13333333333333333|                  2.5E-4|                   7.45E-4|                        0|                         1|                             0|                          0|\n",
      "|        25|        59160|              0.0|  HOMEIMPROVEMENT|         E|    16600|        14.18|          1|               0.28|                        N|                         4|    20-25|      middle|        very high|  0.2805949966193374|                     0.0|      8.542168674698795E-4|                        0|                         1|                             0|                          0|\n",
      "|        25|        32640|              4.0|DEBTCONSOLIDATION|         C|     4000|        12.73|          0|               0.12|                        Y|                         4|    20-25|  low-middle|            small| 0.12254901960784313|                   0.001|                 0.0031825|                        0|                         1|                             0|                          0|\n",
      "|        23|        65000|              7.0|          VENTURE|         B|    20000|        11.49|          1|               0.31|                        N|                         3|    20-25|      middle|        very high|  0.3076923076923077|                  3.5E-4|                  5.745E-4|                        0|                         1|                             0|                          0|\n",
      "|        25|        27600|              1.0|  HOMEIMPROVEMENT|         A|    11500|         6.03|          1|               0.42|                        N|                         4|    20-25|  low-middle|             high|  0.4166666666666667|    8.695652173913044E-5|      5.243478260869565E-4|                        0|                         0|                             1|                          0|\n",
      "|        22|        42900|              7.0|        EDUCATION|         B|     2000|        10.74|          0|               0.05|                        N|                         4|    20-25|  low-middle|            small|0.046620046620046623|                  0.0035|                   0.00537|                        1|                         0|                             0|                          0|\n",
      "|        25|       130000|              5.0|          VENTURE|         C|    20000|        13.48|          0|               0.15|                        N|                         2|    20-25|        high|        very high| 0.15384615384615385|                  2.5E-4|                   6.74E-4|                        0|                         0|                             1|                          0|\n",
      "|        29|        32000|             10.0|  HOMEIMPROVEMENT|         D|     9250|        15.65|          1|               0.29|                        N|                         7|    26-35|  low-middle|           medium|           0.2890625|    0.001081081081081081|      0.001691891891891892|                        0|                         1|                             0|                          0|\n",
      "+----------+-------------+-----------------+-----------------+----------+---------+-------------+-----------+-------------------+-------------------------+--------------------------+---------+------------+-----------------+--------------------+------------------------+--------------------------+-------------------------+--------------------------+------------------------------+---------------------------+\n",
      "only showing top 20 rows\n",
      "\n"
     ]
    }
   ],
   "source": [
    "loaded_pipeline = PipelineModel.load('./encoder_pipeline')\n",
    "\n",
    "transformed_train_dataframe = loaded_pipeline.transform(training_data)\n",
    "transformed_train_dataframe.show()"
   ]
  },
  {
   "cell_type": "code",
   "execution_count": 82,
   "metadata": {},
   "outputs": [
    {
     "name": "stderr",
     "output_type": "stream",
     "text": [
      "[Stage 213:=================================================>  (189 + 11) / 200]\r"
     ]
    },
    {
     "name": "stdout",
     "output_type": "stream",
     "text": [
      "+----------+-------------+-----------------+-----------------+----------+---------+-------------+-------------------+-------------------------+--------------------------+-------------------------+--------------------------+------------------------------+\n",
      "|person_age|person_income|person_emp_length|      loan_intent|loan_grade|loan_amnt|loan_int_rate|loan_percent_income|cb_person_default_on_file|cb_person_cred_hist_length|person_home_ownership_OWN|person_home_ownership_RENT|person_home_ownership_MORTGAGE|\n",
      "+----------+-------------+-----------------+-----------------+----------+---------+-------------+-------------------+-------------------------+--------------------------+-------------------------+--------------------------+------------------------------+\n",
      "|        22|        59000|              123|         PERSONAL|         D|    35000|        16.02|               0.59|                        Y|                         3|                        0|                         1|                             0|\n",
      "|        21|         9600|                5|        EDUCATION|         B|     1000|        11.14|                0.1|                        N|                         2|                        1|                         0|                             0|\n",
      "|        25|         9600|                1|          MEDICAL|         G|     5500|        12.87|               0.57|                        N|                         3|                        0|                         0|                             1|\n",
      "|        23|        65500|                4|          MEDICAL|         C|    35000|        15.23|               0.53|                        N|                         2|                        0|                         1|                             0|\n",
      "|        24|        54400|                8|          MEDICAL|         C|    35000|        14.27|               0.55|                        Y|                         4|                        0|                         1|                             0|\n",
      "|        21|         9900|                2|          VENTURE|         A|     2500|         7.14|               0.25|                        N|                         2|                        1|                         0|                             0|\n",
      "|        25|       306000|                2|DEBTCONSOLIDATION|         F|    24250|        13.85|               0.08|                        N|                         3|                        0|                         1|                             0|\n",
      "+----------+-------------+-----------------+-----------------+----------+---------+-------------+-------------------+-------------------------+--------------------------+-------------------------+--------------------------+------------------------------+\n",
      "\n"
     ]
    },
    {
     "name": "stderr",
     "output_type": "stream",
     "text": [
      "                                                                                \r"
     ]
    }
   ],
   "source": [
    "loaded_pipeline = PipelineModel.load('./encoder_pipeline')\n",
    "\n",
    "transformed_test_dataframe = loaded_pipeline.transform(data_)\n",
    "\n",
    "transformed_test_dataframe.show()"
   ]
  },
  {
   "cell_type": "code",
   "execution_count": 83,
   "metadata": {},
   "outputs": [
    {
     "data": {
      "text/plain": [
       "['person_age',\n",
       " 'person_income',\n",
       " 'person_emp_length',\n",
       " 'loan_intent',\n",
       " 'loan_grade',\n",
       " 'loan_amnt',\n",
       " 'loan_int_rate',\n",
       " 'loan_percent_income',\n",
       " 'cb_person_default_on_file',\n",
       " 'cb_person_cred_hist_length',\n",
       " 'person_home_ownership_OWN',\n",
       " 'person_home_ownership_RENT',\n",
       " 'person_home_ownership_MORTGAGE']"
      ]
     },
     "execution_count": 83,
     "metadata": {},
     "output_type": "execute_result"
    }
   ],
   "source": [
    "transformed_test_dataframe.columns"
   ]
  },
  {
   "cell_type": "code",
   "execution_count": 84,
   "metadata": {},
   "outputs": [],
   "source": [
    "from pyspark.ml import Pipeline, PipelineModel\n",
    "from pyspark.ml.feature import StringIndexer, OneHotEncoder\n",
    "from pyspark.sql import DataFrame\n",
    "\n",
    "class OneHotEncoderPipeline:\n",
    "    def __init__(self, input_col: str, output_col: str):\n",
    "        self.input_col = input_col\n",
    "        self.output_col = output_col\n",
    "        self.pipeline = None\n",
    "        self.pipeline_model = None\n",
    "\n",
    "    def fit(self, df: DataFrame) -> None:\n",
    "        \"\"\"Fit the pipeline on the provided DataFrame.\"\"\"\n",
    "        indexer = StringIndexer(inputCol=self.input_col, outputCol=f\"{self.input_col}_index\")\n",
    "        encoder = OneHotEncoder(inputCols=[f\"{self.input_col}_index\"], outputCols=[self.output_col])\n",
    "        \n",
    "        self.pipeline = Pipeline(stages=[indexer, encoder])\n",
    "        self.pipeline_model = self.pipeline.fit(df)\n",
    "\n",
    "    def save(self, path: str) -> None:\n",
    "        \"\"\"Save the fitted pipeline model to the specified path.\"\"\"\n",
    "        if self.pipeline_model is not None:\n",
    "            self.pipeline_model.save(path)\n",
    "\n",
    "    @classmethod\n",
    "    def load(cls, path: str) -> 'OneHotEncoderPipeline':\n",
    "        \"\"\"Load a pipeline model from the specified path.\"\"\"\n",
    "        instance = cls(input_col=\"\", output_col=\"\")\n",
    "        instance.pipeline_model = PipelineModel.load(path)\n",
    "        return instance\n",
    "\n",
    "    def transform(self, df: DataFrame) -> DataFrame:\n",
    "        \"\"\"Transform the DataFrame using the fitted pipeline model.\"\"\"\n",
    "        if self.pipeline_model is None:\n",
    "            raise Exception(\"Model must be fitted before calling transform.\")\n",
    "        return self.pipeline_model.transform(df)\n"
   ]
  },
  {
   "cell_type": "code",
   "execution_count": null,
   "metadata": {},
   "outputs": [],
   "source": []
  }
 ],
 "metadata": {
  "kernelspec": {
   "display_name": "Python 3",
   "language": "python",
   "name": "python3"
  },
  "language_info": {
   "codemirror_mode": {
    "name": "ipython",
    "version": 3
   },
   "file_extension": ".py",
   "mimetype": "text/x-python",
   "name": "python",
   "nbconvert_exporter": "python",
   "pygments_lexer": "ipython3",
   "version": "3.10.14"
  }
 },
 "nbformat": 4,
 "nbformat_minor": 2
}
