{
 "cells": [
  {
   "cell_type": "code",
   "execution_count": 1,
   "metadata": {},
   "outputs": [],
   "source": [
    "import dotenv\n",
    "import os\n",
    "\n",
    "resource_name = os.getenv('RESOURCE_NAME')\n",
    "workspace_name = os.getenv(\"WORKSPACE_NAME\")\n",
    "subscriptionID = os.getenv(\"SUBSCRIPTIONID\")\n",
    "aml_compute_target = os.getenv('AMLTARGET')\n",
    "experiment_name = os.getenv('EXPERIMENT_NAME')"
   ]
  },
  {
   "cell_type": "code",
   "execution_count": 2,
   "metadata": {},
   "outputs": [],
   "source": [
    "import azure.core\n",
    "from azureml.core import Workspace,Environment,Experiment,ScriptRunConfig\n",
    "from azureml.core.compute import AmlCompute, ComputeTarget\n",
    "from azureml.core.compute_target import ComputeTargetException"
   ]
  },
  {
   "cell_type": "code",
   "execution_count": 3,
   "metadata": {},
   "outputs": [
    {
     "name": "stdout",
     "output_type": "stream",
     "text": [
      "workspace is created\n"
     ]
    }
   ],
   "source": [
    "#create workspace\n",
    "\n",
    "try:\n",
    "    ws = Workspace.from_config()\n",
    "    print(\"workspace is created\")\n",
    "except:\n",
    "    ws = Workspace.create(workspace_name,\n",
    "                          resource_group=resource_name,\n",
    "                          create_resource_group=True,\n",
    "                          subscription_id=subscriptionID,\n",
    "                          location='East US')\n",
    "    ws.write_config('.azureml')"
   ]
  },
  {
   "cell_type": "code",
   "execution_count": 4,
   "metadata": {},
   "outputs": [],
   "source": [
    "#create experiement\n",
    "exp = Experiment(ws,\"credit-risk-estimator\")"
   ]
  },
  {
   "cell_type": "code",
   "execution_count": 5,
   "metadata": {},
   "outputs": [
    {
     "name": "stdout",
     "output_type": "stream",
     "text": [
      "Environment registered\n"
     ]
    }
   ],
   "source": [
    "# Create an environment from the environment.yml file\n",
    "env = Environment.from_conda_specification(name=\"my_environment\", file_path=\"../envfile.yml\")\n",
    "\n",
    "# Register the environment in the workspace\n",
    "env.register(workspace=ws)\n",
    "print(\"Environment registered\")\n"
   ]
  },
  {
   "cell_type": "code",
   "execution_count": 6,
   "metadata": {},
   "outputs": [
    {
     "name": "stdout",
     "output_type": "stream",
     "text": [
      "This compute target exist.\n",
      "Azure machine learning compute attached now\n"
     ]
    }
   ],
   "source": [
    "#create compute target\n",
    "try:\n",
    "    aml_compute = AmlCompute(ws,aml_compute_target)\n",
    "    print(\"This compute target exist.\")\n",
    "except ComputeTargetException:\n",
    "    print(\"creating new compute target:\",aml_compute_target)\n",
    "\n",
    "    provisioning_config = AmlCompute.provisioning_configuration(vm_size=\"Standard_E4ds_v4\",\n",
    "                                                                min_nodes=1,\n",
    "                                                                max_nodes=4,\n",
    "                                                                idle_seconds_before_scaledown=3000)\n",
    "    aml_compute = ComputeTarget.create(ws,aml_compute_target,provisioning_config)\n",
    "    aml_compute.wait_for_completion(show_output = True,min_node_count = None,timeout_in_minutes = 2)\n",
    "print(\"Azure machine learning compute attached now\")\n",
    "    "
   ]
  },
  {
   "cell_type": "code",
   "execution_count": null,
   "metadata": {},
   "outputs": [],
   "source": []
  }
 ],
 "metadata": {
  "kernelspec": {
   "display_name": "Python 3",
   "language": "python",
   "name": "python3"
  },
  "language_info": {
   "codemirror_mode": {
    "name": "ipython",
    "version": 3
   },
   "file_extension": ".py",
   "mimetype": "text/x-python",
   "name": "python",
   "nbconvert_exporter": "python",
   "pygments_lexer": "ipython3",
   "version": "3.10.14"
  }
 },
 "nbformat": 4,
 "nbformat_minor": 2
}
