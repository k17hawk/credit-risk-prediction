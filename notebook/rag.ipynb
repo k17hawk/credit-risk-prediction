{
 "cells": [
  {
   "cell_type": "code",
   "execution_count": 5,
   "metadata": {},
   "outputs": [],
   "source": [
    "from langchain.utilities import SQLDatabase"
   ]
  },
  {
   "cell_type": "code",
   "execution_count": 6,
   "metadata": {},
   "outputs": [],
   "source": [
    "import pandas as pd\n",
    "df = pd.read_csv('../Data/credit_risk_dataset.csv')"
   ]
  },
  {
   "cell_type": "code",
   "execution_count": null,
   "metadata": {},
   "outputs": [],
   "source": []
  },
  {
   "cell_type": "code",
   "execution_count": 16,
   "metadata": {},
   "outputs": [
    {
     "name": "stdout",
     "output_type": "stream",
     "text": [
      "Database 'credit_risk' created successfully.\n"
     ]
    }
   ],
   "source": [
    "from sqlalchemy import create_engine, text\n",
    "\n",
    "# Define your MySQL connection details\n",
    "username = \"kumar\"\n",
    "password = \"kumar\"\n",
    "host = \"localhost\"\n",
    "\n",
    "# Connect to the MySQL server without specifying a database\n",
    "engine = create_engine(f'mysql+pymysql://{username}:{password}@{host}/')\n",
    "\n",
    "# Create a connection\n",
    "with engine.connect() as connection:\n",
    "    # Create the 'credit_risk' database\n",
    "    connection.execute(text(\"CREATE DATABASE IF NOT EXISTS credit_risk\"))\n",
    "\n",
    "print(\"Database 'credit_risk' created successfully.\")\n"
   ]
  },
  {
   "cell_type": "code",
   "execution_count": 17,
   "metadata": {},
   "outputs": [
    {
     "data": {
      "text/plain": [
       "32581"
      ]
     },
     "execution_count": 17,
     "metadata": {},
     "output_type": "execute_result"
    }
   ],
   "source": [
    "import pandas as pd\n",
    "from sqlalchemy import create_engine\n",
    "\n",
    "username = \"kumar\"\n",
    "password = \"kumar\"\n",
    "host = 'localhost'\n",
    "database = 'credit_risk'\n",
    "\n",
    "engine = create_engine(f'mysql+pymysql://{username}:{password}@{host}/{database}')\n",
    "\n",
    "# Insert data into MySQL table\n",
    "table_name = 'credit_risk'\n",
    "df.to_sql(table_name, con=engine, if_exists='replace', index=False)\n"
   ]
  },
  {
   "cell_type": "code",
   "execution_count": 19,
   "metadata": {},
   "outputs": [],
   "source": [
    "from langchain.utilities import SQLDatabase\n",
    "import pymysql\n",
    "import sqlite3\n",
    "\n",
    "db_file = \"credit_risk_data.db\"  # Name of your .db SQLite file\n",
    "conn = sqlite3.connect(db_file)\n",
    "\n",
    "# Insert the data from the DataFrame into the SQLite database\n",
    "table_name = \"credit_risk\"  \n",
    "df.to_sql(table_name, conn, if_exists='replace', index=False)\n",
    "\n",
    "# Close the connection\n",
    "conn.close()"
   ]
  },
  {
   "cell_type": "code",
   "execution_count": 21,
   "metadata": {},
   "outputs": [
    {
     "name": "stdout",
     "output_type": "stream",
     "text": [
      "   person_age  person_income person_home_ownership  person_emp_length  \\\n",
      "0          22          59000                  RENT              123.0   \n",
      "1          21           9600                   OWN                5.0   \n",
      "2          25           9600              MORTGAGE                1.0   \n",
      "3          23          65500                  RENT                4.0   \n",
      "4          24          54400                  RENT                8.0   \n",
      "\n",
      "  loan_intent loan_grade  loan_amnt  loan_int_rate  loan_status  \\\n",
      "0    PERSONAL          D      35000          16.02            1   \n",
      "1   EDUCATION          B       1000          11.14            0   \n",
      "2     MEDICAL          C       5500          12.87            1   \n",
      "3     MEDICAL          C      35000          15.23            1   \n",
      "4     MEDICAL          C      35000          14.27            1   \n",
      "\n",
      "   loan_percent_income cb_person_default_on_file  cb_person_cred_hist_length  \n",
      "0                 0.59                         Y                           3  \n",
      "1                 0.10                         N                           2  \n",
      "2                 0.57                         N                           3  \n",
      "3                 0.53                         N                           2  \n",
      "4                 0.55                         Y                           4  \n"
     ]
    }
   ],
   "source": [
    "# Re-open the connection to the SQLite database\n",
    "conn = sqlite3.connect(db_file)\n",
    "\n",
    "# Query the data\n",
    "query = \"SELECT * FROM credit_risk\"\n",
    "result_df = pd.read_sql(query, conn)\n",
    "\n",
    "# Display the data\n",
    "print(result_df.head())\n",
    "\n",
    "# Close the connection\n",
    "conn.close()\n"
   ]
  },
  {
   "cell_type": "code",
   "execution_count": null,
   "metadata": {},
   "outputs": [],
   "source": []
  }
 ],
 "metadata": {
  "kernelspec": {
   "display_name": "Python 3",
   "language": "python",
   "name": "python3"
  },
  "language_info": {
   "codemirror_mode": {
    "name": "ipython",
    "version": 3
   },
   "file_extension": ".py",
   "mimetype": "text/x-python",
   "name": "python",
   "nbconvert_exporter": "python",
   "pygments_lexer": "ipython3",
   "version": "3.10.14"
  }
 },
 "nbformat": 4,
 "nbformat_minor": 2
}
