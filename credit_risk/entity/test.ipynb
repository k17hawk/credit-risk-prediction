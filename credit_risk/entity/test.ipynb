{
 "cells": [
  {
   "cell_type": "code",
   "execution_count": 1,
   "metadata": {},
   "outputs": [
    {
     "name": "stdout",
     "output_type": "stream",
     "text": [
      "['cb_person_default_on_file', 'person_home_ownership', 'loan_intent', 'loan_grade', 'income_group', 'age_group', 'loan_amount_group']\n"
     ]
    }
   ],
   "source": [
    "from schema import CreditRiskDataSchema\n",
    "\n",
    "schema = CreditRiskDataSchema()\n",
    "one_hot_features = schema.required_oneHot_features()\n",
    "print(one_hot_features)\n"
   ]
  },
  {
   "cell_type": "code",
   "execution_count": 2,
   "metadata": {},
   "outputs": [
    {
     "name": "stdout",
     "output_type": "stream",
     "text": [
      "['scaled_person_age', 'scaled_person_income', 'scaled_person_emp_length', 'scaled_loan_amnt', 'scaled_loan_int_rate', 'scaled_cb_person_cred_hist_length', 'scaled_loan_to_emp_length_ratio', 'scaled_int_rate_to_loan_amt_ratio']\n"
     ]
    }
   ],
   "source": [
    "from schema import CreditRiskDataSchema\n",
    "\n",
    "schema = CreditRiskDataSchema()\n",
    "one_hot_features = schema.output_scaling_columns\n",
    "print(one_hot_features)\n"
   ]
  },
  {
   "cell_type": "code",
   "execution_count": null,
   "metadata": {},
   "outputs": [],
   "source": [
    "[person_age does not exist. Available: loan_status, loan_percent_income, loan_to_income_ratio, encoded_cb_person_default_on_file, encoded_person_home_ownership, encoded_loan_intent, encodeed_loan_grade, encoded_income_group, encoded_age_group, encoded_loan_amount_group, scaled_person_age, scaled_person_income, scaled_person_emp_length, scaled_loan_amnt, scaled_loan_int_rate, scaled_cb_person_cred_hist_length, scaled_loan_to_emp_length_ratio, scaled_int_rate_to_loan_amt_ratio] ] "
   ]
  },
  {
   "cell_type": "code",
   "execution_count": 15,
   "metadata": {},
   "outputs": [
    {
     "data": {
      "text/plain": [
       "'cb_person_default_on_file'"
      ]
     },
     "execution_count": 15,
     "metadata": {},
     "output_type": "execute_result"
    }
   ],
   "source": [
    "encoding_columns=schema.col_cb_person_default_on_file\n",
    "\n",
    "encoding_columns"
   ]
  },
  {
   "cell_type": "code",
   "execution_count": 16,
   "metadata": {},
   "outputs": [
    {
     "name": "stdout",
     "output_type": "stream",
     "text": [
      "found\n"
     ]
    }
   ],
   "source": [
    "if encoding_columns not in one_hot_features:\n",
    "    print(\"not found\")\n",
    "else:\n",
    "    print('found')"
   ]
  },
  {
   "cell_type": "code",
   "execution_count": null,
   "metadata": {},
   "outputs": [],
   "source": []
  },
  {
   "cell_type": "code",
   "execution_count": 2,
   "metadata": {},
   "outputs": [
    {
     "data": {
      "text/plain": [
       "('cb_person_default_on_file_N', 'cb_person_default_on_file_Y')"
      ]
     },
     "execution_count": 2,
     "metadata": {},
     "output_type": "execute_result"
    }
   ],
   "source": [
    "schema.col_cb_person_default_on_file_N,schema.col_cb_person_default_on_file_Y"
   ]
  },
  {
   "cell_type": "code",
   "execution_count": 3,
   "metadata": {},
   "outputs": [
    {
     "data": {
      "text/plain": [
       "'cb_person_default_on_file'"
      ]
     },
     "execution_count": 3,
     "metadata": {},
     "output_type": "execute_result"
    }
   ],
   "source": [
    "schema.col_cb_person_default_on_file"
   ]
  },
  {
   "cell_type": "code",
   "execution_count": 5,
   "metadata": {},
   "outputs": [
    {
     "data": {
      "text/plain": [
       "('person_home_ownership_MORTGAGE',\n",
       " 'person_home_ownership_RENT',\n",
       " 'person_home_ownership_OTHER',\n",
       " 'person_home_ownership_OWN')"
      ]
     },
     "execution_count": 5,
     "metadata": {},
     "output_type": "execute_result"
    }
   ],
   "source": [
    "schema.col_person_home_ownership_MORTGAGE,schema.col_person_home_ownership_RENT,schema.col_person_home_ownership_OTHER,schema.col_person_home_ownership_OWN"
   ]
  },
  {
   "cell_type": "code",
   "execution_count": 6,
   "metadata": {},
   "outputs": [
    {
     "data": {
      "text/plain": [
       "'person_home_ownership'"
      ]
     },
     "execution_count": 6,
     "metadata": {},
     "output_type": "execute_result"
    }
   ],
   "source": [
    "schema.col_person_home_ownership"
   ]
  },
  {
   "cell_type": "code",
   "execution_count": 7,
   "metadata": {},
   "outputs": [
    {
     "data": {
      "text/plain": [
       "('loan_intent_DEBTCONSOLIDATION',\n",
       " 'loan_intent_VENTURE',\n",
       " 'loan_intent_PERSONAL',\n",
       " 'loan_intent_EDUCATION',\n",
       " 'loan_intent_HOMEIMPROVEMENT',\n",
       " 'loan_intent_MEDICAL')"
      ]
     },
     "execution_count": 7,
     "metadata": {},
     "output_type": "execute_result"
    }
   ],
   "source": [
    "schema.col_loan_intent_DEBTCONSOLIDATION,schema.col_loan_intent_VENTURE,schema.col_loan_intent_PERSONAL,schema.col_loan_intent_EDUCATION,schema.col_loan_intent_HOMEIMPROVEMENT,schema.col_loan_intent_MEDICAL"
   ]
  },
  {
   "cell_type": "code",
   "execution_count": 8,
   "metadata": {},
   "outputs": [
    {
     "data": {
      "text/plain": [
       "'loan_intent'"
      ]
     },
     "execution_count": 8,
     "metadata": {},
     "output_type": "execute_result"
    }
   ],
   "source": [
    "schema.col_loan_intent"
   ]
  },
  {
   "cell_type": "code",
   "execution_count": 9,
   "metadata": {},
   "outputs": [
    {
     "data": {
      "text/plain": [
       "('loan_grade_F',\n",
       " 'loan_grade_E',\n",
       " 'loan_grade_B',\n",
       " 'loan_grade_D',\n",
       " 'loan_grade_C',\n",
       " 'loan_grade_A',\n",
       " 'loan_grade_G')"
      ]
     },
     "execution_count": 9,
     "metadata": {},
     "output_type": "execute_result"
    }
   ],
   "source": [
    "schema.col_loan_grade_F,schema.col_loan_grade_E,schema.col_loan_grade_B,schema.col_loan_grade_D,schema.col_loan_grade_C,schema.col_loan_grade_A,schema.col_loan_grade_G"
   ]
  },
  {
   "cell_type": "code",
   "execution_count": 10,
   "metadata": {},
   "outputs": [
    {
     "data": {
      "text/plain": [
       "'cb_person_default_on_file'"
      ]
     },
     "execution_count": 10,
     "metadata": {},
     "output_type": "execute_result"
    }
   ],
   "source": [
    "str(schema.col_cb_person_default_on_file)"
   ]
  },
  {
   "cell_type": "code",
   "execution_count": 17,
   "metadata": {},
   "outputs": [],
   "source": []
  },
  {
   "cell_type": "code",
   "execution_count": 3,
   "metadata": {},
   "outputs": [
    {
     "ename": "NameError",
     "evalue": "name 'List' is not defined",
     "output_type": "error",
     "traceback": [
      "\u001b[0;31m---------------------------------------------------------------------------\u001b[0m",
      "\u001b[0;31mNameError\u001b[0m                                 Traceback (most recent call last)",
      "Cell \u001b[0;32mIn[3], line 2\u001b[0m\n\u001b[1;32m      1\u001b[0m \u001b[38;5;129m@property\u001b[39m\n\u001b[0;32m----> 2\u001b[0m \u001b[38;5;28;01mdef\u001b[39;00m \u001b[38;5;21mrequired_scaling_columns\u001b[39m(\u001b[38;5;28mself\u001b[39m) \u001b[38;5;241m-\u001b[39m\u001b[38;5;241m>\u001b[39m \u001b[43mList\u001b[49m[\u001b[38;5;28mstr\u001b[39m]:\n\u001b[1;32m      3\u001b[0m     features  \u001b[38;5;241m=\u001b[39m[\u001b[38;5;28mself\u001b[39m\u001b[38;5;241m.\u001b[39mcol_person_age,\n\u001b[1;32m      4\u001b[0m                 \u001b[38;5;28mself\u001b[39m\u001b[38;5;241m.\u001b[39mcol_person_income,\n\u001b[1;32m      5\u001b[0m                 \u001b[38;5;28mself\u001b[39m\u001b[38;5;241m.\u001b[39mcol_person_emp_length,\n\u001b[0;32m   (...)\u001b[0m\n\u001b[1;32m      9\u001b[0m                 \u001b[38;5;28mself\u001b[39m\u001b[38;5;241m.\u001b[39mcol_loan_to_emp_length_ratio,\n\u001b[1;32m     10\u001b[0m                 \u001b[38;5;28mself\u001b[39m\u001b[38;5;241m.\u001b[39mcol_int_rate_to_loan_amt_ratio]\n\u001b[1;32m     11\u001b[0m     \u001b[38;5;28;01mreturn\u001b[39;00m features\n",
      "\u001b[0;31mNameError\u001b[0m: name 'List' is not defined"
     ]
    }
   ],
   "source": [
    "    @property\n",
    "    def required_scaling_columns(self) -> List[str]:\n",
    "        features  =[self.col_person_age,\n",
    "                    self.col_person_income,\n",
    "                    self.col_person_emp_length,\n",
    "                    self.col_loan_amnt,\n",
    "                    self.col_loan_int_rate,\n",
    "                    self.col_cb_person_cred_hist_length,\n",
    "                    self.col_loan_to_emp_length_ratio,\n",
    "                    self.col_int_rate_to_loan_amt_ratio]\n",
    "        return features"
   ]
  },
  {
   "cell_type": "code",
   "execution_count": 4,
   "metadata": {},
   "outputs": [
    {
     "ename": "IndentationError",
     "evalue": "unexpected indent (2383122615.py, line 2)",
     "output_type": "error",
     "traceback": [
      "\u001b[0;36m  Cell \u001b[0;32mIn[4], line 2\u001b[0;36m\u001b[0m\n\u001b[0;31m    self.col_scaled_person_age = 'scaled_person_age'\u001b[0m\n\u001b[0m    ^\u001b[0m\n\u001b[0;31mIndentationError\u001b[0m\u001b[0;31m:\u001b[0m unexpected indent\n"
     ]
    }
   ],
   "source": [
    " #scaled\n",
    "        self.col_scaled_person_age = 'scaled_person_age' \n",
    "        self.col_scaled_person_income = 'scaled_person_income'\n",
    "        self.col_scaled_person_emp_length = 'scaled_person_emp_length'\n",
    "        self.col_scaled_loan_amnt = 'scaled_loan_amnt'\n",
    "        self.col_scaled_loan_int_rate ='scaled_loan_int_rate'\n",
    "        self.col_scaled_cb_person_cred_hist_length = 'scaled_cb_person_cred_hist_length'\n",
    "        self.col_scaled_loan_to_emp_length_ratio = 'scaled_loan_to_emp_length_ratio'\n",
    "        self.col_scaled_int_rate_to_loan_amt_ratio = 'scaled_int_rate_to_loan_amt_ratio'"
   ]
  },
  {
   "cell_type": "code",
   "execution_count": null,
   "metadata": {},
   "outputs": [],
   "source": []
  }
 ],
 "metadata": {
  "kernelspec": {
   "display_name": "Python 3",
   "language": "python",
   "name": "python3"
  },
  "language_info": {
   "codemirror_mode": {
    "name": "ipython",
    "version": 3
   },
   "file_extension": ".py",
   "mimetype": "text/x-python",
   "name": "python",
   "nbconvert_exporter": "python",
   "pygments_lexer": "ipython3",
   "version": "3.10.14"
  }
 },
 "nbformat": 4,
 "nbformat_minor": 2
}
