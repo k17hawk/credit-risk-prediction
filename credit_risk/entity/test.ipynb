{
 "cells": [
  {
   "cell_type": "code",
   "execution_count": 18,
   "metadata": {},
   "outputs": [
    {
     "name": "stdout",
     "output_type": "stream",
     "text": [
      "['cb_person_default_on_file', 'person_home_ownership', 'loan_intent', 'loan_grade', 'income_group', 'age_group', 'loan_amount_group']\n"
     ]
    }
   ],
   "source": [
    "from schema import CreditRiskDataSchema\n",
    "\n",
    "schema = CreditRiskDataSchema()\n",
    "one_hot_features = schema.required_oneHot_features()  \n",
    "print(one_hot_features)\n"
   ]
  },
  {
   "cell_type": "code",
   "execution_count": 15,
   "metadata": {},
   "outputs": [
    {
     "data": {
      "text/plain": [
       "'cb_person_default_on_file'"
      ]
     },
     "execution_count": 15,
     "metadata": {},
     "output_type": "execute_result"
    }
   ],
   "source": [
    "encoding_columns=schema.col_cb_person_default_on_file\n",
    "\n",
    "encoding_columns"
   ]
  },
  {
   "cell_type": "code",
   "execution_count": 16,
   "metadata": {},
   "outputs": [
    {
     "name": "stdout",
     "output_type": "stream",
     "text": [
      "found\n"
     ]
    }
   ],
   "source": [
    "if encoding_columns not in one_hot_features:\n",
    "    print(\"not found\")\n",
    "else:\n",
    "    print('found')"
   ]
  },
  {
   "cell_type": "code",
   "execution_count": null,
   "metadata": {},
   "outputs": [],
   "source": []
  },
  {
   "cell_type": "code",
   "execution_count": 2,
   "metadata": {},
   "outputs": [
    {
     "data": {
      "text/plain": [
       "('cb_person_default_on_file_N', 'cb_person_default_on_file_Y')"
      ]
     },
     "execution_count": 2,
     "metadata": {},
     "output_type": "execute_result"
    }
   ],
   "source": [
    "schema.col_cb_person_default_on_file_N,schema.col_cb_person_default_on_file_Y"
   ]
  },
  {
   "cell_type": "code",
   "execution_count": 3,
   "metadata": {},
   "outputs": [
    {
     "data": {
      "text/plain": [
       "'cb_person_default_on_file'"
      ]
     },
     "execution_count": 3,
     "metadata": {},
     "output_type": "execute_result"
    }
   ],
   "source": [
    "schema.col_cb_person_default_on_file"
   ]
  },
  {
   "cell_type": "code",
   "execution_count": 5,
   "metadata": {},
   "outputs": [
    {
     "data": {
      "text/plain": [
       "('person_home_ownership_MORTGAGE',\n",
       " 'person_home_ownership_RENT',\n",
       " 'person_home_ownership_OTHER',\n",
       " 'person_home_ownership_OWN')"
      ]
     },
     "execution_count": 5,
     "metadata": {},
     "output_type": "execute_result"
    }
   ],
   "source": [
    "schema.col_person_home_ownership_MORTGAGE,schema.col_person_home_ownership_RENT,schema.col_person_home_ownership_OTHER,schema.col_person_home_ownership_OWN"
   ]
  },
  {
   "cell_type": "code",
   "execution_count": 6,
   "metadata": {},
   "outputs": [
    {
     "data": {
      "text/plain": [
       "'person_home_ownership'"
      ]
     },
     "execution_count": 6,
     "metadata": {},
     "output_type": "execute_result"
    }
   ],
   "source": [
    "schema.col_person_home_ownership"
   ]
  },
  {
   "cell_type": "code",
   "execution_count": 7,
   "metadata": {},
   "outputs": [
    {
     "data": {
      "text/plain": [
       "('loan_intent_DEBTCONSOLIDATION',\n",
       " 'loan_intent_VENTURE',\n",
       " 'loan_intent_PERSONAL',\n",
       " 'loan_intent_EDUCATION',\n",
       " 'loan_intent_HOMEIMPROVEMENT',\n",
       " 'loan_intent_MEDICAL')"
      ]
     },
     "execution_count": 7,
     "metadata": {},
     "output_type": "execute_result"
    }
   ],
   "source": [
    "schema.col_loan_intent_DEBTCONSOLIDATION,schema.col_loan_intent_VENTURE,schema.col_loan_intent_PERSONAL,schema.col_loan_intent_EDUCATION,schema.col_loan_intent_HOMEIMPROVEMENT,schema.col_loan_intent_MEDICAL"
   ]
  },
  {
   "cell_type": "code",
   "execution_count": 8,
   "metadata": {},
   "outputs": [
    {
     "data": {
      "text/plain": [
       "'loan_intent'"
      ]
     },
     "execution_count": 8,
     "metadata": {},
     "output_type": "execute_result"
    }
   ],
   "source": [
    "schema.col_loan_intent"
   ]
  },
  {
   "cell_type": "code",
   "execution_count": 9,
   "metadata": {},
   "outputs": [
    {
     "data": {
      "text/plain": [
       "('loan_grade_F',\n",
       " 'loan_grade_E',\n",
       " 'loan_grade_B',\n",
       " 'loan_grade_D',\n",
       " 'loan_grade_C',\n",
       " 'loan_grade_A',\n",
       " 'loan_grade_G')"
      ]
     },
     "execution_count": 9,
     "metadata": {},
     "output_type": "execute_result"
    }
   ],
   "source": [
    "schema.col_loan_grade_F,schema.col_loan_grade_E,schema.col_loan_grade_B,schema.col_loan_grade_D,schema.col_loan_grade_C,schema.col_loan_grade_A,schema.col_loan_grade_G"
   ]
  },
  {
   "cell_type": "code",
   "execution_count": 10,
   "metadata": {},
   "outputs": [
    {
     "data": {
      "text/plain": [
       "'cb_person_default_on_file'"
      ]
     },
     "execution_count": 10,
     "metadata": {},
     "output_type": "execute_result"
    }
   ],
   "source": [
    "str(schema.col_cb_person_default_on_file)"
   ]
  },
  {
   "cell_type": "code",
   "execution_count": 17,
   "metadata": {},
   "outputs": [],
   "source": []
  },
  {
   "cell_type": "code",
   "execution_count": null,
   "metadata": {},
   "outputs": [],
   "source": []
  }
 ],
 "metadata": {
  "kernelspec": {
   "display_name": "Python 3",
   "language": "python",
   "name": "python3"
  },
  "language_info": {
   "codemirror_mode": {
    "name": "ipython",
    "version": 3
   },
   "file_extension": ".py",
   "mimetype": "text/x-python",
   "name": "python",
   "nbconvert_exporter": "python",
   "pygments_lexer": "ipython3",
   "version": "3.10.14"
  }
 },
 "nbformat": 4,
 "nbformat_minor": 2
}
